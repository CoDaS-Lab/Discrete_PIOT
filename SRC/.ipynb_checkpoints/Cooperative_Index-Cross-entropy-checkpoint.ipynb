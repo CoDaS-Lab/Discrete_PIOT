{
 "cells": [
  {
   "cell_type": "code",
   "execution_count": 1,
   "metadata": {},
   "outputs": [],
   "source": [
    "import sys\n",
    "import os\n",
    "sys.path.append('../SRC')\n",
    "from PIOT_imports import *\n",
    "import pickle\n",
    "from tqdm import tqdm\n",
    "from torch.distributions import Dirichlet\n",
    "from numpy.random import uniform\n",
    "import random"
   ]
  },
  {
   "cell_type": "code",
   "execution_count": 8,
   "metadata": {},
   "outputs": [],
   "source": [
    "from PIOT_PSGD import *\n",
    "\n",
    "def get_team_data_exclude_none(year, team1, load_folder = '../NBA/data/team_data/'):\n",
    "    \n",
    "    player_transfer_path = '../NBA/data/player_transfer/player_transfer_all_years.pkl'\n",
    "    with open(player_transfer_path, 'rb') as f:\n",
    "        player_transfer = pickle.load(f)\n",
    "        \n",
    "    y_str_minus_1 = str(year-1)\n",
    "    y_str = str(year)\n",
    "    team_composite = [team1]\n",
    "\n",
    "    pre_team = find_pre_team(player_transfer, year, team1)\n",
    "\n",
    "    with open(load_folder + '{}_{}.pkl'.format(team1, y_str), 'rb') as f:\n",
    "        data_cur_season = pickle.load(f).reset_index()\n",
    "\n",
    "    data_pre_season = {}\n",
    "    with open(load_folder + '{}_{}.pkl'.format(team1, y_str_minus_1), 'rb') as f:\n",
    "        data_pre_season[team1] = pickle.load(f).reset_index()\n",
    "\n",
    "    for p, t in pre_team:\n",
    "        team_composite.append(t)\n",
    "        with open(load_folder + '{}_{}.pkl'.format(t, y_str_minus_1), 'rb') as f:\n",
    "            data_tmp = pickle.load(f).reset_index()\n",
    "        data_pre_season[t] = data_tmp\n",
    "\n",
    "    players_cur = pd.DataFrame(data_cur_season[\"Player\"])\n",
    "    players_pre = pd.DataFrame(data_pre_season[team1][\"Player\"])\n",
    "\n",
    "    for t in team_composite:\n",
    "        players_cur[t] = find_index(players_cur, data_pre_season[t])\n",
    "\n",
    "    idx_cost_mat = []\n",
    "    marginal_exclusion = []\n",
    "    for idx in range(len(players_cur)):\n",
    "        tf = False\n",
    "        for t in team_composite:\n",
    "            if players_cur.iloc[idx][t] != -1:\n",
    "                tf = True\n",
    "                break\n",
    "        if tf:\n",
    "            idx_cost_mat.append((idx, t, players_cur.iloc[idx][t])) \n",
    "        else:\n",
    "            marginal_exclusion.append(idx)\n",
    "            \n",
    "    cols = ['PTS','ORB','DRB','AST','STL']\n",
    "\n",
    "    # Get ground truth T\n",
    "    \n",
    "    T_truth = data_cur_season[cols].drop(index = marginal_exclusion)\n",
    "    T_truth = T_truth / T_truth.sum(axis=0)\n",
    "    T_truth = data_to_mat(T_truth)\n",
    "\n",
    "    return T_truth\n",
    "\n",
    "def get_team_data(year, team1, load_folder = '../NBA/data/team_data/'):\n",
    "    \n",
    "    y_str = str(year)\n",
    "    with open(load_folder + '{}_{}.pkl'.format(team1, y_str), 'rb') as f:\n",
    "        data_cur_season = pickle.load(f).reset_index()\n",
    "\n",
    "            \n",
    "    cols = ['PTS','ORB','DRB','AST','STL']\n",
    "\n",
    "    # Get ground truth T\n",
    "    \n",
    "    T_truth = data_cur_season[cols]\n",
    "    T_truth = T_truth / T_truth.sum(axis=0)\n",
    "    T_truth = data_to_mat(T_truth)\n",
    "\n",
    "    return T_truth\n",
    "\n",
    "def get_K_matrices(year, team):\n",
    "    pkl_file = open('../NBA/data_K/{}/{}/K_{}_{}.pkl'.format(str(year), team, team, str(year)), 'rb')\n",
    "    return pickle.load(pkl_file)\n"
   ]
  },
  {
   "cell_type": "code",
   "execution_count": 14,
   "metadata": {},
   "outputs": [],
   "source": [
    "team_list = get_team_list()\n",
    "year = 2019\n",
    "data_T = {}\n",
    "data_K = {}\n",
    "\n",
    "for team in team_list:\n",
    "    try:\n",
    "        T = get_team_data(2019, team)\n",
    "        data_T[team] = T\n",
    "        data_K[team] = get_K_matrices(2019, team)\n",
    "    except:\n",
    "         pass"
   ]
  },
  {
   "cell_type": "code",
   "execution_count": 15,
   "metadata": {},
   "outputs": [
    {
     "data": {
      "text/plain": [
       "tensor([[6.0136e-03, 1.4612e-02, 1.0173e-02, 2.5441e-03, 1.4015e-02],\n",
       "        [4.5659e-04, 4.2466e-04, 6.2538e-04, 2.8342e-04, 8.8249e-04],\n",
       "        [1.7073e-02, 2.5583e-02, 3.6208e-02, 1.5908e-02, 4.5570e-02],\n",
       "        [7.5391e-08, 7.3277e-08, 1.0301e-07, 3.5084e-08, 1.0542e-07],\n",
       "        [3.0124e-02, 1.0000e-01, 4.6114e-02, 9.6726e-03, 1.0657e-02],\n",
       "        [3.7101e-02, 9.8834e-02, 9.7585e-02, 1.5057e-02, 6.5172e-02],\n",
       "        [1.0883e-03, 1.6140e-03, 1.3505e-03, 1.0186e-03, 1.7415e-03],\n",
       "        [5.9301e-02, 2.0174e-01, 9.0027e-02, 1.8398e-02, 3.6855e-02],\n",
       "        [2.0351e-01, 1.0260e-01, 1.8314e-01, 2.0840e-01, 2.2961e-01],\n",
       "        [1.5186e-01, 8.0909e-02, 1.7331e-01, 7.3955e-02, 1.9401e-01],\n",
       "        [4.9350e-04, 2.4064e-03, 1.0873e-03, 2.6186e-04, 8.6554e-04],\n",
       "        [4.9298e-01, 3.7128e-01, 3.6037e-01, 6.5450e-01, 4.0062e-01]],\n",
       "       dtype=torch.float64)"
      ]
     },
     "execution_count": 15,
     "metadata": {},
     "output_type": "execute_result"
    }
   ],
   "source": [
    "data_K['ATL'][0]"
   ]
  },
  {
   "cell_type": "code",
   "execution_count": 48,
   "metadata": {},
   "outputs": [],
   "source": [
    "data_index = {}\n",
    "\n",
    "for team in data_T:\n",
    "    \n",
    "    try:\n",
    "        data_index[team] = 0.\n",
    "        N = len(data_K[team])\n",
    "        for i in range(N):\n",
    "            data_index[team] += (data_T[team]*(np.log(data_T[team])-np.log(data_K[team][i]))).sum().numpy()/N\n",
    "                \n",
    "    except:\n",
    "        pass"
   ]
  },
  {
   "cell_type": "code",
   "execution_count": 49,
   "metadata": {},
   "outputs": [],
   "source": [
    "pl = list(data_index.values())\n",
    "x = np.zeros(len(pl))"
   ]
  },
  {
   "cell_type": "markdown",
   "metadata": {},
   "source": [
    "## Collaborative Index\n",
    "\n",
    "$I(\\{K\\}, T) = \\sum_{i=1}^{N} <K_i, T> / N$"
   ]
  },
  {
   "cell_type": "code",
   "execution_count": 50,
   "metadata": {},
   "outputs": [
    {
     "data": {
      "text/plain": [
       "[10.427485102053222,\n",
       " 10.887652256591275,\n",
       " 9.281229994148624,\n",
       " 9.297683330938936,\n",
       " 13.024572515873214,\n",
       " 5.973914696558937,\n",
       " 9.667856759489307,\n",
       " 9.430783789451727,\n",
       " 12.171094211774461,\n",
       " 9.37233790850396,\n",
       " 7.41856716972924,\n",
       " 9.671855373108704,\n",
       " 9.587628922773856,\n",
       " 9.399272910876096,\n",
       " 8.086438502602562,\n",
       " 9.08007371829327,\n",
       " 9.638039947213443,\n",
       " 8.19973259441285,\n",
       " 12.087416034133472,\n",
       " 10.435504976064228,\n",
       " 9.092226900272776,\n",
       " 10.773986955006848,\n",
       " 8.653192141570301,\n",
       " 9.474408651210409,\n",
       " 9.470357989796083,\n",
       " 9.399727053091786,\n",
       " 9.519861866327062,\n",
       " 7.151347679707595,\n",
       " 10.836038178948156,\n",
       " 6.1428290380134145]"
      ]
     },
     "execution_count": 50,
     "metadata": {},
     "output_type": "execute_result"
    }
   ],
   "source": [
    "pl"
   ]
  },
  {
   "cell_type": "code",
   "execution_count": 54,
   "metadata": {},
   "outputs": [
    {
     "data": {
      "text/plain": [
       "{'CLE': 5.973914696558937,\n",
       " 'WAS': 6.1428290380134145,\n",
       " 'TOR': 7.151347679707595,\n",
       " 'HOU': 7.41856716972924,\n",
       " 'MEM': 8.086438502602562,\n",
       " 'MIN': 8.19973259441285,\n",
       " 'PHI': 8.653192141570301,\n",
       " 'MIA': 9.08007371829327,\n",
       " 'OKC': 9.092226900272776,\n",
       " 'BRK': 9.281229994148624,\n",
       " 'CHI': 9.297683330938936,\n",
       " 'GSW': 9.37233790850396,\n",
       " 'LAL': 9.399272910876096,\n",
       " 'SAC': 9.399727053091786,\n",
       " 'DEN': 9.430783789451727,\n",
       " 'POR': 9.470357989796083,\n",
       " 'PHO': 9.474408651210409,\n",
       " 'SAS': 9.519861866327062,\n",
       " 'LAC': 9.587628922773856,\n",
       " 'MIL': 9.638039947213443,\n",
       " 'DAL': 9.667856759489307,\n",
       " 'IND': 9.671855373108704,\n",
       " 'ATL': 10.427485102053222,\n",
       " 'NYK': 10.435504976064228,\n",
       " 'ORL': 10.773986955006848,\n",
       " 'UTA': 10.836038178948156,\n",
       " 'BOS': 10.887652256591275,\n",
       " 'NOP': 12.087416034133472,\n",
       " 'DET': 12.171094211774461,\n",
       " 'CHO': 13.024572515873214}"
      ]
     },
     "execution_count": 54,
     "metadata": {},
     "output_type": "execute_result"
    }
   ],
   "source": [
    "{k: v for k, v in sorted(data_index.items(), key=lambda item: item[1])}"
   ]
  },
  {
   "cell_type": "code",
   "execution_count": 51,
   "metadata": {},
   "outputs": [
    {
     "name": "stdout",
     "output_type": "stream",
     "text": [
      "ATL: 10.427\n",
      "BOS: 10.888\n",
      "BRK: 9.281\n",
      "CHI: 9.298\n",
      "CHO: 13.025\n",
      "CLE: 5.974\n",
      "DAL: 9.668\n",
      "DEN: 9.431\n",
      "DET: 12.171\n",
      "GSW: 9.372\n",
      "HOU: 7.419\n",
      "IND: 9.672\n",
      "LAC: 9.588\n",
      "LAL: 9.399\n",
      "MEM: 8.086\n",
      "MIA: 9.08\n",
      "MIL: 9.638\n",
      "MIN: 8.2\n",
      "NOP: 12.087\n",
      "NYK: 10.436\n",
      "OKC: 9.092\n",
      "ORL: 10.774\n",
      "PHI: 8.653\n",
      "PHO: 9.474\n",
      "POR: 9.47\n",
      "SAC: 9.4\n",
      "SAS: 9.52\n",
      "TOR: 7.151\n",
      "UTA: 10.836\n",
      "WAS: 6.143\n"
     ]
    }
   ],
   "source": [
    "for key in data_index:\n",
    "    I = data_index[key]\n",
    "    print(\"{}: {}\".format(key, np.round(I, 3)))"
   ]
  },
  {
   "cell_type": "markdown",
   "metadata": {},
   "source": [
    "### Quartile plot for $I(y,t)$"
   ]
  },
  {
   "cell_type": "code",
   "execution_count": 52,
   "metadata": {},
   "outputs": [
    {
     "data": {
      "text/plain": [
       "Text(0, 0.5, 'I(y,t)')"
      ]
     },
     "execution_count": 52,
     "metadata": {},
     "output_type": "execute_result"
    },
    {
     "data": {
      "image/png": "[encoded data removed]",
      "text/plain": [
       "<Figure size 432x288 with 1 Axes>"
      ]
     },
     "metadata": {
      "needs_background": "light"
     },
     "output_type": "display_data"
    }
   ],
   "source": [
    "plt.boxplot(pl, labels=[\"y=2019\"])\n",
    "plt.ylabel(\"I(y,t)\")"
   ]
  },
  {
   "cell_type": "markdown",
   "metadata": {},
   "source": [
    "### Scatter plot for $I(y,t)$, just to see the values on the same x-axis."
   ]
  },
  {
   "cell_type": "code",
   "execution_count": 53,
   "metadata": {},
   "outputs": [
    {
     "data": {
      "text/plain": [
       "Text(0, 0.5, 'I(y,t)')"
      ]
     },
     "execution_count": 53,
     "metadata": {},
     "output_type": "execute_result"
    },
    {
     "data": {
      "image/png": "[encoded data removed]",
      "text/plain": [
       "<Figure size 432x288 with 1 Axes>"
      ]
     },
     "metadata": {
      "needs_background": "light"
     },
     "output_type": "display_data"
    }
   ],
   "source": [
    "plt.scatter(x, pl, marker = \"+\")\n",
    "plt.ylabel('I(y,t)')"
   ]
  },
  {
   "cell_type": "code",
   "execution_count": 24,
   "metadata": {},
   "outputs": [
    {
     "data": {
      "text/plain": [
       "tensor(0.7121, dtype=torch.float64)"
      ]
     },
     "execution_count": 24,
     "metadata": {},
     "output_type": "execute_result"
    }
   ],
   "source": [
    "(max(pl)-min(pl))/min(pl)"
   ]
  },
  {
   "cell_type": "code",
   "execution_count": 66,
   "metadata": {},
   "outputs": [
    {
     "data": {
      "text/plain": [
       "array([[0., 0.],\n",
       "       [0., 0.]])"
      ]
     },
     "execution_count": 66,
     "metadata": {},
     "output_type": "execute_result"
    }
   ],
   "source": [
    "a = np.array([[1.0, 1e-5], [1e-5, 1.0]])\n",
    "b = a\n",
    "a*(np.log(a)-np.log(b))"
   ]
  },
  {
   "cell_type": "code",
   "execution_count": 67,
   "metadata": {},
   "outputs": [
    {
     "data": {
      "text/plain": [
       "array([[1.e+00, 1.e-10],\n",
       "       [1.e-10, 1.e+00]])"
      ]
     },
     "execution_count": 67,
     "metadata": {},
     "output_type": "execute_result"
    }
   ],
   "source": [
    "a*b"
   ]
  },
  {
   "cell_type": "code",
   "execution_count": 63,
   "metadata": {},
   "outputs": [
    {
     "data": {
      "text/plain": [
       "array([[-0.34657359, -0.34657359],\n",
       "       [-0.34657359, -0.34657359]])"
      ]
     },
     "execution_count": 63,
     "metadata": {},
     "output_type": "execute_result"
    }
   ],
   "source": [
    "c = np.array([[.5, .5], [.5, .5]])\n",
    "d = c\n",
    "c*(np.log(d))"
   ]
  },
  {
   "cell_type": "code",
   "execution_count": 65,
   "metadata": {},
   "outputs": [
    {
     "data": {
      "text/plain": [
       "1.0"
      ]
     },
     "execution_count": 65,
     "metadata": {},
     "output_type": "execute_result"
    }
   ],
   "source": [
    "(c*d).sum()"
   ]
  },
  {
   "cell_type": "code",
   "execution_count": null,
   "metadata": {},
   "outputs": [],
   "source": []
  }
 ],
 "metadata": {
  "kernelspec": {
   "display_name": "Python 3",
   "language": "python",
   "name": "python3"
  },
  "language_info": {
   "codemirror_mode": {
    "name": "ipython",
    "version": 3
   },
   "file_extension": ".py",
   "mimetype": "text/x-python",
   "name": "python",
   "nbconvert_exporter": "python",
   "pygments_lexer": "ipython3",
   "version": "3.8.5"
  }
 },
 "nbformat": 4,
 "nbformat_minor": 4
}
