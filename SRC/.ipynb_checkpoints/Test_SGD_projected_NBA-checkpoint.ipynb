{
 "cells": [
  {
   "cell_type": "code",
   "execution_count": 26,
   "metadata": {},
   "outputs": [],
   "source": [
    "import sys\n",
    "import os\n",
    "sys.path.append('../SRC')\n",
    "from PIOT_imports import *\n",
    "import pickle\n",
    "from tqdm import tqdm\n",
    "from torch.distributions import Dirichlet\n",
    "from numpy.random import uniform\n",
    "import random"
   ]
  },
  {
   "cell_type": "code",
   "execution_count": 156,
   "metadata": {},
   "outputs": [],
   "source": [
    "def row_iter(K, b, row_sum):\n",
    "    return row_sum / torch.matmul(K, torch.transpose(b, 0, -1))\n",
    "\n",
    "def col_iter(K, a, col_sum):\n",
    "    return col_sum / torch.matmul(torch.transpose(K, 0, 1), torch.transpose(a, 0, -1))\n",
    "\n",
    "def sinkhorn_torch_base(K,\n",
    "                        row_sum,\n",
    "                        col_sum,\n",
    "                        num_iter\n",
    "                        ):\n",
    "    '''\n",
    "    Sinkhorn scaling base\n",
    "    Parameters\n",
    "    ----------\n",
    "    mat     : muted torch 2-tensor of shape(n,m)\n",
    "    row_sum : immuted torch 1-tensor of size n\n",
    "    col_sum : immuted torch 1-tensor of size m\n",
    "    epsilon : tolerance of 1-norm on column-sums with rows normalized\n",
    "    max_iter: maximal iteration steps (multiples of 10)\n",
    "    Return\n",
    "    ------\n",
    "    Sinkhorn scaled matrix \n",
    "    '''\n",
    "    \n",
    "    a = torch.ones(len(row_sum))\n",
    "    b = torch.ones(len(col_sum))\n",
    "\n",
    "    while num_iter:\n",
    "        a = row_iter(K, b, row_sum)\n",
    "        b = col_iter(K, a, col_sum)\n",
    "\n",
    "        num_iter -= 1\n",
    "\n",
    "    return torch.matmul(torch.matmul(torch.diag(a), K.clone()), torch.diag(b))\n",
    "\n",
    "\n",
    "def sinkhorn_loss(K, r, c, L, nr, nc, q = None):\n",
    "    if q is None:\n",
    "        q = torch.ones(nr)\n",
    "    T = sinkhorn_torch_base(K.clone(),\n",
    "                   row_sum=r,\n",
    "                   col_sum=c,\n",
    "                   num_iter = L)\n",
    "    return (-torch.log(K)*T ).sum() \\\n",
    "            +(T*(torch.log(T)-torch.ones((nr,nc)))).sum()\\\n",
    "            +(r.sum()-torch.tensor([nc], dtype=torch.float))**2\n",
    "            #+(r*(torch.log(r)-torch.ones(nr))).sum() \n",
    "\n",
    "\n",
    "def init(nr, nc, mean, std, num_matrices):\n",
    "    matrices = []\n",
    "\n",
    "    device = 'cuda' if torch.cuda.is_available() else 'cpu'\n",
    "    #torch.manual_seed(42)\n",
    "    r = torch.ones(nr, requires_grad=True, dtype=torch.float, device=device)\n",
    "    #r = torch.normal(size = (nr,), mean = 1.0, std = 0.01, requires_grad=True, dtype=torch.float, device=device)\n",
    "    c = torch.ones(nc, requires_grad=False, dtype=torch.float, device=device)\n",
    "\n",
    "    for _ in range(num_matrices):\n",
    "        # Dirichlet ---\n",
    "        Dir = Dirichlet(0.5*torch.ones((nr, nc)))\n",
    "        new_mat = Dir.sample()\n",
    "        \n",
    "        # Gaussian ---\n",
    "        #new_mat = torch.normal(mean = mean, std = std, size = (nr, nc))\n",
    "        #new_mat = torch.normal(mean = mean*torch.ones(nr), std = std)\n",
    "        #while new_mat.min() < 0.:\n",
    "        #    new_mat = torch.normal(mean = mean, std = std, size = (nr, nc))     \n",
    "        \n",
    "        # Diagonal ---\n",
    "        #new_mat = torch.diag(new_mat)\n",
    "        #adds = torch.ones((nr, nc))*1e-15\n",
    "        #new_mat += adds\n",
    "\n",
    "        matrices.append(new_mat)\n",
    "\n",
    "    print(r)\n",
    "    print(c)\n",
    "    print(matrices[0])\n",
    "    print('\\n')\n",
    "    \n",
    "    return r, c, matrices"
   ]
  },
  {
   "cell_type": "markdown",
   "metadata": {},
   "source": [
    "## NBA matrix, random initial"
   ]
  },
  {
   "cell_type": "code",
   "execution_count": 143,
   "metadata": {},
   "outputs": [],
   "source": [
    "pkl_file = open('../NBA/data_K/2019/CLE/K_CLE_2019.pkl', 'rb')\n",
    "NBA_data =  pickle.load(pkl_file)"
   ]
  },
  {
   "cell_type": "code",
   "execution_count": 144,
   "metadata": {},
   "outputs": [],
   "source": [
    "#matrices = random.choices([a.float() for a in NBA_data], k=1000)\n",
    "matrices = [a.float() for a in NBA_data]"
   ]
  },
  {
   "cell_type": "code",
   "execution_count": 157,
   "metadata": {},
   "outputs": [
    {
     "name": "stdout",
     "output_type": "stream",
     "text": [
      "tensor([0.6250, 0.6250, 0.6250, 0.6250, 0.6250, 0.6250, 0.6250, 0.6250],\n",
      "       requires_grad=True)\n",
      "tensor([1., 1., 1., 1., 1.])\n",
      "tensor([[0.6696, 0.4384, 0.4024, 0.5702, 0.4277],\n",
      "        [0.0380, 0.0137, 0.0287, 0.0372, 0.0382],\n",
      "        [0.0943, 0.2757, 0.2509, 0.1913, 0.2306],\n",
      "        [0.1719, 0.2327, 0.2787, 0.1734, 0.2838],\n",
      "        [0.0104, 0.0053, 0.0144, 0.0124, 0.0098],\n",
      "        [0.0066, 0.0031, 0.0038, 0.0071, 0.0030],\n",
      "        [0.0053, 0.0216, 0.0133, 0.0058, 0.0053],\n",
      "        [0.0038, 0.0096, 0.0077, 0.0026, 0.0015]])\n",
      "\n",
      "\n"
     ]
    },
    {
     "ename": "TypeError",
     "evalue": "bad operand type for unary +: 'Tensor'",
     "output_type": "error",
     "traceback": [
      "\u001b[0;31m---------------------------------------------------------------------------\u001b[0m",
      "\u001b[0;31mTypeError\u001b[0m                                 Traceback (most recent call last)",
      "\u001b[0;32m<ipython-input-157-55f5d01bd25d>\u001b[0m in \u001b[0;36m<module>\u001b[0;34m\u001b[0m\n\u001b[1;32m     26\u001b[0m     \u001b[0mrunning_loss\u001b[0m \u001b[0;34m=\u001b[0m \u001b[0;36m0\u001b[0m\u001b[0;34m\u001b[0m\u001b[0;34m\u001b[0m\u001b[0m\n\u001b[1;32m     27\u001b[0m     \u001b[0;32mfor\u001b[0m \u001b[0mi\u001b[0m \u001b[0;32min\u001b[0m \u001b[0mrange\u001b[0m\u001b[0;34m(\u001b[0m\u001b[0mlen\u001b[0m\u001b[0;34m(\u001b[0m\u001b[0mmatrices\u001b[0m\u001b[0;34m)\u001b[0m\u001b[0;34m)\u001b[0m\u001b[0;34m:\u001b[0m\u001b[0;34m\u001b[0m\u001b[0;34m\u001b[0m\u001b[0m\n\u001b[0;32m---> 28\u001b[0;31m         \u001b[0mloss\u001b[0m \u001b[0;34m=\u001b[0m \u001b[0msinkhorn_loss\u001b[0m\u001b[0;34m(\u001b[0m\u001b[0mmatrices\u001b[0m\u001b[0;34m[\u001b[0m\u001b[0mi\u001b[0m\u001b[0;34m]\u001b[0m\u001b[0;34m.\u001b[0m\u001b[0mclone\u001b[0m\u001b[0;34m(\u001b[0m\u001b[0;34m)\u001b[0m\u001b[0;34m,\u001b[0m \u001b[0mr\u001b[0m\u001b[0;34m,\u001b[0m \u001b[0mc\u001b[0m\u001b[0;34m,\u001b[0m \u001b[0mL\u001b[0m\u001b[0;34m,\u001b[0m \u001b[0mnr\u001b[0m\u001b[0;34m,\u001b[0m \u001b[0mnc\u001b[0m\u001b[0;34m)\u001b[0m\u001b[0;34m\u001b[0m\u001b[0;34m\u001b[0m\u001b[0m\n\u001b[0m\u001b[1;32m     29\u001b[0m         \u001b[0moptimizer\u001b[0m\u001b[0;34m.\u001b[0m\u001b[0mzero_grad\u001b[0m\u001b[0;34m(\u001b[0m\u001b[0;34m)\u001b[0m\u001b[0;34m\u001b[0m\u001b[0;34m\u001b[0m\u001b[0m\n\u001b[1;32m     30\u001b[0m         \u001b[0mloss\u001b[0m\u001b[0;34m.\u001b[0m\u001b[0mbackward\u001b[0m\u001b[0;34m(\u001b[0m\u001b[0;34m)\u001b[0m\u001b[0;34m\u001b[0m\u001b[0;34m\u001b[0m\u001b[0m\n",
      "\u001b[0;32m<ipython-input-156-c56e662ee148>\u001b[0m in \u001b[0;36msinkhorn_loss\u001b[0;34m(K, r, c, L, nr, nc, q)\u001b[0m\n\u001b[1;32m     45\u001b[0m     \u001b[0;32mreturn\u001b[0m \u001b[0;34m(\u001b[0m\u001b[0;34m-\u001b[0m\u001b[0mtorch\u001b[0m\u001b[0;34m.\u001b[0m\u001b[0mlog\u001b[0m\u001b[0;34m(\u001b[0m\u001b[0mK\u001b[0m\u001b[0;34m)\u001b[0m\u001b[0;34m*\u001b[0m\u001b[0mT\u001b[0m \u001b[0;34m)\u001b[0m\u001b[0;34m.\u001b[0m\u001b[0msum\u001b[0m\u001b[0;34m(\u001b[0m\u001b[0;34m)\u001b[0m \u001b[0;34m+\u001b[0m\u001b[0;31m \u001b[0m\u001b[0;31m\\\u001b[0m\u001b[0;34m\u001b[0m\u001b[0;34m\u001b[0m\u001b[0m\n\u001b[1;32m     46\u001b[0m             \u001b[0;34m(\u001b[0m\u001b[0mT\u001b[0m\u001b[0;34m*\u001b[0m\u001b[0;34m(\u001b[0m\u001b[0mtorch\u001b[0m\u001b[0;34m.\u001b[0m\u001b[0mlog\u001b[0m\u001b[0;34m(\u001b[0m\u001b[0mT\u001b[0m\u001b[0;34m)\u001b[0m\u001b[0;34m-\u001b[0m\u001b[0mtorch\u001b[0m\u001b[0;34m.\u001b[0m\u001b[0mones\u001b[0m\u001b[0;34m(\u001b[0m\u001b[0;34m(\u001b[0m\u001b[0mnr\u001b[0m\u001b[0;34m,\u001b[0m\u001b[0mnc\u001b[0m\u001b[0;34m)\u001b[0m\u001b[0;34m)\u001b[0m\u001b[0;34m)\u001b[0m\u001b[0;34m)\u001b[0m\u001b[0;34m.\u001b[0m\u001b[0msum\u001b[0m\u001b[0;34m(\u001b[0m\u001b[0;34m)\u001b[0m\u001b[0;34m+\u001b[0m\u001b[0;31m \u001b[0m\u001b[0;31m\\\u001b[0m\u001b[0;34m\u001b[0m\u001b[0;34m\u001b[0m\u001b[0m\n\u001b[0;32m---> 47\u001b[0;31m             \u001b[0;34m+\u001b[0m \u001b[0;34m(\u001b[0m\u001b[0mr\u001b[0m\u001b[0;34m.\u001b[0m\u001b[0msum\u001b[0m\u001b[0;34m(\u001b[0m\u001b[0;34m)\u001b[0m\u001b[0;34m-\u001b[0m\u001b[0mtorch\u001b[0m\u001b[0;34m.\u001b[0m\u001b[0mtensor\u001b[0m\u001b[0;34m(\u001b[0m\u001b[0;34m[\u001b[0m\u001b[0mnc\u001b[0m\u001b[0;34m]\u001b[0m\u001b[0;34m,\u001b[0m \u001b[0mdtype\u001b[0m\u001b[0;34m=\u001b[0m\u001b[0mtorch\u001b[0m\u001b[0;34m.\u001b[0m\u001b[0mfloat\u001b[0m\u001b[0;34m)\u001b[0m\u001b[0;34m)\u001b[0m\u001b[0;34m**\u001b[0m\u001b[0;36m2\u001b[0m\u001b[0;34m\u001b[0m\u001b[0;34m\u001b[0m\u001b[0m\n\u001b[0m\u001b[1;32m     48\u001b[0m             \u001b[0;31m#(r*(torch.log(r)-torch.ones(nr))).sum()\u001b[0m\u001b[0;34m\u001b[0m\u001b[0;34m\u001b[0m\u001b[0;34m\u001b[0m\u001b[0m\n\u001b[1;32m     49\u001b[0m \u001b[0;34m\u001b[0m\u001b[0m\n",
      "\u001b[0;31mTypeError\u001b[0m: bad operand type for unary +: 'Tensor'"
     ]
    }
   ],
   "source": [
    "nr, nc = len(matrices[0]), len(matrices[0][0])\n",
    "\n",
    "L = 50\n",
    "lr = 0.01\n",
    "num_epoch = 3\n",
    "\n",
    "device = 'cuda' if torch.cuda.is_available() else 'cpu'\n",
    "vec = torch.ones(nr)\n",
    "vec = vec/vec.sum()*nc\n",
    "r = torch.tensor(vec, requires_grad=True, dtype=torch.float, device=device)\n",
    "c = torch.ones(nc, requires_grad=False, dtype=torch.float, device=device)\n",
    "\n",
    "\n",
    "print(r)\n",
    "print(c)\n",
    "print(matrices[0])\n",
    "print('\\n')\n",
    "\n",
    "optimizer = torch.optim.RMSprop([r], lr=lr)\n",
    "\n",
    "data_loss = []\n",
    "data_r = []\n",
    "data_c = []\n",
    "\n",
    "for epoch in range(num_epoch):\n",
    "    running_loss = 0\n",
    "    for i in range(len(matrices)):\n",
    "        loss = sinkhorn_loss(matrices[i].clone(), r, c, L, nr, nc)\n",
    "        optimizer.zero_grad()\n",
    "        loss.backward()\n",
    "        optimizer.step()\n",
    "        with torch.no_grad():\n",
    "            for param in [r]:\n",
    "                param[:] = param.clamp(1e-15, 10)\n",
    "                #param[:] = param / param.sum() * nc\n",
    "        \n",
    "        running_loss += loss.item()\n",
    "        \n",
    "    data_loss.append(running_loss)\n",
    "    data_r.append(r.cpu().detach().clone().numpy())\n",
    "    data_c.append(c.cpu().detach().clone().numpy())\n",
    "        \n",
    "    print('Epoch {}'.format(epoch))\n",
    "    print('Loss: {}'.format(running_loss))\n",
    "    print('r: {}'.format(r))\n",
    "    print(r.sum().detach().numpy())\n",
    "    print('c: {}'.format(c))\n",
    "    print('\\n')\n",
    "    \n",
    "print(data_r[-1])\n",
    "print(data_r[-1].sum())\n",
    "\n",
    "fig, ax = plt.subplots(1, 2, figsize = (10, 5))\n",
    "\n",
    "ax[0].plot(data_loss)\n",
    "ax[0].set_title('Loss')\n",
    "ax[1].plot(data_r)\n",
    "ax[1].set_title('Marginal')\n",
    "fig.tight_layout()"
   ]
  },
  {
   "cell_type": "code",
   "execution_count": 129,
   "metadata": {},
   "outputs": [
    {
     "data": {
      "text/html": [
       "<div>\n",
       "<style scoped>\n",
       "    .dataframe tbody tr th:only-of-type {\n",
       "        vertical-align: middle;\n",
       "    }\n",
       "\n",
       "    .dataframe tbody tr th {\n",
       "        vertical-align: top;\n",
       "    }\n",
       "\n",
       "    .dataframe thead th {\n",
       "        text-align: right;\n",
       "    }\n",
       "</style>\n",
       "<table border=\"1\" class=\"dataframe\">\n",
       "  <thead>\n",
       "    <tr style=\"text-align: right;\">\n",
       "      <th></th>\n",
       "      <th>PTS</th>\n",
       "      <th>ORB</th>\n",
       "      <th>DRB</th>\n",
       "      <th>AST</th>\n",
       "      <th>STL</th>\n",
       "    </tr>\n",
       "  </thead>\n",
       "  <tbody>\n",
       "    <tr>\n",
       "      <th>138</th>\n",
       "      <td>16.8</td>\n",
       "      <td>1.0</td>\n",
       "      <td>2.3</td>\n",
       "      <td>2.4</td>\n",
       "      <td>0.7</td>\n",
       "    </tr>\n",
       "    <tr>\n",
       "      <th>306</th>\n",
       "      <td>12.2</td>\n",
       "      <td>0.4</td>\n",
       "      <td>2.1</td>\n",
       "      <td>2.0</td>\n",
       "      <td>0.8</td>\n",
       "    </tr>\n",
       "    <tr>\n",
       "      <th>498</th>\n",
       "      <td>9.4</td>\n",
       "      <td>2.5</td>\n",
       "      <td>5.7</td>\n",
       "      <td>3.2</td>\n",
       "      <td>1.5</td>\n",
       "    </tr>\n",
       "    <tr>\n",
       "      <th>510</th>\n",
       "      <td>6.5</td>\n",
       "      <td>0.8</td>\n",
       "      <td>2.4</td>\n",
       "      <td>1.1</td>\n",
       "      <td>0.7</td>\n",
       "    </tr>\n",
       "    <tr>\n",
       "      <th>519</th>\n",
       "      <td>13.0</td>\n",
       "      <td>0.6</td>\n",
       "      <td>4.1</td>\n",
       "      <td>2.6</td>\n",
       "      <td>0.8</td>\n",
       "    </tr>\n",
       "    <tr>\n",
       "      <th>590</th>\n",
       "      <td>16.7</td>\n",
       "      <td>0.7</td>\n",
       "      <td>2.2</td>\n",
       "      <td>3.0</td>\n",
       "      <td>0.5</td>\n",
       "    </tr>\n",
       "    <tr>\n",
       "      <th>645</th>\n",
       "      <td>10.9</td>\n",
       "      <td>4.0</td>\n",
       "      <td>6.2</td>\n",
       "      <td>2.0</td>\n",
       "      <td>0.7</td>\n",
       "    </tr>\n",
       "    <tr>\n",
       "      <th>704</th>\n",
       "      <td>7.8</td>\n",
       "      <td>1.8</td>\n",
       "      <td>3.6</td>\n",
       "      <td>0.9</td>\n",
       "      <td>0.2</td>\n",
       "    </tr>\n",
       "  </tbody>\n",
       "</table>\n",
       "</div>"
      ],
      "text/plain": [
       "      PTS  ORB  DRB  AST  STL\n",
       "138  16.8  1.0  2.3  2.4  0.7\n",
       "306  12.2  0.4  2.1  2.0  0.8\n",
       "498   9.4  2.5  5.7  3.2  1.5\n",
       "510   6.5  0.8  2.4  1.1  0.7\n",
       "519  13.0  0.6  4.1  2.6  0.8\n",
       "590  16.7  0.7  2.2  3.0  0.5\n",
       "645  10.9  4.0  6.2  2.0  0.7\n",
       "704   7.8  1.8  3.6  0.9  0.2"
      ]
     },
     "execution_count": 129,
     "metadata": {},
     "output_type": "execute_result"
    }
   ],
   "source": [
    "pkl_file_g = open('../NBA/data/team_data/CLE_2019.pkl', 'rb')\n",
    "NBA_data_g = pickle.load(pkl_file_g)\n",
    "\n",
    "features = ['PTS', 'ORB', 'DRB', 'AST', 'STL']\n",
    "data = NBA_data_g[features]\n",
    "data"
   ]
  },
  {
   "cell_type": "code",
   "execution_count": 130,
   "metadata": {},
   "outputs": [
    {
     "data": {
      "text/html": [
       "<div>\n",
       "<style scoped>\n",
       "    .dataframe tbody tr th:only-of-type {\n",
       "        vertical-align: middle;\n",
       "    }\n",
       "\n",
       "    .dataframe tbody tr th {\n",
       "        vertical-align: top;\n",
       "    }\n",
       "\n",
       "    .dataframe thead th {\n",
       "        text-align: right;\n",
       "    }\n",
       "</style>\n",
       "<table border=\"1\" class=\"dataframe\">\n",
       "  <thead>\n",
       "    <tr style=\"text-align: right;\">\n",
       "      <th></th>\n",
       "      <th>PTS</th>\n",
       "      <th>ORB</th>\n",
       "      <th>DRB</th>\n",
       "      <th>AST</th>\n",
       "      <th>STL</th>\n",
       "    </tr>\n",
       "  </thead>\n",
       "  <tbody>\n",
       "    <tr>\n",
       "      <th>138</th>\n",
       "      <td>0.180064</td>\n",
       "      <td>0.084746</td>\n",
       "      <td>0.080420</td>\n",
       "      <td>0.139535</td>\n",
       "      <td>0.118644</td>\n",
       "    </tr>\n",
       "    <tr>\n",
       "      <th>306</th>\n",
       "      <td>0.130761</td>\n",
       "      <td>0.033898</td>\n",
       "      <td>0.073427</td>\n",
       "      <td>0.116279</td>\n",
       "      <td>0.135593</td>\n",
       "    </tr>\n",
       "    <tr>\n",
       "      <th>498</th>\n",
       "      <td>0.100750</td>\n",
       "      <td>0.211864</td>\n",
       "      <td>0.199301</td>\n",
       "      <td>0.186047</td>\n",
       "      <td>0.254237</td>\n",
       "    </tr>\n",
       "    <tr>\n",
       "      <th>510</th>\n",
       "      <td>0.069668</td>\n",
       "      <td>0.067797</td>\n",
       "      <td>0.083916</td>\n",
       "      <td>0.063953</td>\n",
       "      <td>0.118644</td>\n",
       "    </tr>\n",
       "    <tr>\n",
       "      <th>519</th>\n",
       "      <td>0.139335</td>\n",
       "      <td>0.050847</td>\n",
       "      <td>0.143357</td>\n",
       "      <td>0.151163</td>\n",
       "      <td>0.135593</td>\n",
       "    </tr>\n",
       "    <tr>\n",
       "      <th>590</th>\n",
       "      <td>0.178992</td>\n",
       "      <td>0.059322</td>\n",
       "      <td>0.076923</td>\n",
       "      <td>0.174419</td>\n",
       "      <td>0.084746</td>\n",
       "    </tr>\n",
       "    <tr>\n",
       "      <th>645</th>\n",
       "      <td>0.116827</td>\n",
       "      <td>0.338983</td>\n",
       "      <td>0.216783</td>\n",
       "      <td>0.116279</td>\n",
       "      <td>0.118644</td>\n",
       "    </tr>\n",
       "    <tr>\n",
       "      <th>704</th>\n",
       "      <td>0.083601</td>\n",
       "      <td>0.152542</td>\n",
       "      <td>0.125874</td>\n",
       "      <td>0.052326</td>\n",
       "      <td>0.033898</td>\n",
       "    </tr>\n",
       "  </tbody>\n",
       "</table>\n",
       "</div>"
      ],
      "text/plain": [
       "          PTS       ORB       DRB       AST       STL\n",
       "138  0.180064  0.084746  0.080420  0.139535  0.118644\n",
       "306  0.130761  0.033898  0.073427  0.116279  0.135593\n",
       "498  0.100750  0.211864  0.199301  0.186047  0.254237\n",
       "510  0.069668  0.067797  0.083916  0.063953  0.118644\n",
       "519  0.139335  0.050847  0.143357  0.151163  0.135593\n",
       "590  0.178992  0.059322  0.076923  0.174419  0.084746\n",
       "645  0.116827  0.338983  0.216783  0.116279  0.118644\n",
       "704  0.083601  0.152542  0.125874  0.052326  0.033898"
      ]
     },
     "execution_count": 130,
     "metadata": {},
     "output_type": "execute_result"
    }
   ],
   "source": [
    "data = data/data.sum(axis=0)\n",
    "data"
   ]
  },
  {
   "cell_type": "code",
   "execution_count": 131,
   "metadata": {},
   "outputs": [
    {
     "data": {
      "text/plain": [
       "138    0.603409\n",
       "306    0.489958\n",
       "498    0.952199\n",
       "510    0.403978\n",
       "519    0.620296\n",
       "590    0.574402\n",
       "645    0.907517\n",
       "704    0.448242\n",
       "dtype: float64"
      ]
     },
     "execution_count": 131,
     "metadata": {},
     "output_type": "execute_result"
    }
   ],
   "source": [
    "mu = data.sum(axis=1)\n",
    "mu"
   ]
  },
  {
   "cell_type": "code",
   "execution_count": 151,
   "metadata": {},
   "outputs": [],
   "source": [
    "pred = [0.6530, 0.7374, 0.6574, 0.6142, 0.5804, 0.4736, 0.6954, 0.5885]\n",
    "\n",
    "r_pred = pd.DataFrame([np.round(pred, 7), mu])"
   ]
  },
  {
   "cell_type": "code",
   "execution_count": 152,
   "metadata": {},
   "outputs": [
    {
     "data": {
      "text/html": [
       "<div>\n",
       "<style scoped>\n",
       "    .dataframe tbody tr th:only-of-type {\n",
       "        vertical-align: middle;\n",
       "    }\n",
       "\n",
       "    .dataframe tbody tr th {\n",
       "        vertical-align: top;\n",
       "    }\n",
       "\n",
       "    .dataframe thead th {\n",
       "        text-align: right;\n",
       "    }\n",
       "</style>\n",
       "<table border=\"1\" class=\"dataframe\">\n",
       "  <thead>\n",
       "    <tr style=\"text-align: right;\">\n",
       "      <th></th>\n",
       "      <th>0</th>\n",
       "      <th>1</th>\n",
       "      <th>2</th>\n",
       "      <th>3</th>\n",
       "      <th>4</th>\n",
       "      <th>5</th>\n",
       "      <th>6</th>\n",
       "      <th>7</th>\n",
       "    </tr>\n",
       "  </thead>\n",
       "  <tbody>\n",
       "    <tr>\n",
       "      <th>0</th>\n",
       "      <td>0.653000</td>\n",
       "      <td>0.737400</td>\n",
       "      <td>0.657400</td>\n",
       "      <td>0.614200</td>\n",
       "      <td>0.580400</td>\n",
       "      <td>0.473600</td>\n",
       "      <td>0.695400</td>\n",
       "      <td>0.588500</td>\n",
       "    </tr>\n",
       "    <tr>\n",
       "      <th>1</th>\n",
       "      <td>0.603409</td>\n",
       "      <td>0.489958</td>\n",
       "      <td>0.952199</td>\n",
       "      <td>0.403978</td>\n",
       "      <td>0.620296</td>\n",
       "      <td>0.574402</td>\n",
       "      <td>0.907517</td>\n",
       "      <td>0.448242</td>\n",
       "    </tr>\n",
       "  </tbody>\n",
       "</table>\n",
       "</div>"
      ],
      "text/plain": [
       "          0         1         2         3         4         5         6  \\\n",
       "0  0.653000  0.737400  0.657400  0.614200  0.580400  0.473600  0.695400   \n",
       "1  0.603409  0.489958  0.952199  0.403978  0.620296  0.574402  0.907517   \n",
       "\n",
       "          7  \n",
       "0  0.588500  \n",
       "1  0.448242  "
      ]
     },
     "execution_count": 152,
     "metadata": {},
     "output_type": "execute_result"
    }
   ],
   "source": [
    "r_pred"
   ]
  },
  {
   "cell_type": "code",
   "execution_count": 153,
   "metadata": {},
   "outputs": [
    {
     "data": {
      "text/plain": [
       "0.1618908954609075"
      ]
     },
     "execution_count": 153,
     "metadata": {},
     "output_type": "execute_result"
    }
   ],
   "source": [
    "np.abs(np.array(pred) - mu.to_numpy()).sum()/8"
   ]
  },
  {
   "cell_type": "code",
   "execution_count": 65,
   "metadata": {},
   "outputs": [],
   "source": [
    "file = open('../NBA/data/player_transfer/player_transfer_all_years.pkl', 'rb')\n",
    "dict_player_transfer = pickle.load(file)"
   ]
  },
  {
   "cell_type": "code",
   "execution_count": 84,
   "metadata": {},
   "outputs": [
    {
     "data": {
      "text/plain": [
       "[('John Collins', None),\n",
       " ('Isaiah Taylor', None),\n",
       " ('Dewayne Dedmon', 'SAS'),\n",
       " ('Marco Belinelli', 'CHO'),\n",
       " ('Tyler Dorsey', None),\n",
       " ('Ersan İlyasova', 'PHI'),\n",
       " ('Miles Plumlee', None)]"
      ]
     },
     "execution_count": 84,
     "metadata": {},
     "output_type": "execute_result"
    }
   ],
   "source": [
    "dict_player_transfer[2018]['ATL']"
   ]
  },
  {
   "cell_type": "code",
   "execution_count": 93,
   "metadata": {},
   "outputs": [
    {
     "data": {
      "text/plain": [
       "0.17568344037048064"
      ]
     },
     "execution_count": 93,
     "metadata": {},
     "output_type": "execute_result"
    }
   ],
   "source": [
    "x = np.array([0.4759, 0.3483, 0.3614, 0.4521, 0.5173, 0.3820, 0.5652, 0.1554, 0.4740,\n",
    "        0.1486, 0.4288, 0.6908])\n",
    "diff = np.abs(mu.to_numpy()-x).sum()/12\n",
    "diff\n"
   ]
  },
  {
   "cell_type": "code",
   "execution_count": 89,
   "metadata": {},
   "outputs": [
    {
     "data": {
      "text/plain": [
       "array([0.52798138, 0.33976416, 0.55177259, 0.51895856, 0.29154094,\n",
       "       0.22464724, 0.48943837, 0.3548893 , 0.29853567, 0.48666474,\n",
       "       0.63613408, 0.27967297])"
      ]
     },
     "execution_count": 89,
     "metadata": {},
     "output_type": "execute_result"
    }
   ],
   "source": [
    "mu.to_numpy()"
   ]
  },
  {
   "cell_type": "code",
   "execution_count": 90,
   "metadata": {},
   "outputs": [
    {
     "data": {
      "text/plain": [
       "array([0.577 , 0.2426, 0.4703, 0.5342, 0.4039, 0.2228, 0.7794, 0.1135,\n",
       "       0.353 , 0.1261, 0.5945, 0.5827])"
      ]
     },
     "execution_count": 90,
     "metadata": {},
     "output_type": "execute_result"
    }
   ],
   "source": [
    "x"
   ]
  },
  {
   "cell_type": "code",
   "execution_count": 109,
   "metadata": {},
   "outputs": [
    {
     "data": {
      "text/plain": [
       "<matplotlib.image.AxesImage at 0x7f9c59996160>"
      ]
     },
     "execution_count": 109,
     "metadata": {},
     "output_type": "execute_result"
    },
    {
     "data": {
      "image/png": "[encoded data removed]",
      "text/plain": [
       "<Figure size 432x288 with 1 Axes>"
      ]
     },
     "metadata": {
      "needs_background": "light"
     },
     "output_type": "display_data"
    }
   ],
   "source": [
    "plt.imshow(-np.log(matrices[7]))"
   ]
  },
  {
   "cell_type": "code",
   "execution_count": 114,
   "metadata": {},
   "outputs": [],
   "source": [
    "mat_sum = torch.zeros(nr, nc)\n",
    "n = len(matrices)\n",
    "for i in range(n):\n",
    "    mat_sum += matrices[i] "
   ]
  },
  {
   "cell_type": "code",
   "execution_count": 115,
   "metadata": {},
   "outputs": [
    {
     "data": {
      "text/plain": [
       "tensor([[0.0833, 0.0376, 0.0746, 0.0957, 0.1186],\n",
       "        [0.1063, 0.0433, 0.0612, 0.0877, 0.1125],\n",
       "        [0.0676, 0.1461, 0.0945, 0.0412, 0.0553],\n",
       "        [0.0689, 0.1140, 0.1198, 0.0497, 0.0587],\n",
       "        [0.0789, 0.0364, 0.0722, 0.1380, 0.0968],\n",
       "        [0.1029, 0.0607, 0.0961, 0.0919, 0.0661],\n",
       "        [0.0774, 0.1202, 0.0860, 0.0397, 0.0924],\n",
       "        [0.0778, 0.1203, 0.1027, 0.0501, 0.0827],\n",
       "        [0.0560, 0.1579, 0.0992, 0.0481, 0.0540],\n",
       "        [0.0943, 0.0567, 0.0915, 0.0808, 0.0921],\n",
       "        [0.1006, 0.0523, 0.0488, 0.1299, 0.0825],\n",
       "        [0.0859, 0.0545, 0.0534, 0.1473, 0.0882]])"
      ]
     },
     "execution_count": 115,
     "metadata": {},
     "output_type": "execute_result"
    }
   ],
   "source": [
    "mat_avg = mat_sum / n\n",
    "mat_avg"
   ]
  },
  {
   "cell_type": "code",
   "execution_count": 116,
   "metadata": {},
   "outputs": [
    {
     "data": {
      "text/plain": [
       "<matplotlib.image.AxesImage at 0x7f9c3a4ccac0>"
      ]
     },
     "execution_count": 116,
     "metadata": {},
     "output_type": "execute_result"
    },
    {
     "data": {
      "image/png": "[encoded data removed]",
      "text/plain": [
       "<Figure size 432x288 with 1 Axes>"
      ]
     },
     "metadata": {
      "needs_background": "light"
     },
     "output_type": "display_data"
    }
   ],
   "source": [
    "plt.imshow(mat_avg)"
   ]
  },
  {
   "cell_type": "code",
   "execution_count": null,
   "metadata": {},
   "outputs": [],
   "source": []
  }
 ],
 "metadata": {
  "kernelspec": {
   "display_name": "Python 3",
   "language": "python",
   "name": "python3"
  },
  "language_info": {
   "codemirror_mode": {
    "name": "ipython",
    "version": 3
   },
   "file_extension": ".py",
   "mimetype": "text/x-python",
   "name": "python",
   "nbconvert_exporter": "python",
   "pygments_lexer": "ipython3",
   "version": "3.8.5"
  }
 },
 "nbformat": 4,
 "nbformat_minor": 4
}
