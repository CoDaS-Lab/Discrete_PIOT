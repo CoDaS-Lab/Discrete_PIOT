{
 "cells": [
  {
   "cell_type": "code",
   "execution_count": 2,
   "metadata": {},
   "outputs": [],
   "source": [
    "import sys\n",
    "import os\n",
    "sys.path.append('../SRC')\n",
    "from PIOT_imports import *\n",
    "import pickle\n",
    "from tqdm import tqdm\n",
    "from torch.distributions import Dirichlet\n",
    "from numpy.random import uniform\n",
    "import random"
   ]
  },
  {
   "cell_type": "code",
   "execution_count": 21,
   "metadata": {},
   "outputs": [],
   "source": [
    "def row_iter(K, b, row_sum):\n",
    "    return row_sum / torch.matmul(K, torch.transpose(b, 0, -1))\n",
    "\n",
    "def col_iter(K, a, col_sum):\n",
    "    return col_sum / torch.matmul(torch.transpose(K, 0, 1), torch.transpose(a, 0, -1))\n",
    "\n",
    "def sinkhorn_torch_base(K,\n",
    "                        row_sum,\n",
    "                        col_sum,\n",
    "                        num_iter\n",
    "                        ):\n",
    "    '''\n",
    "    Sinkhorn scaling base\n",
    "    Parameters\n",
    "    ----------\n",
    "    mat     : muted torch 2-tensor of shape(n,m)\n",
    "    row_sum : immuted torch 1-tensor of size n\n",
    "    col_sum : immuted torch 1-tensor of size m\n",
    "    epsilon : tolerance of 1-norm on column-sums with rows normalized\n",
    "    max_iter: maximal iteration steps (multiples of 10)\n",
    "    Return\n",
    "    ------\n",
    "    Sinkhorn scaled matrix \n",
    "    '''\n",
    "    \n",
    "    a = torch.ones(len(row_sum))\n",
    "    b = torch.ones(len(col_sum))\n",
    "\n",
    "    while num_iter:\n",
    "        a = row_iter(K, b, row_sum)\n",
    "        b = col_iter(K, a, col_sum)\n",
    "\n",
    "        num_iter -= 1\n",
    "\n",
    "    return torch.matmul(torch.matmul(torch.diag(a), K.clone()), torch.diag(b))\n",
    "\n",
    "\n",
    "def sinkhorn_loss(K, r, c, L, nr, nc, q = None):\n",
    "    if q is None:\n",
    "        q = torch.ones(nr)\n",
    "    T = sinkhorn_torch_base(K.clone(),\n",
    "                   row_sum=r,\n",
    "                   col_sum=c,\n",
    "                   num_iter = L)\n",
    "    return (-torch.log(K)*T ).sum() \\\n",
    "            +(T*(torch.log(T)-torch.ones((nr,nc)))).sum() \\\n",
    "            +(r*(torch.log(r)-torch.ones(nr))).sum() \n",
    "\n",
    "\n",
    "def init(nr, nc, mean, std, num_matrices):\n",
    "    matrices = []\n",
    "\n",
    "    device = 'cuda' if torch.cuda.is_available() else 'cpu'\n",
    "    #torch.manual_seed(42)\n",
    "    r = torch.ones(nr, requires_grad=True, dtype=torch.float, device=device)\n",
    "    #r = torch.normal(size = (nr,), mean = 1.0, std = 0.01, requires_grad=True, dtype=torch.float, device=device)\n",
    "    c = torch.ones(nc, requires_grad=False, dtype=torch.float, device=device)\n",
    "\n",
    "    for _ in range(num_matrices):\n",
    "        # Dirichlet ---\n",
    "        Dir = Dirichlet(0.5*torch.ones((nr, nc)))\n",
    "        new_mat = Dir.sample()\n",
    "        \n",
    "        # Gaussian ---\n",
    "        #new_mat = torch.normal(mean = mean, std = std, size = (nr, nc))\n",
    "        #new_mat = torch.normal(mean = mean*torch.ones(nr), std = std)\n",
    "        #while new_mat.min() < 0.:\n",
    "        #    new_mat = torch.normal(mean = mean, std = std, size = (nr, nc))     \n",
    "        \n",
    "        # Diagonal ---\n",
    "        #new_mat = torch.diag(new_mat)\n",
    "        #adds = torch.ones((nr, nc))*1e-15\n",
    "        #new_mat += adds\n",
    "\n",
    "        matrices.append(new_mat)\n",
    "\n",
    "    print(r)\n",
    "    print(c)\n",
    "    print(matrices[0])\n",
    "    print('\\n')\n",
    "    \n",
    "    return r, c, matrices"
   ]
  },
  {
   "cell_type": "markdown",
   "metadata": {},
   "source": [
    "## Uniform matrix, random initial"
   ]
  },
  {
   "cell_type": "code",
   "execution_count": 203,
   "metadata": {},
   "outputs": [],
   "source": [
    "nr, nc = 6, 5\n",
    "num_matrices = 1\n",
    "matrices = []\n",
    "\n",
    "for _ in range(num_matrices):   \n",
    "\n",
    "    # Dirichlet ---\n",
    "#     Dir = Dirichlet(torch.ones(nc, nr))\n",
    "#     matrices.append(torch.transpose(Dir.sample(), 0, 1))\n",
    "    matrices.append(torch.ones(nr, nc))"
   ]
  },
  {
   "cell_type": "code",
   "execution_count": 204,
   "metadata": {},
   "outputs": [
    {
     "data": {
      "text/plain": [
       "tensor([[1., 1., 1., 1., 1.],\n",
       "        [1., 1., 1., 1., 1.],\n",
       "        [1., 1., 1., 1., 1.],\n",
       "        [1., 1., 1., 1., 1.],\n",
       "        [1., 1., 1., 1., 1.],\n",
       "        [1., 1., 1., 1., 1.]])"
      ]
     },
     "execution_count": 204,
     "metadata": {},
     "output_type": "execute_result"
    }
   ],
   "source": [
    "matrices[0]"
   ]
  },
  {
   "cell_type": "code",
   "execution_count": 205,
   "metadata": {},
   "outputs": [
    {
     "name": "stdout",
     "output_type": "stream",
     "text": [
      "tensor([0.8333, 0.8333, 0.8333, 0.8333, 0.8333, 0.8333], requires_grad=True)\n",
      "tensor([1., 1., 1., 1., 1.])\n",
      "tensor([[1., 1., 1., 1., 1.],\n",
      "        [1., 1., 1., 1., 1.],\n",
      "        [1., 1., 1., 1., 1.],\n",
      "        [1., 1., 1., 1., 1.],\n",
      "        [1., 1., 1., 1., 1.],\n",
      "        [1., 1., 1., 1., 1.]])\n",
      "\n",
      "\n",
      "Epoch 0\n",
      "Loss: -5.9116082191467285\n",
      "r: tensor([0.8333, 0.8333, 0.8333, 0.8333, 0.8333, 0.8333], requires_grad=True)\n",
      "5.0000005\n",
      "c: tensor([1., 1., 1., 1., 1.])\n",
      "\n",
      "\n",
      "Epoch 1\n",
      "Loss: -5.9116082191467285\n",
      "r: tensor([0.8333, 0.8333, 0.8333, 0.8333, 0.8333, 0.8333], requires_grad=True)\n",
      "5.0000005\n",
      "c: tensor([1., 1., 1., 1., 1.])\n",
      "\n",
      "\n",
      "Epoch 2\n",
      "Loss: -5.9116082191467285\n",
      "r: tensor([0.8333, 0.8333, 0.8333, 0.8333, 0.8333, 0.8333], requires_grad=True)\n",
      "4.999999\n",
      "c: tensor([1., 1., 1., 1., 1.])\n",
      "\n",
      "\n",
      "Epoch 3\n",
      "Loss: -5.91160774230957\n",
      "r: tensor([0.8333, 0.8333, 0.8333, 0.8333, 0.8333, 0.8333], requires_grad=True)\n",
      "4.999999\n",
      "c: tensor([1., 1., 1., 1., 1.])\n",
      "\n",
      "\n",
      "Epoch 4\n",
      "Loss: -5.91160774230957\n",
      "r: tensor([0.8333, 0.8333, 0.8333, 0.8333, 0.8333, 0.8333], requires_grad=True)\n",
      "4.999999\n",
      "c: tensor([1., 1., 1., 1., 1.])\n",
      "\n",
      "\n",
      "Epoch 5\n",
      "Loss: -5.91160774230957\n",
      "r: tensor([0.8333, 0.8333, 0.8333, 0.8333, 0.8333, 0.8333], requires_grad=True)\n",
      "5.0000005\n",
      "c: tensor([1., 1., 1., 1., 1.])\n",
      "\n",
      "\n",
      "Epoch 6\n",
      "Loss: -5.9116082191467285\n",
      "r: tensor([0.8333, 0.8333, 0.8333, 0.8333, 0.8333, 0.8333], requires_grad=True)\n",
      "4.999999\n",
      "c: tensor([1., 1., 1., 1., 1.])\n",
      "\n",
      "\n",
      "Epoch 7\n",
      "Loss: -5.91160774230957\n",
      "r: tensor([0.8333, 0.8333, 0.8333, 0.8333, 0.8333, 0.8333], requires_grad=True)\n",
      "4.999999\n",
      "c: tensor([1., 1., 1., 1., 1.])\n",
      "\n",
      "\n",
      "Epoch 8\n",
      "Loss: -5.91160774230957\n",
      "r: tensor([0.8333, 0.8333, 0.8333, 0.8333, 0.8333, 0.8333], requires_grad=True)\n",
      "5.0000005\n",
      "c: tensor([1., 1., 1., 1., 1.])\n",
      "\n",
      "\n",
      "Epoch 9\n",
      "Loss: -5.9116082191467285\n",
      "r: tensor([0.8333, 0.8333, 0.8333, 0.8333, 0.8333, 0.8333], requires_grad=True)\n",
      "4.999999\n",
      "c: tensor([1., 1., 1., 1., 1.])\n",
      "\n",
      "\n",
      "[0.83333325 0.83333325 0.83333325 0.83333325 0.83333325 0.83333325]\n",
      "4.999999\n"
     ]
    },
    {
     "data": {
      "image/png": "[encoded data removed]",
      "text/plain": [
       "<Figure size 720x360 with 2 Axes>"
      ]
     },
     "metadata": {
      "needs_background": "light"
     },
     "output_type": "display_data"
    }
   ],
   "source": [
    "nr, nc = len(matrices[0]), len(matrices[0][0])\n",
    "\n",
    "L = 50\n",
    "lr = 0.01\n",
    "num_epoch = 10\n",
    "\n",
    "device = 'cuda' if torch.cuda.is_available() else 'cpu'\n",
    "vec = torch.ones(nr)\n",
    "vec = vec/vec.sum()*nc\n",
    "r = torch.tensor(vec, requires_grad=True, dtype=torch.float, device=device)\n",
    "c = torch.ones(nc, requires_grad=False, dtype=torch.float, device=device)\n",
    "\n",
    "\n",
    "print(r)\n",
    "print(c)\n",
    "print(matrices[0])\n",
    "print('\\n')\n",
    "\n",
    "optimizer = torch.optim.RMSprop([r], lr=lr)\n",
    "\n",
    "data_loss = []\n",
    "data_r = []\n",
    "data_c = []\n",
    "\n",
    "for epoch in range(num_epoch):\n",
    "    running_loss = 0\n",
    "    for i in range(len(matrices)):\n",
    "        loss = sinkhorn_loss(matrices[i].clone(), r, c, L, nr, nc)\n",
    "        optimizer.zero_grad()\n",
    "        loss.backward()\n",
    "        optimizer.step()\n",
    "        with torch.no_grad():\n",
    "            for param in [r]:\n",
    "                param[:] = param.clamp(1e-15, 10)\n",
    "                param[:] = param / param.sum() * nc\n",
    "        \n",
    "        running_loss += loss.item()\n",
    "        \n",
    "    data_loss.append(running_loss)\n",
    "    data_r.append(r.cpu().detach().clone().numpy())\n",
    "    data_c.append(c.cpu().detach().clone().numpy())\n",
    "        \n",
    "    print('Epoch {}'.format(epoch))\n",
    "    print('Loss: {}'.format(running_loss))\n",
    "    print('r: {}'.format(r))\n",
    "    print(r.sum().detach().numpy())\n",
    "    print('c: {}'.format(c))\n",
    "    print('\\n')\n",
    "    \n",
    "print(data_r[-1])\n",
    "print(data_r[-1].sum())\n",
    "\n",
    "fig, ax = plt.subplots(1, 2, figsize = (10, 5))\n",
    "\n",
    "ax[0].plot(data_loss)\n",
    "ax[0].set_title('Loss')\n",
    "ax[1].plot(data_r)\n",
    "ax[1].set_title('Marginal')\n",
    "fig.tight_layout()"
   ]
  },
  {
   "cell_type": "code",
   "execution_count": 15,
   "metadata": {},
   "outputs": [
    {
     "data": {
      "text/html": [
       "<div>\n",
       "<style scoped>\n",
       "    .dataframe tbody tr th:only-of-type {\n",
       "        vertical-align: middle;\n",
       "    }\n",
       "\n",
       "    .dataframe tbody tr th {\n",
       "        vertical-align: top;\n",
       "    }\n",
       "\n",
       "    .dataframe thead th {\n",
       "        text-align: right;\n",
       "    }\n",
       "</style>\n",
       "<table border=\"1\" class=\"dataframe\">\n",
       "  <thead>\n",
       "    <tr style=\"text-align: right;\">\n",
       "      <th></th>\n",
       "      <th>PTS</th>\n",
       "      <th>ORB</th>\n",
       "      <th>DRB</th>\n",
       "      <th>AST</th>\n",
       "      <th>STL</th>\n",
       "    </tr>\n",
       "  </thead>\n",
       "  <tbody>\n",
       "    <tr>\n",
       "      <th>138</th>\n",
       "      <td>16.8</td>\n",
       "      <td>1.0</td>\n",
       "      <td>2.3</td>\n",
       "      <td>2.4</td>\n",
       "      <td>0.7</td>\n",
       "    </tr>\n",
       "    <tr>\n",
       "      <th>306</th>\n",
       "      <td>12.2</td>\n",
       "      <td>0.4</td>\n",
       "      <td>2.1</td>\n",
       "      <td>2.0</td>\n",
       "      <td>0.8</td>\n",
       "    </tr>\n",
       "    <tr>\n",
       "      <th>498</th>\n",
       "      <td>9.4</td>\n",
       "      <td>2.5</td>\n",
       "      <td>5.7</td>\n",
       "      <td>3.2</td>\n",
       "      <td>1.5</td>\n",
       "    </tr>\n",
       "    <tr>\n",
       "      <th>510</th>\n",
       "      <td>6.5</td>\n",
       "      <td>0.8</td>\n",
       "      <td>2.4</td>\n",
       "      <td>1.1</td>\n",
       "      <td>0.7</td>\n",
       "    </tr>\n",
       "    <tr>\n",
       "      <th>519</th>\n",
       "      <td>13.0</td>\n",
       "      <td>0.6</td>\n",
       "      <td>4.1</td>\n",
       "      <td>2.6</td>\n",
       "      <td>0.8</td>\n",
       "    </tr>\n",
       "    <tr>\n",
       "      <th>590</th>\n",
       "      <td>16.7</td>\n",
       "      <td>0.7</td>\n",
       "      <td>2.2</td>\n",
       "      <td>3.0</td>\n",
       "      <td>0.5</td>\n",
       "    </tr>\n",
       "    <tr>\n",
       "      <th>645</th>\n",
       "      <td>10.9</td>\n",
       "      <td>4.0</td>\n",
       "      <td>6.2</td>\n",
       "      <td>2.0</td>\n",
       "      <td>0.7</td>\n",
       "    </tr>\n",
       "    <tr>\n",
       "      <th>704</th>\n",
       "      <td>7.8</td>\n",
       "      <td>1.8</td>\n",
       "      <td>3.6</td>\n",
       "      <td>0.9</td>\n",
       "      <td>0.2</td>\n",
       "    </tr>\n",
       "  </tbody>\n",
       "</table>\n",
       "</div>"
      ],
      "text/plain": [
       "      PTS  ORB  DRB  AST  STL\n",
       "138  16.8  1.0  2.3  2.4  0.7\n",
       "306  12.2  0.4  2.1  2.0  0.8\n",
       "498   9.4  2.5  5.7  3.2  1.5\n",
       "510   6.5  0.8  2.4  1.1  0.7\n",
       "519  13.0  0.6  4.1  2.6  0.8\n",
       "590  16.7  0.7  2.2  3.0  0.5\n",
       "645  10.9  4.0  6.2  2.0  0.7\n",
       "704   7.8  1.8  3.6  0.9  0.2"
      ]
     },
     "execution_count": 15,
     "metadata": {},
     "output_type": "execute_result"
    }
   ],
   "source": [
    "pkl_file_g = open('../NBA/data/team_data/CLE_2019.pkl', 'rb')\n",
    "NBA_data_g = pickle.load(pkl_file_g)\n",
    "\n",
    "features = ['PTS', 'ORB', 'DRB', 'AST', 'STL']\n",
    "data = NBA_data_g[features]\n",
    "data"
   ]
  },
  {
   "cell_type": "code",
   "execution_count": 16,
   "metadata": {},
   "outputs": [
    {
     "data": {
      "text/html": [
       "<div>\n",
       "<style scoped>\n",
       "    .dataframe tbody tr th:only-of-type {\n",
       "        vertical-align: middle;\n",
       "    }\n",
       "\n",
       "    .dataframe tbody tr th {\n",
       "        vertical-align: top;\n",
       "    }\n",
       "\n",
       "    .dataframe thead th {\n",
       "        text-align: right;\n",
       "    }\n",
       "</style>\n",
       "<table border=\"1\" class=\"dataframe\">\n",
       "  <thead>\n",
       "    <tr style=\"text-align: right;\">\n",
       "      <th></th>\n",
       "      <th>PTS</th>\n",
       "      <th>ORB</th>\n",
       "      <th>DRB</th>\n",
       "      <th>AST</th>\n",
       "      <th>STL</th>\n",
       "    </tr>\n",
       "  </thead>\n",
       "  <tbody>\n",
       "    <tr>\n",
       "      <th>138</th>\n",
       "      <td>0.180064</td>\n",
       "      <td>0.084746</td>\n",
       "      <td>0.080420</td>\n",
       "      <td>0.139535</td>\n",
       "      <td>0.118644</td>\n",
       "    </tr>\n",
       "    <tr>\n",
       "      <th>306</th>\n",
       "      <td>0.130761</td>\n",
       "      <td>0.033898</td>\n",
       "      <td>0.073427</td>\n",
       "      <td>0.116279</td>\n",
       "      <td>0.135593</td>\n",
       "    </tr>\n",
       "    <tr>\n",
       "      <th>498</th>\n",
       "      <td>0.100750</td>\n",
       "      <td>0.211864</td>\n",
       "      <td>0.199301</td>\n",
       "      <td>0.186047</td>\n",
       "      <td>0.254237</td>\n",
       "    </tr>\n",
       "    <tr>\n",
       "      <th>510</th>\n",
       "      <td>0.069668</td>\n",
       "      <td>0.067797</td>\n",
       "      <td>0.083916</td>\n",
       "      <td>0.063953</td>\n",
       "      <td>0.118644</td>\n",
       "    </tr>\n",
       "    <tr>\n",
       "      <th>519</th>\n",
       "      <td>0.139335</td>\n",
       "      <td>0.050847</td>\n",
       "      <td>0.143357</td>\n",
       "      <td>0.151163</td>\n",
       "      <td>0.135593</td>\n",
       "    </tr>\n",
       "    <tr>\n",
       "      <th>590</th>\n",
       "      <td>0.178992</td>\n",
       "      <td>0.059322</td>\n",
       "      <td>0.076923</td>\n",
       "      <td>0.174419</td>\n",
       "      <td>0.084746</td>\n",
       "    </tr>\n",
       "    <tr>\n",
       "      <th>645</th>\n",
       "      <td>0.116827</td>\n",
       "      <td>0.338983</td>\n",
       "      <td>0.216783</td>\n",
       "      <td>0.116279</td>\n",
       "      <td>0.118644</td>\n",
       "    </tr>\n",
       "    <tr>\n",
       "      <th>704</th>\n",
       "      <td>0.083601</td>\n",
       "      <td>0.152542</td>\n",
       "      <td>0.125874</td>\n",
       "      <td>0.052326</td>\n",
       "      <td>0.033898</td>\n",
       "    </tr>\n",
       "  </tbody>\n",
       "</table>\n",
       "</div>"
      ],
      "text/plain": [
       "          PTS       ORB       DRB       AST       STL\n",
       "138  0.180064  0.084746  0.080420  0.139535  0.118644\n",
       "306  0.130761  0.033898  0.073427  0.116279  0.135593\n",
       "498  0.100750  0.211864  0.199301  0.186047  0.254237\n",
       "510  0.069668  0.067797  0.083916  0.063953  0.118644\n",
       "519  0.139335  0.050847  0.143357  0.151163  0.135593\n",
       "590  0.178992  0.059322  0.076923  0.174419  0.084746\n",
       "645  0.116827  0.338983  0.216783  0.116279  0.118644\n",
       "704  0.083601  0.152542  0.125874  0.052326  0.033898"
      ]
     },
     "execution_count": 16,
     "metadata": {},
     "output_type": "execute_result"
    }
   ],
   "source": [
    "data = data/data.sum(axis=0)\n",
    "data"
   ]
  },
  {
   "cell_type": "code",
   "execution_count": 17,
   "metadata": {},
   "outputs": [
    {
     "data": {
      "text/plain": [
       "138    0.603409\n",
       "306    0.489958\n",
       "498    0.952199\n",
       "510    0.403978\n",
       "519    0.620296\n",
       "590    0.574402\n",
       "645    0.907517\n",
       "704    0.448242\n",
       "dtype: float64"
      ]
     },
     "execution_count": 17,
     "metadata": {},
     "output_type": "execute_result"
    }
   ],
   "source": [
    "mu = data.sum(axis=1)\n",
    "mu"
   ]
  },
  {
   "cell_type": "code",
   "execution_count": 18,
   "metadata": {},
   "outputs": [],
   "source": [
    "pred = [0.6174, 0.6233, 0.6395, 0.5959, 0.6262, 0.6651, 0.5882, 0.6443]\n",
    "\n",
    "r_pred = pd.DataFrame([np.round(pred, 7), mu])"
   ]
  },
  {
   "cell_type": "code",
   "execution_count": 19,
   "metadata": {},
   "outputs": [
    {
     "data": {
      "text/html": [
       "<div>\n",
       "<style scoped>\n",
       "    .dataframe tbody tr th:only-of-type {\n",
       "        vertical-align: middle;\n",
       "    }\n",
       "\n",
       "    .dataframe tbody tr th {\n",
       "        vertical-align: top;\n",
       "    }\n",
       "\n",
       "    .dataframe thead th {\n",
       "        text-align: right;\n",
       "    }\n",
       "</style>\n",
       "<table border=\"1\" class=\"dataframe\">\n",
       "  <thead>\n",
       "    <tr style=\"text-align: right;\">\n",
       "      <th></th>\n",
       "      <th>0</th>\n",
       "      <th>1</th>\n",
       "      <th>2</th>\n",
       "      <th>3</th>\n",
       "      <th>4</th>\n",
       "      <th>5</th>\n",
       "      <th>6</th>\n",
       "      <th>7</th>\n",
       "    </tr>\n",
       "  </thead>\n",
       "  <tbody>\n",
       "    <tr>\n",
       "      <th>0</th>\n",
       "      <td>0.617400</td>\n",
       "      <td>0.623300</td>\n",
       "      <td>0.639500</td>\n",
       "      <td>0.595900</td>\n",
       "      <td>0.626200</td>\n",
       "      <td>0.665100</td>\n",
       "      <td>0.588200</td>\n",
       "      <td>0.644300</td>\n",
       "    </tr>\n",
       "    <tr>\n",
       "      <th>1</th>\n",
       "      <td>0.603409</td>\n",
       "      <td>0.489958</td>\n",
       "      <td>0.952199</td>\n",
       "      <td>0.403978</td>\n",
       "      <td>0.620296</td>\n",
       "      <td>0.574402</td>\n",
       "      <td>0.907517</td>\n",
       "      <td>0.448242</td>\n",
       "    </tr>\n",
       "  </tbody>\n",
       "</table>\n",
       "</div>"
      ],
      "text/plain": [
       "          0         1         2         3         4         5         6  \\\n",
       "0  0.617400  0.623300  0.639500  0.595900  0.626200  0.665100  0.588200   \n",
       "1  0.603409  0.489958  0.952199  0.403978  0.620296  0.574402  0.907517   \n",
       "\n",
       "          7  \n",
       "0  0.644300  \n",
       "1  0.448242  "
      ]
     },
     "execution_count": 19,
     "metadata": {},
     "output_type": "execute_result"
    }
   ],
   "source": [
    "r_pred"
   ]
  },
  {
   "cell_type": "code",
   "execution_count": 20,
   "metadata": {},
   "outputs": [
    {
     "data": {
      "text/plain": [
       "0.15799150434056852"
      ]
     },
     "execution_count": 20,
     "metadata": {},
     "output_type": "execute_result"
    }
   ],
   "source": [
    "np.abs(np.array(pred) - mu.to_numpy()).sum()/8"
   ]
  },
  {
   "cell_type": "code",
   "execution_count": 70,
   "metadata": {},
   "outputs": [
    {
     "data": {
      "text/plain": [
       "10"
      ]
     },
     "execution_count": 70,
     "metadata": {},
     "output_type": "execute_result"
    }
   ],
   "source": [
    "import pickle\n",
    "data = []\n",
    "with open('test.pkl', 'rb') as f:\n",
    "    try:\n",
    "        while True:\n",
    "            data.append(pickle.load(f))\n",
    "    except EOFError:\n",
    "        pass\n",
    "len(data[1][1])"
   ]
  },
  {
   "cell_type": "code",
   "execution_count": 86,
   "metadata": {},
   "outputs": [],
   "source": [
    "from PIOT_PSGD import *\n",
    "\n",
    "def get_team_marginals(year, team1, load_folder = '../NBA/data/team_data/'):\n",
    "    \n",
    "    player_transfer_path = '../NBA/data/player_transfer/player_transfer_all_years.pkl'\n",
    "    with open(player_transfer_path, 'rb') as f:\n",
    "        player_transfer = pickle.load(f)\n",
    "        \n",
    "    y_str_minus_1 = str(year-1)\n",
    "    y_str = str(year)\n",
    "    team_composite = [team1]\n",
    "\n",
    "    pre_team = find_pre_team(player_transfer, year, team1)\n",
    "\n",
    "    with open(load_folder + '{}_{}.pkl'.format(team1, y_str), 'rb') as f:\n",
    "        data_cur_season = pickle.load(f).reset_index()\n",
    "\n",
    "    data_pre_season = {}\n",
    "    with open(load_folder + '{}_{}.pkl'.format(team1, y_str_minus_1), 'rb') as f:\n",
    "        data_pre_season[team1] = pickle.load(f).reset_index()\n",
    "\n",
    "    for p, t in pre_team:\n",
    "        team_composite.append(t)\n",
    "        with open(load_folder + '{}_{}.pkl'.format(t, y_str_minus_1), 'rb') as f:\n",
    "            data_tmp = pickle.load(f).reset_index()\n",
    "        data_pre_season[t] = data_tmp\n",
    "\n",
    "    players_cur = pd.DataFrame(data_cur_season[\"Player\"])\n",
    "    players_pre = pd.DataFrame(data_pre_season[team1][\"Player\"])\n",
    "\n",
    "    for t in team_composite:\n",
    "        players_cur[t] = find_index(players_cur, data_pre_season[t])\n",
    "\n",
    "    idx_cost_mat = []\n",
    "    marginal_exclusion = []\n",
    "    for idx in range(len(players_cur)):\n",
    "        tf = False\n",
    "        for t in team_composite:\n",
    "            if players_cur.iloc[idx][t] != -1:\n",
    "                tf = True\n",
    "                break\n",
    "        if tf:\n",
    "            idx_cost_mat.append((idx, t, players_cur.iloc[idx][t])) \n",
    "        else:\n",
    "            marginal_exclusion.append(idx)\n",
    "            \n",
    "    cols = ['PTS','ORB','DRB','AST','STL']\n",
    "\n",
    "    # Get ground truth T\n",
    "    \n",
    "    T_truth = data_cur_season[cols].drop(index = marginal_exclusion)\n",
    "    T_truth = T_truth / T_truth.sum(axis=0)\n",
    "    T_truth = data_to_mat(T_truth)\n",
    "\n",
    "    return T_truth.sum(axis=1)"
   ]
  },
  {
   "cell_type": "markdown",
   "metadata": {},
   "source": [
    "## Data"
   ]
  },
  {
   "cell_type": "code",
   "execution_count": 211,
   "metadata": {},
   "outputs": [],
   "source": [
    "data_pred = []\n",
    "with open('test.pkl', 'rb') as f:\n",
    "    try:\n",
    "        while True:\n",
    "            data_pred.append(pickle.load(f))\n",
    "    except EOFError:\n",
    "        pass\n",
    "    \n",
    "data_Dir = []\n",
    "with open('test_Dir.pkl', 'rb') as f:\n",
    "    try:\n",
    "        while True:\n",
    "            data_Dir.append(pickle.load(f))\n",
    "    except EOFError:\n",
    "        pass\n",
    "    \n",
    "data_uni = []\n",
    "with open('test_uni.pkl', 'rb') as f:\n",
    "    try:\n",
    "        while True:\n",
    "            data_uni.append(pickle.load(f))\n",
    "    except EOFError:\n",
    "        pass"
   ]
  },
  {
   "cell_type": "code",
   "execution_count": 212,
   "metadata": {},
   "outputs": [],
   "source": [
    "year = 2019\n",
    "\n",
    "data_truth = []\n",
    "\n",
    "for team, r in data_pred:\n",
    "    r_truth = get_team_marginals(year, team, load_folder = '../NBA/data/team_data/')\n",
    "    data_truth.append((team, r_truth.detach().numpy()))"
   ]
  },
  {
   "cell_type": "code",
   "execution_count": 213,
   "metadata": {},
   "outputs": [],
   "source": [
    "def MAE(a, b):\n",
    "    if len(a) != len(b):\n",
    "        print(\"ERROR: vectors dimension do not match!\")\n",
    "        return -1\n",
    "    return (np.abs(a-b)).sum()/len(a)\n",
    "\n",
    "def abs_diff(a, b):\n",
    "    if len(a) != len(b):\n",
    "        print(\"ERROR: vectors dimension do not match!\")\n",
    "        return -1\n",
    "    return list(np.abs(a-b))"
   ]
  },
  {
   "cell_type": "code",
   "execution_count": 195,
   "metadata": {},
   "outputs": [
    {
     "data": {
      "text/plain": [
       "('ATL',\n",
       " array([0.86313136, 0.46788919, 1.21719488, 0.9430198 , 0.72954372,\n",
       "        0.77922105]))"
      ]
     },
     "execution_count": 195,
     "metadata": {},
     "output_type": "execute_result"
    }
   ],
   "source": [
    "data_truth[0]"
   ]
  },
  {
   "cell_type": "code",
   "execution_count": 188,
   "metadata": {},
   "outputs": [
    {
     "data": {
      "text/plain": [
       "('ATL',\n",
       " array([0.81085837, 0.833794  , 0.8743802 , 0.6985409 , 1.0554199 ,\n",
       "        0.72700644], dtype=float32))"
      ]
     },
     "execution_count": 188,
     "metadata": {},
     "output_type": "execute_result"
    }
   ],
   "source": [
    "data_pred[0]"
   ]
  },
  {
   "cell_type": "code",
   "execution_count": 189,
   "metadata": {},
   "outputs": [
    {
     "data": {
      "text/plain": [
       "('ATL',\n",
       " array([0.8249916 , 0.8338236 , 0.87336886, 0.8240515 , 0.7988304 ,\n",
       "        0.8449341 ], dtype=float32))"
      ]
     },
     "execution_count": 189,
     "metadata": {},
     "output_type": "execute_result"
    }
   ],
   "source": [
    "data_Dir[0]"
   ]
  },
  {
   "cell_type": "code",
   "execution_count": 207,
   "metadata": {},
   "outputs": [
    {
     "data": {
      "text/plain": [
       "('ATL',\n",
       " array([0.83333325, 0.83333325, 0.83333325, 0.83333325, 0.83333325,\n",
       "        0.83333325], dtype=float32))"
      ]
     },
     "execution_count": 207,
     "metadata": {},
     "output_type": "execute_result"
    }
   ],
   "source": [
    "data_uni[0]"
   ]
  },
  {
   "cell_type": "code",
   "execution_count": 214,
   "metadata": {},
   "outputs": [],
   "source": [
    "diff_pred = {}\n",
    "diff_Dir = {}\n",
    "diff_uni = {}\n",
    "for idx, item in enumerate(data_truth):\n",
    "    try:\n",
    "        team, r_truth = item[0], item[1]\n",
    "        diff_pred[team] = MAE(r_truth, data_pred[idx][1]) \n",
    "        diff_Dir[team] = MAE(r_truth, data_Dir[idx][1])\n",
    "        diff_uni[team] = MAE(r_truth, data_uni[idx][1])\n",
    "    except:\n",
    "        pass"
   ]
  },
  {
   "cell_type": "code",
   "execution_count": 215,
   "metadata": {},
   "outputs": [
    {
     "data": {
      "text/html": [
       "<div>\n",
       "<style scoped>\n",
       "    .dataframe tbody tr th:only-of-type {\n",
       "        vertical-align: middle;\n",
       "    }\n",
       "\n",
       "    .dataframe tbody tr th {\n",
       "        vertical-align: top;\n",
       "    }\n",
       "\n",
       "    .dataframe thead th {\n",
       "        text-align: right;\n",
       "    }\n",
       "</style>\n",
       "<table border=\"1\" class=\"dataframe\">\n",
       "  <thead>\n",
       "    <tr style=\"text-align: right;\">\n",
       "      <th></th>\n",
       "      <th>ATL</th>\n",
       "      <th>BOS</th>\n",
       "      <th>BRK</th>\n",
       "      <th>CHI</th>\n",
       "      <th>CHO</th>\n",
       "      <th>CLE</th>\n",
       "      <th>DAL</th>\n",
       "      <th>DEN</th>\n",
       "      <th>DET</th>\n",
       "      <th>GSW</th>\n",
       "      <th>HOU</th>\n",
       "      <th>IND</th>\n",
       "      <th>LAC</th>\n",
       "      <th>LAL</th>\n",
       "      <th>MEM</th>\n",
       "      <th>MIA</th>\n",
       "      <th>MIL</th>\n",
       "      <th>MIN</th>\n",
       "      <th>NOP</th>\n",
       "      <th>NYK</th>\n",
       "      <th>OKC</th>\n",
       "      <th>ORL</th>\n",
       "      <th>PHI</th>\n",
       "      <th>PHO</th>\n",
       "      <th>POR</th>\n",
       "      <th>SAC</th>\n",
       "      <th>SAS</th>\n",
       "      <th>TOR</th>\n",
       "      <th>UTA</th>\n",
       "      <th>WAS</th>\n",
       "    </tr>\n",
       "  </thead>\n",
       "  <tbody>\n",
       "    <tr>\n",
       "      <th>0</th>\n",
       "      <td>0.230594</td>\n",
       "      <td>0.148989</td>\n",
       "      <td>0.122257</td>\n",
       "      <td>0.480879</td>\n",
       "      <td>0.159862</td>\n",
       "      <td>0.362950</td>\n",
       "      <td>0.220979</td>\n",
       "      <td>0.264228</td>\n",
       "      <td>0.208808</td>\n",
       "      <td>0.247718</td>\n",
       "      <td>0.372787</td>\n",
       "      <td>0.164819</td>\n",
       "      <td>0.386224</td>\n",
       "      <td>0.168176</td>\n",
       "      <td>0.212628</td>\n",
       "      <td>0.172236</td>\n",
       "      <td>0.165199</td>\n",
       "      <td>0.208655</td>\n",
       "      <td>0.266310</td>\n",
       "      <td>0.254784</td>\n",
       "      <td>0.349896</td>\n",
       "      <td>0.286139</td>\n",
       "      <td>0.316058</td>\n",
       "      <td>0.226902</td>\n",
       "      <td>0.194301</td>\n",
       "      <td>0.245438</td>\n",
       "      <td>0.228521</td>\n",
       "      <td>0.194284</td>\n",
       "      <td>0.224705</td>\n",
       "      <td>0.176192</td>\n",
       "    </tr>\n",
       "    <tr>\n",
       "      <th>1</th>\n",
       "      <td>0.166978</td>\n",
       "      <td>0.156290</td>\n",
       "      <td>0.104787</td>\n",
       "      <td>0.483329</td>\n",
       "      <td>0.151558</td>\n",
       "      <td>0.221507</td>\n",
       "      <td>0.205278</td>\n",
       "      <td>0.241174</td>\n",
       "      <td>0.227649</td>\n",
       "      <td>0.187836</td>\n",
       "      <td>0.309382</td>\n",
       "      <td>0.182311</td>\n",
       "      <td>0.399824</td>\n",
       "      <td>0.132804</td>\n",
       "      <td>0.229889</td>\n",
       "      <td>0.135075</td>\n",
       "      <td>0.204491</td>\n",
       "      <td>0.183570</td>\n",
       "      <td>0.261527</td>\n",
       "      <td>0.202580</td>\n",
       "      <td>0.361123</td>\n",
       "      <td>0.242055</td>\n",
       "      <td>0.347015</td>\n",
       "      <td>0.227157</td>\n",
       "      <td>0.205556</td>\n",
       "      <td>0.201858</td>\n",
       "      <td>0.206415</td>\n",
       "      <td>0.179034</td>\n",
       "      <td>0.209546</td>\n",
       "      <td>NaN</td>\n",
       "    </tr>\n",
       "    <tr>\n",
       "      <th>2</th>\n",
       "      <td>0.174449</td>\n",
       "      <td>0.154043</td>\n",
       "      <td>0.113739</td>\n",
       "      <td>0.479181</td>\n",
       "      <td>0.158945</td>\n",
       "      <td>0.249620</td>\n",
       "      <td>0.210841</td>\n",
       "      <td>0.245081</td>\n",
       "      <td>0.222507</td>\n",
       "      <td>0.182703</td>\n",
       "      <td>0.311488</td>\n",
       "      <td>0.189167</td>\n",
       "      <td>0.406534</td>\n",
       "      <td>0.138207</td>\n",
       "      <td>0.201654</td>\n",
       "      <td>0.123318</td>\n",
       "      <td>0.200271</td>\n",
       "      <td>0.192186</td>\n",
       "      <td>0.259970</td>\n",
       "      <td>0.205825</td>\n",
       "      <td>0.364983</td>\n",
       "      <td>0.250081</td>\n",
       "      <td>0.339641</td>\n",
       "      <td>0.227430</td>\n",
       "      <td>0.195984</td>\n",
       "      <td>0.205455</td>\n",
       "      <td>NaN</td>\n",
       "      <td>NaN</td>\n",
       "      <td>NaN</td>\n",
       "      <td>NaN</td>\n",
       "    </tr>\n",
       "  </tbody>\n",
       "</table>\n",
       "</div>"
      ],
      "text/plain": [
       "        ATL       BOS       BRK       CHI       CHO       CLE       DAL  \\\n",
       "0  0.230594  0.148989  0.122257  0.480879  0.159862  0.362950  0.220979   \n",
       "1  0.166978  0.156290  0.104787  0.483329  0.151558  0.221507  0.205278   \n",
       "2  0.174449  0.154043  0.113739  0.479181  0.158945  0.249620  0.210841   \n",
       "\n",
       "        DEN       DET       GSW       HOU       IND       LAC       LAL  \\\n",
       "0  0.264228  0.208808  0.247718  0.372787  0.164819  0.386224  0.168176   \n",
       "1  0.241174  0.227649  0.187836  0.309382  0.182311  0.399824  0.132804   \n",
       "2  0.245081  0.222507  0.182703  0.311488  0.189167  0.406534  0.138207   \n",
       "\n",
       "        MEM       MIA       MIL       MIN       NOP       NYK       OKC  \\\n",
       "0  0.212628  0.172236  0.165199  0.208655  0.266310  0.254784  0.349896   \n",
       "1  0.229889  0.135075  0.204491  0.183570  0.261527  0.202580  0.361123   \n",
       "2  0.201654  0.123318  0.200271  0.192186  0.259970  0.205825  0.364983   \n",
       "\n",
       "        ORL       PHI       PHO       POR       SAC       SAS       TOR  \\\n",
       "0  0.286139  0.316058  0.226902  0.194301  0.245438  0.228521  0.194284   \n",
       "1  0.242055  0.347015  0.227157  0.205556  0.201858  0.206415  0.179034   \n",
       "2  0.250081  0.339641  0.227430  0.195984  0.205455       NaN       NaN   \n",
       "\n",
       "        UTA       WAS  \n",
       "0  0.224705  0.176192  \n",
       "1  0.209546       NaN  \n",
       "2       NaN       NaN  "
      ]
     },
     "execution_count": 215,
     "metadata": {},
     "output_type": "execute_result"
    }
   ],
   "source": [
    "df = pd.DataFrame([diff_pred, diff_Dir, diff_uni])\n",
    "pd.set_option('display.max_columns', None)\n",
    "df"
   ]
  },
  {
   "cell_type": "markdown",
   "metadata": {},
   "source": [
    "## MAE($r^{(y, t)}_{Pred.}$, $r^{(y, t)}_{Truth}$) v.s MAE($r_{Dir.}$, $r^{(y, t)}_{Truth}$)\n",
    "\n",
    "[1] $r^{(y, t)}_{Truth}$ is the observed row marginals of year $y$ and team $t$.   \n",
    "[2] $r^{(y, t)}_{Pred.}$ are obtained by performing SGD on {$K^{(y, t)}$} which are composed from {$K^{(y-1, t')}$} of teams $t'$.  \n",
    "[3] $r_{Dir.}$ are obtained by performing SGD on random column-Dirichlet matrices with $\\alpha$=1.  \n",
    "[4] $r_{Uniform}$ obtained by performing SGD on uniform matrices.  \n"
   ]
  },
  {
   "cell_type": "code",
   "execution_count": 210,
   "metadata": {},
   "outputs": [
    {
     "data": {
      "image/png": "[encoded data removed]",
      "text/plain": [
       "<Figure size 576x432 with 1 Axes>"
      ]
     },
     "metadata": {
      "needs_background": "light"
     },
     "output_type": "display_data"
    }
   ],
   "source": [
    "fig = plt.figure(figsize =(8,6))\n",
    "data = [list(diff_pred.values()), list(diff_uni.values())]\n",
    "ax = fig.add_axes([0, 0, 1, 1])\n",
    "bp = ax.boxplot(data, labels = ['Pred.', 'Uni.'])\n",
    "plt.show()"
   ]
  },
  {
   "cell_type": "code",
   "execution_count": 199,
   "metadata": {},
   "outputs": [],
   "source": [
    "diff_pred_ele = []\n",
    "diff_Dir_ele = []\n",
    "for idx, item in enumerate(data_truth):\n",
    "    team, r_truth = item[0], item[1]\n",
    "    diff_pred_ele+=abs_diff(r_truth, data_pred[idx][1])\n",
    "    diff_Dir_ele+=abs_diff(r_truth, data_Dir[idx][1])"
   ]
  },
  {
   "cell_type": "markdown",
   "metadata": {},
   "source": [
    "## Element-wise MAE"
   ]
  },
  {
   "cell_type": "code",
   "execution_count": 200,
   "metadata": {},
   "outputs": [
    {
     "data": {
      "image/png": "[encoded data removed]",
      "text/plain": [
       "<Figure size 576x432 with 1 Axes>"
      ]
     },
     "metadata": {
      "needs_background": "light"
     },
     "output_type": "display_data"
    }
   ],
   "source": [
    "fig = plt.figure(figsize =(8,6))\n",
    "data = [diff_pred_ele, diff_Dir_ele]\n",
    "ax = fig.add_axes([0, 0, 1, 1])\n",
    "bp = ax.boxplot(data, labels = ['Pred.', 'Dir.'])\n",
    "plt.show()"
   ]
  },
  {
   "cell_type": "code",
   "execution_count": 170,
   "metadata": {},
   "outputs": [
    {
     "data": {
      "text/plain": [
       "tensor([[0.0726, 0.1526, 0.1840, 0.1675, 0.0251],\n",
       "        [0.0462, 0.3199, 0.1194, 0.2277, 0.0595],\n",
       "        [0.0994, 0.1212, 0.0187, 0.0039, 0.1792],\n",
       "        [0.1543, 0.0069, 0.4545, 0.0134, 0.2697],\n",
       "        [0.2645, 0.0108, 0.0567, 0.1551, 0.0524],\n",
       "        [0.0347, 0.0043, 0.1081, 0.1633, 0.0329],\n",
       "        [0.1272, 0.1389, 0.0490, 0.1202, 0.0467],\n",
       "        [0.2011, 0.2454, 0.0095, 0.1488, 0.3344]])"
      ]
     },
     "execution_count": 170,
     "metadata": {},
     "output_type": "execute_result"
    }
   ],
   "source": [
    "alpha = 1\n",
    "Dir = Dirichlet(torch.ones(nc, nr)*alpha)\n",
    "mat = torch.transpose(Dir.sample(), 0, 1)\n",
    "mat"
   ]
  },
  {
   "cell_type": "code",
   "execution_count": 171,
   "metadata": {},
   "outputs": [
    {
     "data": {
      "text/plain": [
       "tensor([1., 1., 1., 1., 1.])"
      ]
     },
     "execution_count": 171,
     "metadata": {},
     "output_type": "execute_result"
    }
   ],
   "source": [
    "mat.sum(axis=0)"
   ]
  },
  {
   "cell_type": "code",
   "execution_count": null,
   "metadata": {},
   "outputs": [],
   "source": []
  }
 ],
 "metadata": {
  "kernelspec": {
   "display_name": "Python 3",
   "language": "python",
   "name": "python3"
  },
  "language_info": {
   "codemirror_mode": {
    "name": "ipython",
    "version": 3
   },
   "file_extension": ".py",
   "mimetype": "text/x-python",
   "name": "python",
   "nbconvert_exporter": "python",
   "pygments_lexer": "ipython3",
   "version": "3.8.5"
  }
 },
 "nbformat": 4,
 "nbformat_minor": 4
}
