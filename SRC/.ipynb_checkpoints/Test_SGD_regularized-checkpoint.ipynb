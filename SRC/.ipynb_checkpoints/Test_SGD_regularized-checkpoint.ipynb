{
 "cells": [
  {
   "cell_type": "code",
   "execution_count": 1,
   "metadata": {},
   "outputs": [],
   "source": [
    "import sys\n",
    "import os\n",
    "sys.path.append('../SRC')\n",
    "from PIOT_imports import *\n",
    "import pickle\n",
    "from tqdm import tqdm"
   ]
  },
  {
   "cell_type": "code",
   "execution_count": 205,
   "metadata": {},
   "outputs": [],
   "source": [
    "def row_normalize(mat, row_sum):\n",
    "    '''\n",
    "    Row-normalization\n",
    "    See `normalize()`\n",
    "    '''\n",
    "    div = row_sum / torch.sum(mat, dim=1)\n",
    "    mat2 = mat[:] * div.view([-1, 1])\n",
    "    return mat2\n",
    "\n",
    "def col_normalize(mat, col_sum):\n",
    "    '''\n",
    "    Column-normalization\n",
    "    See `normalize()`\n",
    "    '''\n",
    "    div = col_sum / torch.sum(mat, dim=0)\n",
    "    mat2 = mat[:] *  div\n",
    "    return mat2\n",
    "\n",
    "def sinkhorn_torch_base(mat,\n",
    "                        row_sum,\n",
    "                        col_sum,\n",
    "                        num_iter\n",
    "                        ):\n",
    "    '''\n",
    "    Sinkhorn scaling base\n",
    "    Parameters\n",
    "    ----------\n",
    "    mat     : muted torch 2-tensor of shape(n,m)\n",
    "    row_sum : immuted torch 1-tensor of size n\n",
    "    col_sum : immuted torch 1-tensor of size m\n",
    "    epsilon : tolerance of 1-norm on column-sums with rows normalized\n",
    "    max_iter: maximal iteration steps (multiples of 10)\n",
    "    Return\n",
    "    ------\n",
    "    Sinkhorn scaled matrix \n",
    "    '''\n",
    "    \n",
    "    mat = mat.clone()\n",
    "\n",
    "    while num_iter:\n",
    "        mat2 = col_normalize(mat, col_sum)\n",
    "        mat = row_normalize(mat2, row_sum)\n",
    "        num_iter -= 1\n",
    "\n",
    "    return mat\n",
    "\n",
    "def sinkhorn_torch_fix_steps(mat,\n",
    "                   row_sum=None,\n",
    "                   col_sum=None,\n",
    "                   num_iter = 20,\n",
    "\n",
    "                   # row_check=False, # Not activate for efficiency concern\n",
    "                  ):\n",
    "    '''\n",
    "    Sinkhorn scaling base\n",
    "    Parameters\n",
    "    ----------\n",
    "    mat     : muted torch 2-tensor of shape(n,m)\n",
    "    row_sum : immuted torch 1-tensor of size n\n",
    "    col_sum : immuted torch 1-tensor of size m\n",
    "    epsilon : tolerance of 1-norm on column-sums with rows normalized\n",
    "    max_iter: maximal iteration steps (multiples of 10)\n",
    "    row_confident: whether row sums are all nonzeros (to bypass the check for nan-problem)\n",
    "    col_confident: whether col sums are all nonzeros (to bypass the check for nan-problem)\n",
    "    data: stores row and col sums during sinkhorn iterations\n",
    "    Return\n",
    "    ------\n",
    "    Sinkhorn scaled matrix (in place, can skip capturing it)\n",
    "    '''\n",
    "    n, m = mat.shape\n",
    "    row_sum = row_sum if row_sum is not None else torch.ones(n, dtype=torch.float64,\n",
    "                                                             device=mat.device)\n",
    "    col_sum = col_sum if col_sum is not None else torch.ones(m, dtype=torch.float64,\n",
    "                                                             device=mat.device)\n",
    "\n",
    "    # if row_check:\n",
    "    #     mat[row_sum != 0, col_sum != 0] = sinkhorn_torch_base(mat[row_sum != 0, col_sum != 0],\n",
    "    #                                                           row_sum[row_sum != 0],\n",
    "    #                                                           col_sum[col_sum != 0],\n",
    "    #                                                           epsilon, max_iter)\n",
    "    # mat[:, col_sum == 0.] = 0.\n",
    "    # mat[row_sum == 0., :] = 0.\n",
    "    mat[:, col_sum != 0.] = sinkhorn_torch_base(mat[:, col_sum != 0.],\n",
    "                                                row_sum,\n",
    "                                                col_sum[col_sum != 0],\n",
    "                                                num_iter)\n",
    "    mat[:, col_sum == 0.] = 0.\n",
    "\n",
    "    return mat\n",
    "\n",
    "def init(nr, nc, mean, std, num_matrices):\n",
    "    matrices = []\n",
    "\n",
    "    device = 'cuda' if torch.cuda.is_available() else 'cpu'\n",
    "    torch.manual_seed(42)\n",
    "    r = torch.ones(3, requires_grad=True, dtype=torch.float, device=device)\n",
    "    c = torch.ones(3, requires_grad=True, dtype=torch.float, device=device)\n",
    "\n",
    "    for _ in range(num_matrices):\n",
    "        matrices.append(torch.normal(mean = mean, std = std, size = (nr, nc)))\n",
    "\n",
    "    print(r)\n",
    "    print(c)\n",
    "    print(matrices[0])\n",
    "    print('\\n')\n",
    "    \n",
    "    return r, c, matrices\n",
    "\n",
    "def sinkhorn_loss(K, r, c, L, nr, nc):\n",
    "    T = sinkhorn_torch_fix_steps(K.clone(),\n",
    "                   row_sum=r,\n",
    "                   col_sum=c,\n",
    "                   num_iter = L)\n",
    "    #return (-torch.log(K)*T + T*(torch.log(T)-torch.ones(nr, nc))).sum()\n",
    "    return ( -torch.log(K)*T ).sum()"
   ]
  },
  {
   "cell_type": "code",
   "execution_count": 208,
   "metadata": {},
   "outputs": [
    {
     "name": "stdout",
     "output_type": "stream",
     "text": [
      "tensor([1., 1., 1.], requires_grad=True)\n",
      "tensor([1., 1., 1.], requires_grad=True)\n",
      "tensor([[0.5000, 0.5000, 0.5000],\n",
      "        [0.5000, 0.5000, 0.5000],\n",
      "        [0.5000, 0.5000, 0.5000]])\n",
      "\n",
      "\n",
      "Epoch 0\n",
      "Loss: 2.07943058013916\n",
      "r: tensor([0.9990, 0.9990, 0.9990], requires_grad=True)\n",
      "c: tensor([1.0010, 0.9990, 0.9990], requires_grad=True)\n",
      "\n",
      "Epoch 1\n",
      "Loss: 2.0773510932922363\n",
      "r: tensor([0.9980, 0.9980, 0.9980], requires_grad=True)\n",
      "c: tensor([1.0020, 0.9980, 0.9981], requires_grad=True)\n",
      "\n",
      "Epoch 2\n",
      "Loss: 2.0752716064453125\n",
      "r: tensor([0.9970, 0.9970, 0.9970], requires_grad=True)\n",
      "c: tensor([1.0030, 0.9970, 0.9971], requires_grad=True)\n",
      "\n",
      "Epoch 3\n",
      "Loss: 2.0731921195983887\n",
      "r: tensor([0.9960, 0.9960, 0.9960], requires_grad=True)\n",
      "c: tensor([1.0040, 0.9960, 0.9961], requires_grad=True)\n",
      "\n",
      "Epoch 4\n",
      "Loss: 2.071112871170044\n",
      "r: tensor([0.9950, 0.9950, 0.9950], requires_grad=True)\n",
      "c: tensor([1.0050, 0.9950, 0.9952], requires_grad=True)\n",
      "\n",
      "Epoch 5\n",
      "Loss: 2.06903338432312\n",
      "r: tensor([0.9940, 0.9940, 0.9940], requires_grad=True)\n",
      "c: tensor([1.0060, 0.9940, 0.9942], requires_grad=True)\n",
      "\n",
      "Epoch 6\n",
      "Loss: 2.0669541358947754\n",
      "r: tensor([0.9930, 0.9930, 0.9930], requires_grad=True)\n",
      "c: tensor([1.0070, 0.9930, 0.9932], requires_grad=True)\n",
      "\n",
      "Epoch 7\n",
      "Loss: 2.0648748874664307\n",
      "r: tensor([0.9920, 0.9920, 0.9920], requires_grad=True)\n",
      "c: tensor([1.0080, 0.9920, 0.9922], requires_grad=True)\n",
      "\n",
      "Epoch 8\n",
      "Loss: 2.0627949237823486\n",
      "r: tensor([0.9910, 0.9910, 0.9910], requires_grad=True)\n",
      "c: tensor([1.0090, 0.9910, 0.9912], requires_grad=True)\n",
      "\n",
      "Epoch 9\n",
      "Loss: 2.060715675354004\n",
      "r: tensor([0.9900, 0.9900, 0.9900], requires_grad=True)\n",
      "c: tensor([1.0100, 0.9900, 0.9903], requires_grad=True)\n",
      "\n"
     ]
    }
   ],
   "source": [
    "nr, nc = 3, 3\n",
    "mean, std = 0.5, 1e-5\n",
    "L = 10\n",
    "lr = 0.001\n",
    "num_matrices = 1\n",
    "num_epoch = 10\n",
    "\n",
    "r, c, matrices = init(nr, nc, mean, std, num_matrices)\n",
    "\n",
    "optimizer = torch.optim.Adam([r, c], lr=lr)\n",
    "\n",
    "data_loss = []\n",
    "data_r = [r.cpu().detach().clone().numpy()]\n",
    "data_c = [c.cpu().detach().clone().numpy()]\n",
    "\n",
    "for epoch in range(num_epoch):\n",
    "    running_loss = 0\n",
    "    for i in range(len(matrices)):\n",
    "        optimizer.zero_grad()\n",
    "        loss = sinkhorn_loss(matrices[i], r, c, L, nr, nc)\n",
    "        loss.backward()\n",
    "        optimizer.step()\n",
    "        with torch.no_grad():\n",
    "            for param in [r, c]:\n",
    "                param[:] = param.clamp(1e-15, 10)\n",
    "            \n",
    "        running_loss += loss.item()\n",
    "        \n",
    "    data_loss.append(running_loss)\n",
    "    data_r.append(r.cpu().detach().clone().numpy())\n",
    "    data_c.append(c.cpu().detach().clone().numpy())\n",
    "        \n",
    "    print('Epoch {}'.format(epoch))\n",
    "    print('Loss: {}'.format(running_loss))\n",
    "    print('r: {}'.format(r))\n",
    "    print('c: {}\\n'.format(c))\n"
   ]
  },
  {
   "cell_type": "code",
   "execution_count": 187,
   "metadata": {},
   "outputs": [
    {
     "data": {
      "text/plain": [
       "[<matplotlib.lines.Line2D at 0x7fa539bdac70>]"
      ]
     },
     "execution_count": 187,
     "metadata": {},
     "output_type": "execute_result"
    },
    {
     "data": {
      "image/png": "[encoded data removed]",
      "text/plain": [
       "<Figure size 432x288 with 1 Axes>"
      ]
     },
     "metadata": {
      "needs_background": "light"
     },
     "output_type": "display_data"
    }
   ],
   "source": [
    "plt.plot(data_loss)"
   ]
  },
  {
   "cell_type": "code",
   "execution_count": 166,
   "metadata": {},
   "outputs": [
    {
     "data": {
      "text/plain": [
       "[<matplotlib.lines.Line2D at 0x7fa557f85370>,\n",
       " <matplotlib.lines.Line2D at 0x7fa55771f1c0>,\n",
       " <matplotlib.lines.Line2D at 0x7fa55771fcd0>]"
      ]
     },
     "execution_count": 166,
     "metadata": {},
     "output_type": "execute_result"
    },
    {
     "data": {
      "image/png": "[encoded data removed]",
      "text/plain": [
       "<Figure size 432x288 with 1 Axes>"
      ]
     },
     "metadata": {
      "needs_background": "light"
     },
     "output_type": "display_data"
    }
   ],
   "source": [
    "plt.plot(data_r)"
   ]
  },
  {
   "cell_type": "code",
   "execution_count": 167,
   "metadata": {},
   "outputs": [
    {
     "data": {
      "text/plain": [
       "[<matplotlib.lines.Line2D at 0x7fa539a72760>,\n",
       " <matplotlib.lines.Line2D at 0x7fa539a72850>,\n",
       " <matplotlib.lines.Line2D at 0x7fa539a72910>]"
      ]
     },
     "execution_count": 167,
     "metadata": {},
     "output_type": "execute_result"
    },
    {
     "data": {
      "image/png": "[encoded data removed]",
      "text/plain": [
       "<Figure size 432x288 with 1 Axes>"
      ]
     },
     "metadata": {
      "needs_background": "light"
     },
     "output_type": "display_data"
    }
   ],
   "source": [
    "plt.plot(data_c)"
   ]
  },
  {
   "cell_type": "code",
   "execution_count": null,
   "metadata": {},
   "outputs": [],
   "source": []
  }
 ],
 "metadata": {
  "kernelspec": {
   "display_name": "Python 3",
   "language": "python",
   "name": "python3"
  },
  "language_info": {
   "codemirror_mode": {
    "name": "ipython",
    "version": 3
   },
   "file_extension": ".py",
   "mimetype": "text/x-python",
   "name": "python",
   "nbconvert_exporter": "python",
   "pygments_lexer": "ipython3",
   "version": "3.8.5"
  }
 },
 "nbformat": 4,
 "nbformat_minor": 4
}
