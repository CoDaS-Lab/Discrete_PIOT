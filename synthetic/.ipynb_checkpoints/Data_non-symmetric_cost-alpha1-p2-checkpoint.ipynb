{
 "cells": [
  {
   "cell_type": "code",
   "execution_count": 162,
   "metadata": {},
   "outputs": [],
   "source": [
    "import sys\n",
    "sys.path.append('../SRC')\n",
    "import PIOT_imports\n",
    "import Sinkhorn\n",
    "import CoDaS_PIOT_general_prior_C\n",
    "from matplotlib import cm\n",
    "import matplotlib.pyplot as plt\n",
    "import numpy as np\n",
    "import pandas as pd\n",
    "import torch\n",
    "import pickle\n",
    "import itertools\n",
    "import matplotlib\n",
    "from scipy.stats import dirichlet"
   ]
  },
  {
   "cell_type": "code",
   "execution_count": 221,
   "metadata": {},
   "outputs": [],
   "source": [
    "def MCMC_sim(T_1, alpha, lam, std, shift, num_burn_in = 10000, num_sampling = 1000000, num_lag = 200):\n",
    "\n",
    "    mean = 0.0\n",
    "    std = std\n",
    "    \n",
    "    nr, nc = len(T_1), len(T_1[0])\n",
    "    \n",
    "    alphas = alpha.reshape((-1,))\n",
    "\n",
    "    print(T_1)\n",
    "    K_1, data_K_1, data_K_burn_in, acceptRatio_1 = \\\n",
    "    CoDaS_PIOT_general_prior_C.runs(T_1, alphas, lam, mean, std, shift, num_burn_in, num_sampling, num_lag)\n",
    "\n",
    "    print('Done...')\n",
    "    return data_K_1, data_K_burn_in\n",
    "\n",
    "def autocorr(x,lags,var):\n",
    "    n_vectors = len(x)\n",
    "    nr, nc = len(x[0]), len(x[0][0])\n",
    "    mean = x.mean(axis = 0)\n",
    "    xp = torch.stack([row-mean for row in x])\n",
    "    corr = np.array([np.correlate(xp[:,r,c],xp[:,r,c],'full') \\\n",
    "                     for r, c in itertools.product(range(nr), range(nc))])[:, n_vectors-1:]\n",
    "    div = np.array([n_vectors-i for i in range(len(lags))])\n",
    "    acorr = corr.sum(axis=0)[:len(lags)]/var/div\n",
    "\n",
    "    return acorr[:len(lags)]\n",
    "\n",
    "def plot_row_sum_corr(data):\n",
    "    nc = len(data[0][0])\n",
    "    row_sum = []\n",
    "\n",
    "    for i in range(len(data)):\n",
    "        row_sum.append(np.array(data[i].sum(axis=1)))\n",
    "\n",
    "    lags = range(1000)\n",
    "    var = np.var(row_sum, axis = 0).sum()\n",
    "    corr = CoDaS_plot.autocorr(row_sum, lags, var)\n",
    "\n",
    "    x = range(len(lags))\n",
    "    plus_1_div_exp = 1/np.exp(1)*np.ones(len(lags))\n",
    "    minus_1_div_exp = - plus_1_div_exp\n",
    "\n",
    "    plt.plot(lags, corr)\n",
    "    plt.plot(x, plus_1_div_exp, 'k--')\n",
    "    plt.plot(x, minus_1_div_exp, 'k--')\n",
    "    \n",
    "def plot_corr(data, lag = 1000):\n",
    "    \n",
    "    lags = range(lag)\n",
    "    var = torch.sum(torch.var(data, axis = 0))\n",
    "    corr = autocorr(data, lags, var)\n",
    "    \n",
    "    x = range(len(lags))\n",
    "    plus_1_div_exp = 1/np.exp(1)*np.ones(len(lags))\n",
    "    minus_1_div_exp = - plus_1_div_exp\n",
    "\n",
    "    plt.plot(lags, corr)\n",
    "    plt.plot(x, plus_1_div_exp, 'k--')\n",
    "    plt.plot(x, minus_1_div_exp, 'k--')\n",
    "    plt.xlabel('t')\n",
    "    plt.ylabel(\"R(t)\")\n",
    "        \n",
    "def plot_one_matrix_simplex(M):\n",
    "    CoDaS_plot.plot_points(np.array([t[0] for t in M]), 'r', 5)\n",
    "    CoDaS_plot.plot_points(np.array([t[1] for t in M]), 'g', 5)\n",
    "    CoDaS_plot.plot_points(np.array([t[2] for t in M]), 'b', 5)\n",
    "    \n",
    "def plot_samples(data, bw_method = 0.1):\n",
    "    nr = len(data[0])\n",
    "    nc = len(data[0][0])\n",
    "    x_i = [[] for _ in range(nr)]\n",
    "    df_all = pd.DataFrame()\n",
    "\n",
    "    colors = ['r', 'g', 'b']\n",
    "\n",
    "    for i in range(nr):\n",
    "        for j in range(nc):\n",
    "            x_i[i] = np.array([K[i][j].numpy() for K in data])\n",
    "\n",
    "\n",
    "            df = pd.DataFrame(x_i[i], columns = ['({},{})'.format(i, j)])\n",
    "            ax1 = df.plot.density(bw_method=bw_method)\n",
    "            ax1.set_xlim(0, 1)\n",
    "            ax1.set_ylim(bottom=0)\n",
    "            \n",
    "    \n",
    "def plot_samples_column(data, bw_method = 0.1):\n",
    "    nr = len(data[0])\n",
    "    nc = len(data[0][0])\n",
    "    x_i = [[] for _ in range(nr)]\n",
    "    df_all = pd.DataFrame()\n",
    "\n",
    "    colors = ['r', 'g', 'b']\n",
    "\n",
    "    for j in range(nc):\n",
    "        x_i = np.array([[K[i][j].numpy() for i in range(nr)] for K in data])\n",
    "\n",
    "        df = pd.DataFrame(x_i, columns = ['({},{})'.format(i,j) for i in range(nr) ])\n",
    "\n",
    "        ax1 = df.plot.density(bw_method=bw_method)\n",
    "        ax1.set_xlim(0, 1)\n",
    "        \n",
    "def running_average(data):\n",
    "    \n",
    "    nc = len(data[0][0])\n",
    "    x = []\n",
    "\n",
    "    for i in range(len(data)):\n",
    "        x.append(np.array(data[i].sum(axis=1)))\n",
    "\n",
    "    x = np.array(x)\n",
    "    nr = len(x)\n",
    "    nc = len(x[0])\n",
    "    ra = [x[0]]\n",
    "    for i in range(1, nr):\n",
    "        ra.append(ra[i-1] + x[i])\n",
    "    for i in range(1, nr):\n",
    "        ra[i] /= (i+1)\n",
    "    return ra\n",
    "\n",
    "def plot_row_sum_running_average(data):\n",
    "    ra = running_average(data)\n",
    "    df_ra = pd.DataFrame(ra)\n",
    "    ax = df_ra.plot()\n",
    "    ax.set_ylabel('Row sum')\n",
    "    ax.set_xlabel('# samples')\n",
    "    #ax.set_ylim(bottom=0.2)\n",
    "\n",
    "\n",
    "def normalizeFactor(T, s):\n",
    "    m, n = len(T), len(T[0])\n",
    "    return np.exp( (s + np.log(T).sum()) /m/n )\n",
    "\n",
    "def addNoise(T, noise, r, c, s):\n",
    "    T_p = T.clone()\n",
    "    T_p[r][c] = T_p[r][c] + noise\n",
    "    a = normalizeFactor(T_p, s)\n",
    "    T_p = T_p / a\n",
    "    return T_p.clone(), a\n",
    "\n",
    "def plot_pdf_all(data, C, C_ma, C_ma2, bw_method = 0.05):\n",
    "    \n",
    "\n",
    "    \n",
    "    data_all = []\n",
    "    for key in data.keys():\n",
    "        data_all += data[key]\n",
    "    nr = len(data[key][0])\n",
    "    nc = len(data[key][0][0])\n",
    "\n",
    "    colors = ['r', 'g', 'b']\n",
    "    \n",
    "    tmp = [data_all[j].numpy() for j in range(len(data_all)) ]\n",
    "    med = np.median(tmp, axis=0)\n",
    "\n",
    "    for i in range(nr):\n",
    "        for j in range(nc):\n",
    "            if i == 0 and j == 8:\n",
    "           \n",
    "                x_i = np.array([K[i][j].numpy() for K in data_all])\n",
    "                df = pd.DataFrame(x_i, columns = ['({},{})'.format(i+1,j+1)])\n",
    "                ax1 = df.plot.density(bw_method=bw_method, color='k')\n",
    "                ylim = ax1.get_ylim()\n",
    "                ax1.vlines(C[i][j], ymin = 0, ymax = 1e8, linestyles = 'solid', color='b', lw=2)\n",
    "                ax1.vlines(med[i][j], ymin = 0, ymax = 1e8, linestyles = 'dashed', color='r', lw=2)\n",
    "\n",
    "                # Ma's result \n",
    "                ax1.vlines(C_ma[i][j], ymin = 0, ymax = 1e8, linestyles = 'dashdot', color='g', lw=2)\n",
    "                ax1.vlines(C_ma2[i][j], ymin = 0, ymax = 1e8, linestyles = 'dotted', color='y', lw=2)\n",
    "                ax1.set_ylim((0, ylim[1]))\n",
    "                ax1.set_xlim(left=0.035, right = 0.0425)\n",
    "                ax1.legend(loc=\"upper left\")\n",
    "\n",
    "                # inset axes....\n",
    "                axins = ax1.inset_axes([0.7, 0.3, 0.25, 0.4])\n",
    "                axins.vlines(C[i][j], ymin = 0, ymax = 0.1, linestyles = 'solid', color='b', lw=4)\n",
    "                axins.vlines(med[i][j], ymin = 0, ymax = 0.1, linestyles = 'dashed', color='r', lw=4)\n",
    "\n",
    "                # Ma's result \n",
    "                axins.vlines(C_ma[i][j], ymin = 0, ymax = 0.1, linestyles = 'dashdot', color='g', lw=4) \n",
    "                axins.vlines(C_ma2[i][j], ymin = 0, ymax = 0.1, linestyles = 'dotted', color='y', lw=4)\n",
    "                # sub region of the original image\n",
    "                x1, x2, y1, y2 = C[i][j]-3e-4, C[i][j]+3e-4, 0, 0.1\n",
    "                axins.set_xlim(x1, x2)\n",
    "                axins.set_ylim(y1, y2)\n",
    "                mid = np.round(C[i][j], 4)\n",
    "                axins.set_xticklabels([])\n",
    "                axins.set_yticklabels([])\n",
    "\n",
    "                ax1.indicate_inset_zoom(axins, edgecolor=\"black\")\n",
    "\n",
    "    \n",
    "def plot_pdf_CR(data, bw_method = 0.05):\n",
    "    noises = [-0.01, -0.005, 0.0, 0.005, 0.01]\n",
    "    n_noise = len(data)\n",
    "    nr = len(data[str(noises[0])][0])\n",
    "    nc = len(data[str(noises[0])][0][0])\n",
    "    #x_i = [[] for _ in range(nr)]\n",
    "    df_all = pd.DataFrame()\n",
    "\n",
    "    color = ['b', 'b', 'g', 'g', 'y', 'y', 'orange', 'orange', 'r', 'r']\n",
    "    linestyles = ('-', '--')\n",
    "    styles = ['b-', 'b--', 'c-', 'c--', 'k-', 'k--', 'm-', 'm--', 'r-', 'r--']\n",
    "\n",
    "\n",
    "    # x_00+x_11 v.s. x_01+x_10\n",
    "    df = pd.DataFrame()\n",
    "    for k in range(n_noise):\n",
    "        x_1 = np.array([K[0][0].numpy()+K[1][1].numpy() for K in data[str(noises[k])]])\n",
    "        df[(noises[k],\"$C_{11}+C_{22}$\")] = x_1\n",
    "        x_2 = np.array([K[1][0].numpy()+K[0][1].numpy() for K in data[str(noises[k])]])\n",
    "        df[(noises[k],\"$C_{21}+C_{12}$\")] = x_2\n",
    "\n",
    "    #ax1 = df.plot.density(bw_method=bw_method, color = color, ls = linestyles)\n",
    "    ax1 = df.plot.density(bw_method=bw_method, style=styles)\n",
    "    ax1.legend(loc='center left', bbox_to_anchor=(1.0, 0.5))\n",
    "    ax1.set_xlim(0, 0.6)\n",
    "    ax1.set_ylim(bottom=0)\n",
    "\n",
    "    # x_01+x_02 v.s. x_11+x_12\n",
    "    df = pd.DataFrame()\n",
    "    for k in range(n_noise):\n",
    "        x_1 = np.array([K[0][1].numpy()+K[1][2].numpy() for K in data[str(noises[k])]])\n",
    "        df[(noises[k],\"$C_{12}+C_{23}$\")] = x_1\n",
    "        x_2 = np.array([K[0][2].numpy()+K[1][1].numpy() for K in data[str(noises[k])]])\n",
    "        df[(noises[k],\"$C_{13}+C_{22}$\")] = x_2\n",
    "\n",
    "    #ax1 = df.plot.density(bw_method=bw_method, color = color, ls = linestyles)\n",
    "    ax1 = df.plot.density(bw_method=bw_method, style=styles)\n",
    "    ax1.legend(loc='center left', bbox_to_anchor=(1.0, 0.5))\n",
    "    ax1.set_xlim(0, 0.6)\n",
    "    ax1.set_ylim(bottom=0)"
   ]
  },
  {
   "cell_type": "code",
   "execution_count": 164,
   "metadata": {},
   "outputs": [
    {
     "data": {
      "text/plain": [
       "array([[2.67641198e-06, 6.07309059e-04, 2.42550118e-03, 5.45304623e-03,\n",
       "        9.69527040e-03, 1.51506089e-02, 2.18126271e-02, 2.96907334e-02,\n",
       "        3.87812375e-02, 4.90771277e-02],\n",
       "       [6.07299164e-04, 5.68761188e-06, 6.09037093e-04, 2.42766665e-03,\n",
       "        5.45898744e-03, 9.69520744e-03, 1.51528531e-02, 2.18131731e-02,\n",
       "        2.96925157e-02, 3.87780671e-02],\n",
       "       [2.42460779e-03, 6.07020946e-04, 3.72708303e-06, 6.11169891e-04,\n",
       "        2.42744054e-03, 5.45831601e-03, 9.69569335e-03, 1.51487080e-02,\n",
       "        2.18170630e-02, 2.96939858e-02],\n",
       "       [5.45799363e-03, 2.42362035e-03, 6.11558761e-04, 4.74650590e-06,\n",
       "        6.06445025e-04, 2.42486477e-03, 5.45783199e-03, 9.69464552e-03,\n",
       "        1.51521208e-02, 2.18129215e-02],\n",
       "       [9.69592351e-03, 5.45860256e-03, 2.42863316e-03, 6.08012742e-04,\n",
       "        5.46880985e-06, 6.08991136e-04, 2.42607673e-03, 5.45594902e-03,\n",
       "        9.69541266e-03, 1.51523419e-02],\n",
       "       [1.51475829e-02, 9.69965334e-03, 5.45427409e-03, 2.42397688e-03,\n",
       "        6.10073332e-04, 2.85629736e-06, 6.07433736e-04, 2.42729526e-03,\n",
       "        5.45332469e-03, 9.69778388e-03],\n",
       "       [2.18141544e-02, 1.51486530e-02, 9.69734129e-03, 5.45814153e-03,\n",
       "        2.42802304e-03, 6.10358498e-04, 5.66540964e-06, 6.10838512e-04,\n",
       "        2.42405746e-03, 5.45680063e-03],\n",
       "       [2.96894049e-02, 2.18169762e-02, 1.51486363e-02, 9.69478097e-03,\n",
       "        5.45644079e-03, 2.42618809e-03, 6.07917980e-04, 2.00877209e-06,\n",
       "        6.08621475e-04, 2.42766629e-03],\n",
       "       [3.87786222e-02, 2.96921386e-02, 2.18160046e-02, 1.51517606e-02,\n",
       "        9.69435280e-03, 5.45891867e-03, 2.42682494e-03, 6.09166436e-04,\n",
       "        3.49634568e-06, 6.06864240e-04],\n",
       "       [4.90805437e-02, 3.87778415e-02, 2.96942158e-02, 2.18136727e-02,\n",
       "        1.51473986e-02, 9.69520367e-03, 5.45649117e-03, 2.42495867e-03,\n",
       "        6.05994819e-04, 2.07432270e-06]])"
      ]
     },
     "execution_count": 164,
     "metadata": {},
     "output_type": "execute_result"
    }
   ],
   "source": [
    "def init_symmetric_cost(n, p):\n",
    "    c = np.zeros((n, n)).astype(np.double)\n",
    "    for i in range(n):\n",
    "        for j in range(n):\n",
    "            c[i][j] = ((np.abs((i-j)/n))**p)\n",
    "    return c\n",
    "\n",
    "n = 10\n",
    "nr, nc = n, n\n",
    "p = 2\n",
    "noise = 1e-4\n",
    "\n",
    "C = init_symmetric_cost(n, p)\n",
    "C += np.random.rand(n,n)*noise\n",
    "\n",
    "\n",
    "C = C / C.sum()\n",
    "C"
   ]
  },
  {
   "cell_type": "code",
   "execution_count": 165,
   "metadata": {},
   "outputs": [
    {
     "data": {
      "text/plain": [
       "tensor([[0.0042, 0.0266, 0.0133, 0.0144, 0.0152, 0.0011, 0.0208, 0.0130, 0.0069,\n",
       "         0.0084],\n",
       "        [0.0038, 0.0243, 0.0123, 0.0135, 0.0144, 0.0010, 0.0202, 0.0128, 0.0069,\n",
       "         0.0084],\n",
       "        [0.0028, 0.0186, 0.0095, 0.0106, 0.0114, 0.0008, 0.0164, 0.0105, 0.0057,\n",
       "         0.0071],\n",
       "        [0.0038, 0.0252, 0.0131, 0.0147, 0.0160, 0.0011, 0.0236, 0.0153, 0.0084,\n",
       "         0.0106],\n",
       "        [0.0022, 0.0148, 0.0078, 0.0088, 0.0097, 0.0007, 0.0147, 0.0096, 0.0054,\n",
       "         0.0068],\n",
       "        [0.0012, 0.0080, 0.0042, 0.0049, 0.0054, 0.0004, 0.0084, 0.0056, 0.0032,\n",
       "         0.0041],\n",
       "        [0.0028, 0.0194, 0.0104, 0.0121, 0.0137, 0.0010, 0.0217, 0.0146, 0.0084,\n",
       "         0.0109],\n",
       "        [0.0029, 0.0203, 0.0111, 0.0130, 0.0149, 0.0011, 0.0242, 0.0165, 0.0095,\n",
       "         0.0126],\n",
       "        [0.0021, 0.0146, 0.0080, 0.0096, 0.0111, 0.0008, 0.0185, 0.0127, 0.0075,\n",
       "         0.0099],\n",
       "        [0.0015, 0.0105, 0.0059, 0.0071, 0.0083, 0.0006, 0.0142, 0.0099, 0.0059,\n",
       "         0.0079]], dtype=torch.float64)"
      ]
     },
     "execution_count": 165,
     "metadata": {},
     "output_type": "execute_result"
    }
   ],
   "source": [
    "lam = 1e1\n",
    "K = torch.exp(-lam*torch.tensor(C))\n",
    "stopThr = 1e-9\n",
    "numItermax = 1e5\n",
    "#r, c = torch.ones(len(K))/len(K), torch.ones(len(K[0]))/len(K[0])\n",
    "r, c = torch.rand(len(K)), torch.rand(len(K[0]))\n",
    "r = r / r.sum()\n",
    "c = c / c.sum()\n",
    "\n",
    "T_g = Sinkhorn.sinkhorn_torch(mat=K,\n",
    "                                row_sum = r, \n",
    "                                col_sum = c, \n",
    "                                epsilon=stopThr, \n",
    "                                max_iter=numItermax)\n",
    "T_g"
   ]
  },
  {
   "cell_type": "code",
   "execution_count": 166,
   "metadata": {},
   "outputs": [
    {
     "data": {
      "text/plain": [
       "tensor([[1.2362, 1.1803, 1.1255, 1.0720, 1.0197, 0.9688, 0.9194, 0.8713, 0.8247,\n",
       "         0.7797],\n",
       "        [1.1756, 1.1360, 1.0966, 1.0571, 1.0178, 0.9789, 0.9401, 0.9019, 0.8641,\n",
       "         0.8269],\n",
       "        [1.1167, 1.0923, 1.0672, 1.0413, 1.0149, 0.9879, 0.9604, 0.9326, 0.9044,\n",
       "         0.8759],\n",
       "        [1.0596, 1.0491, 1.0374, 1.0247, 1.0109, 0.9960, 0.9800, 0.9632, 0.9455,\n",
       "         0.9270],\n",
       "        [1.0044, 1.0065, 1.0075, 1.0072, 1.0057, 1.0030, 0.9990, 0.9938, 0.9875,\n",
       "         0.9799],\n",
       "        [0.9510, 0.9646, 0.9773, 0.9890, 0.9995, 1.0090, 1.0172, 1.0243, 1.0301,\n",
       "         1.0347],\n",
       "        [0.8994, 0.9235, 0.9471, 0.9700, 0.9923, 1.0139, 1.0346, 1.0545, 1.0735,\n",
       "         1.0914],\n",
       "        [0.8498, 0.8831, 0.9167, 0.9504, 0.9841, 1.0177, 1.0513, 1.0845, 1.1174,\n",
       "         1.1499],\n",
       "        [0.8020, 0.8436, 0.8864, 0.9301, 0.9749, 1.0205, 1.0669, 1.1141, 1.1619,\n",
       "         1.2104],\n",
       "        [0.7560, 0.8050, 0.8561, 0.9093, 0.9647, 1.0222, 1.0817, 1.1433, 1.2069,\n",
       "         1.2725]], dtype=torch.float64)"
      ]
     },
     "execution_count": 166,
     "metadata": {},
     "output_type": "execute_result"
    }
   ],
   "source": [
    "T_g/ (r.reshape(10,1)@c.reshape(1, 10))"
   ]
  },
  {
   "cell_type": "code",
   "execution_count": 167,
   "metadata": {},
   "outputs": [
    {
     "data": {
      "text/plain": [
       "(tensor([0.1238, 0.1176, 0.0933, 0.1318, 0.0806, 0.0452, 0.1151, 0.1261, 0.0947,\n",
       "         0.0717]),\n",
       " tensor([0.0271, 0.1822, 0.0956, 0.1088, 0.1200, 0.0088, 0.1827, 0.1205, 0.0677,\n",
       "         0.0867]))"
      ]
     },
     "execution_count": 167,
     "metadata": {},
     "output_type": "execute_result"
    }
   ],
   "source": [
    "r, c"
   ]
  },
  {
   "cell_type": "code",
   "execution_count": 169,
   "metadata": {},
   "outputs": [
    {
     "name": "stdout",
     "output_type": "stream",
     "text": [
      "0.0\n",
      "tensor([[1.0000, 0.9959, 0.9799, 0.9525, 0.9145, 0.8675, 0.8129, 0.7525, 0.6881,\n",
      "         0.6217],\n",
      "        [0.9920, 1.0000, 0.9959, 0.9798, 0.9522, 0.9143, 0.8671, 0.8125, 0.7521,\n",
      "         0.6877],\n",
      "        [0.9722, 0.9920, 1.0000, 0.9958, 0.9796, 0.9520, 0.9140, 0.8668, 0.8121,\n",
      "         0.7517],\n",
      "        [0.9414, 0.9724, 0.9921, 1.0000, 0.9957, 0.9795, 0.9518, 0.9137, 0.8665,\n",
      "         0.8118],\n",
      "        [0.9007, 0.9416, 0.9725, 0.9922, 1.0000, 0.9956, 0.9793, 0.9516, 0.9134,\n",
      "         0.8661],\n",
      "        [0.8515, 0.9009, 0.9418, 0.9726, 0.9922, 1.0000, 0.9956, 0.9791, 0.9514,\n",
      "         0.9131],\n",
      "        [0.7953, 0.8518, 0.9013, 0.9420, 0.9728, 0.9923, 1.0000, 0.9955, 0.9790,\n",
      "         0.9511],\n",
      "        [0.7339, 0.7956, 0.8521, 0.9015, 0.9423, 0.9729, 0.9924, 1.0000, 0.9954,\n",
      "         0.9788],\n",
      "        [0.6691, 0.7342, 0.7960, 0.8524, 0.9018, 0.9424, 0.9731, 0.9924, 1.0000,\n",
      "         0.9953],\n",
      "        [0.6028, 0.6695, 0.7346, 0.7963, 0.8527, 0.9021, 0.9427, 0.9732, 0.9925,\n",
      "         1.0000]], dtype=torch.float64)\n",
      "tensor([[3.8319e-06, 4.0681e-04, 2.0311e-03, 4.8717e-03, 8.9351e-03, 1.4220e-02,\n",
      "         2.0717e-02, 2.8440e-02, 3.7381e-02, 4.7536e-02],\n",
      "        [8.0711e-04, 3.8384e-06, 4.1325e-04, 2.0449e-03, 4.8975e-03, 8.9629e-03,\n",
      "         1.4256e-02, 2.0761e-02, 2.8491e-02, 3.7436e-02],\n",
      "        [2.8203e-03, 8.0107e-04, 3.8481e-06, 4.2433e-04, 2.0618e-03, 4.9219e-03,\n",
      "         8.9944e-03, 1.4293e-02, 2.0812e-02, 2.8548e-02],\n",
      "        [6.0397e-03, 2.8036e-03, 7.9763e-04, 3.8528e-06, 4.2680e-04, 2.0744e-03,\n",
      "         4.9425e-03, 9.0248e-03, 1.4333e-02, 2.0853e-02],\n",
      "        [1.0456e-02, 6.0166e-03, 2.7927e-03, 7.8516e-04, 3.8646e-06, 4.3657e-04,\n",
      "         2.0888e-03, 4.9642e-03, 9.0540e-03, 1.4370e-02],\n",
      "        [1.6081e-02, 1.0431e-02, 5.9918e-03, 2.7745e-03, 7.8187e-04, 3.8368e-06,\n",
      "         4.4355e-04, 2.1089e-03, 4.9854e-03, 9.0891e-03],\n",
      "        [2.2909e-02, 1.6042e-02, 1.0397e-02, 5.9708e-03, 2.7619e-03, 7.7340e-04,\n",
      "         3.8364e-06, 4.5452e-04, 2.1182e-03, 5.0102e-03],\n",
      "        [3.0943e-02, 2.2869e-02, 1.6006e-02, 1.0366e-02, 5.9484e-03, 2.7474e-03,\n",
      "         7.6424e-04, 3.8348e-06, 4.6087e-04, 2.1392e-03],\n",
      "        [4.0180e-02, 3.0892e-02, 2.2822e-02, 1.5971e-02, 1.0334e-02, 5.9282e-03,\n",
      "         2.7312e-03, 7.5907e-04, 3.8272e-06, 4.6647e-04],\n",
      "        [5.0624e-02, 4.0120e-02, 3.0842e-02, 2.2775e-02, 1.5930e-02, 1.0307e-02,\n",
      "         5.9031e-03, 2.7170e-03, 7.4849e-04, 3.8370e-06]], dtype=torch.float64)\n",
      "tensor(3.8272e-06, dtype=torch.float64)\n",
      " \n"
     ]
    }
   ],
   "source": [
    "def rescale_diagonal(K):\n",
    "    nr, nc = len(K), len(K[0])\n",
    "    K_diag = torch.tensor([K[i][i].item() for i in range(nr)])\n",
    "    K = K / np.sqrt(K_diag.reshape(nr, 1)+1e-6)\n",
    "    K = K / np.sqrt(K_diag.reshape(1, nc)+1e-6)\n",
    "    return K\n",
    "\n",
    "noises = [0.]\n",
    "row, col = 0, 0\n",
    "\n",
    "for noise in noises:\n",
    "    lam = 10\n",
    "    T_g2 = T_g / (r.reshape(10,1)@c.reshape(1, 10))\n",
    "    T_p = rescale_diagonal(T_g2)\n",
    "    T_p, a = addNoise(T_p, noise, row, col, lam)\n",
    "    \n",
    "    print(noise)\n",
    "    print(T_p)\n",
    "    print(-np.log(T_p)/lam)\n",
    "    print(torch.min(-np.log(T_p)/lam))\n",
    "    if torch.min(-np.log(T_p)/lam) < 0.:\n",
    "        print(\"WARNING\")\n",
    "    print(' ')"
   ]
  },
  {
   "cell_type": "code",
   "execution_count": 173,
   "metadata": {
    "scrolled": true
   },
   "outputs": [],
   "source": [
    "def sim(T, alpha):\n",
    "    std = 0.0\n",
    "    power_k = 3\n",
    "    shift = 1e-3\n",
    "    lam = 10\n",
    "    num_burn_in = 100000\n",
    "    num_lag = 500\n",
    "    num_sampling = num_lag*10000\n",
    "\n",
    "\n",
    "    data_C, data_C_burn_in = MCMC_sim(T, alpha, lam, std, shift, num_burn_in, num_sampling, num_lag)\n",
    "    return data_C, data_C_burn_in"
   ]
  },
  {
   "cell_type": "code",
   "execution_count": 174,
   "metadata": {},
   "outputs": [
    {
     "name": "stderr",
     "output_type": "stream",
     "text": [
      "  0%|          | 354/100000 [00:00<00:28, 3539.93it/s]"
     ]
    },
    {
     "name": "stdout",
     "output_type": "stream",
     "text": [
      "alpha:\n",
      "tensor([[1., 1., 1., 1., 1., 1., 1., 1., 1., 1.],\n",
      "        [1., 1., 1., 1., 1., 1., 1., 1., 1., 1.],\n",
      "        [1., 1., 1., 1., 1., 1., 1., 1., 1., 1.],\n",
      "        [1., 1., 1., 1., 1., 1., 1., 1., 1., 1.],\n",
      "        [1., 1., 1., 1., 1., 1., 1., 1., 1., 1.],\n",
      "        [1., 1., 1., 1., 1., 1., 1., 1., 1., 1.],\n",
      "        [1., 1., 1., 1., 1., 1., 1., 1., 1., 1.],\n",
      "        [1., 1., 1., 1., 1., 1., 1., 1., 1., 1.],\n",
      "        [1., 1., 1., 1., 1., 1., 1., 1., 1., 1.],\n",
      "        [1., 1., 1., 1., 1., 1., 1., 1., 1., 1.]])\n",
      "tensor([[1.0000, 0.9959, 0.9799, 0.9525, 0.9145, 0.8675, 0.8129, 0.7525, 0.6881,\n",
      "         0.6217],\n",
      "        [0.9920, 1.0000, 0.9959, 0.9798, 0.9522, 0.9143, 0.8671, 0.8125, 0.7521,\n",
      "         0.6877],\n",
      "        [0.9722, 0.9920, 1.0000, 0.9958, 0.9796, 0.9520, 0.9140, 0.8668, 0.8121,\n",
      "         0.7517],\n",
      "        [0.9414, 0.9724, 0.9921, 1.0000, 0.9957, 0.9795, 0.9518, 0.9137, 0.8665,\n",
      "         0.8118],\n",
      "        [0.9007, 0.9416, 0.9725, 0.9922, 1.0000, 0.9956, 0.9793, 0.9516, 0.9134,\n",
      "         0.8661],\n",
      "        [0.8515, 0.9009, 0.9418, 0.9726, 0.9922, 1.0000, 0.9956, 0.9791, 0.9514,\n",
      "         0.9131],\n",
      "        [0.7953, 0.8518, 0.9013, 0.9420, 0.9728, 0.9923, 1.0000, 0.9955, 0.9790,\n",
      "         0.9511],\n",
      "        [0.7339, 0.7956, 0.8521, 0.9015, 0.9423, 0.9729, 0.9924, 1.0000, 0.9954,\n",
      "         0.9788],\n",
      "        [0.6691, 0.7342, 0.7960, 0.8524, 0.9018, 0.9424, 0.9731, 0.9924, 1.0000,\n",
      "         0.9953],\n",
      "        [0.6028, 0.6695, 0.7346, 0.7963, 0.8527, 0.9021, 0.9427, 0.9732, 0.9925,\n",
      "         1.0000]], dtype=torch.float64)\n",
      "Burn in steps:\n"
     ]
    },
    {
     "name": "stderr",
     "output_type": "stream",
     "text": [
      "100%|██████████| 100000/100000 [00:28<00:00, 3566.92it/s]\n",
      "  0%|          | 949/5000000 [00:00<17:35, 4738.06it/s]"
     ]
    },
    {
     "name": "stdout",
     "output_type": "stream",
     "text": [
      "Burn in acceptance Ratio: 0.42\n",
      "Sampling steps:\n"
     ]
    },
    {
     "name": "stderr",
     "output_type": "stream",
     "text": [
      "100%|██████████| 5000000/5000000 [23:24<00:00, 3560.36it/s]"
     ]
    },
    {
     "name": "stdout",
     "output_type": "stream",
     "text": [
      "Sampling acceptance Ratio: 0.42\n",
      "Size of data K: 10000\n",
      "Done...\n"
     ]
    },
    {
     "name": "stderr",
     "output_type": "stream",
     "text": [
      "\n"
     ]
    }
   ],
   "source": [
    "data_C_all = {}\n",
    "data_C_burn_in_all = {}\n",
    "\n",
    "alpha = torch.ones(nr, nc)\n",
    "    \n",
    "print('alpha:')\n",
    "print(alpha)\n",
    "\n",
    "for noise in noises:\n",
    "    T_g2 = T_g / (r.reshape(10,1)@c.reshape(1, 10))\n",
    "    T_p = rescale_diagonal(T_g2)\n",
    "    T_p, _ = addNoise(T_p, noise, row, col, lam)\n",
    "    \n",
    "    data_C, data_C_burn_in = sim(T_p.clone(), alpha)\n",
    "    data_C_all[str(noise)] = data_C\n",
    "    data_C_burn_in_all[str(noise)] = data_C_burn_in"
   ]
  },
  {
   "cell_type": "code",
   "execution_count": 175,
   "metadata": {},
   "outputs": [
    {
     "data": {
      "image/png": "[encoded data removed]",
      "text/plain": [
       "<Figure size 432x288 with 1 Axes>"
      ]
     },
     "metadata": {
      "needs_background": "light"
     },
     "output_type": "display_data"
    }
   ],
   "source": [
    "for key in data_C_burn_in_all.keys():\n",
    "    plot_corr(torch.stack(data_C_burn_in_all[key][-5000:]), lag = 2000)"
   ]
  },
  {
   "cell_type": "code",
   "execution_count": 222,
   "metadata": {},
   "outputs": [
    {
     "data": {
      "image/png": "[encoded data removed]",
      "text/plain": [
       "<Figure size 432x288 with 1 Axes>"
      ]
     },
     "metadata": {
      "needs_background": "light"
     },
     "output_type": "display_data"
    }
   ],
   "source": [
    "# Simulation data using Algorithm 1 from Ma et al.\n",
    "C_ma = np.array([[0.        , 0.00061482, 0.00243105, 0.00543901, 0.00965585,\n",
    "        0.01508151, 0.02171262, 0.02956044, 0.03860742, 0.04884417],\n",
    "       [0.00061482, 0.        , 0.00060805, 0.0024219 , 0.00542801,\n",
    "        0.00964289, 0.01505757, 0.0216999 , 0.02954853, 0.03858898],\n",
    "       [0.00243105, 0.00060805, 0.        , 0.00061335, 0.00242129,\n",
    "        0.00543692, 0.00965631, 0.01508331, 0.02171282, 0.02955311],\n",
    "       [0.00543901, 0.0024219 , 0.00061335, 0.        , 0.00061697,\n",
    "        0.00242577, 0.00543764, 0.00965216, 0.01509085, 0.02171868],\n",
    "       [0.00965585, 0.00542801, 0.00242129, 0.00061697, 0.        ,\n",
    "        0.00061472, 0.00240613, 0.00542928, 0.00965503, 0.01506726],\n",
    "       [0.01508151, 0.00964289, 0.00543692, 0.00242577, 0.00061472,\n",
    "        0.        , 0.00059603, 0.00240887, 0.00543185, 0.00965022],\n",
    "       [0.02171262, 0.01505757, 0.00965631, 0.00543764, 0.00240613,\n",
    "        0.00059603, 0.        , 0.00059486, 0.00240023, 0.00542328],\n",
    "       [0.02956044, 0.0216999 , 0.01508331, 0.00965216, 0.00542928,\n",
    "        0.00240887, 0.00059486, 0.        , 0.00060583, 0.00239697],\n",
    "       [0.03860742, 0.02954853, 0.02171282, 0.01509085, 0.00965503,\n",
    "        0.00543185, 0.00240023, 0.00060583, 0.        , 0.0006018 ],\n",
    "       [0.04884417, 0.03858898, 0.02955311, 0.02171868, 0.01506726,\n",
    "        0.00965022, 0.00542328, 0.00239697, 0.0006018 , 0.        ]])\n",
    "\n",
    "C_ma2 = np.array([[0.        , 0.00061482, 0.00243105, 0.00543901, 0.00965585,\n",
    "        0.01508151, 0.02171262, 0.02956044, 0.03860742, 0.04884417],\n",
    "       [0.00061482, 0.        , 0.00060805, 0.0024219 , 0.00542801,\n",
    "        0.00964289, 0.01505757, 0.0216999 , 0.02954853, 0.03858898],\n",
    "       [0.00243105, 0.00060805, 0.        , 0.00061335, 0.00242129,\n",
    "        0.00543692, 0.00965631, 0.01508331, 0.02171282, 0.02955311],\n",
    "       [0.00543901, 0.0024219 , 0.00061335, 0.        , 0.00061697,\n",
    "        0.00242577, 0.00543764, 0.00965216, 0.01509085, 0.02171868],\n",
    "       [0.00965585, 0.00542801, 0.00242129, 0.00061697, 0.        ,\n",
    "        0.00061472, 0.00240613, 0.00542928, 0.00965503, 0.01506726],\n",
    "       [0.01508151, 0.00964289, 0.00543692, 0.00242577, 0.00061472,\n",
    "        0.        , 0.00059603, 0.00240887, 0.00543185, 0.00965022],\n",
    "       [0.02171262, 0.01505757, 0.00965631, 0.00543764, 0.00240613,\n",
    "        0.00059603, 0.        , 0.00059486, 0.00240023, 0.00542328],\n",
    "       [0.02956044, 0.0216999 , 0.01508331, 0.00965216, 0.00542928,\n",
    "        0.00240887, 0.00059486, 0.        , 0.00060583, 0.00239697],\n",
    "       [0.03860742, 0.02954853, 0.02171282, 0.01509085, 0.00965503,\n",
    "        0.00543185, 0.00240023, 0.00060583, 0.        , 0.0006018 ],\n",
    "       [0.04884417, 0.03858898, 0.02955311, 0.02171868, 0.01506726,\n",
    "        0.00965022, 0.00542328, 0.00239697, 0.0006018 , 0.        ]])\n",
    "\n",
    "matplotlib.rcParams.update({'font.size': 25})\n",
    "plot_pdf_all(data_C_all, C, C_ma, C_ma2)"
   ]
  },
  {
   "cell_type": "code",
   "execution_count": 177,
   "metadata": {},
   "outputs": [
    {
     "data": {
      "image/png": "[encoded data removed]",
      "text/plain": [
       "<Figure size 432x288 with 1 Axes>"
      ]
     },
     "metadata": {
      "needs_background": "light"
     },
     "output_type": "display_data"
    }
   ],
   "source": [
    "for key in data_C_burn_in_all.keys():\n",
    "    plot_row_sum_running_average(data_C_all[key])\n"
   ]
  },
  {
   "cell_type": "code",
   "execution_count": 178,
   "metadata": {},
   "outputs": [
    {
     "name": "stdout",
     "output_type": "stream",
     "text": [
      "0.0003645677722859899\n"
     ]
    }
   ],
   "source": [
    "from statistics import median\n",
    "\n",
    "def relative_error(a, b):\n",
    "    return np.linalg.norm(a-b) / np.linalg.norm(b)\n",
    "\n",
    "\n",
    "def get_median(data):\n",
    "    tmp = [data[j].numpy() for j in range(len(data)) ]\n",
    "    med = np.median(tmp, axis=0)\n",
    "    error_med = relative_error(torch.tensor(med), C)\n",
    "    return error_med\n",
    "\n",
    "\n",
    "N = len(data_C)\n",
    "steps = 1\n",
    "error = get_median(data_C)\n",
    "print(error)"
   ]
  },
  {
   "cell_type": "code",
   "execution_count": 179,
   "metadata": {},
   "outputs": [
    {
     "data": {
      "text/plain": [
       "0.04513113953418376"
      ]
     },
     "execution_count": 179,
     "metadata": {},
     "output_type": "execute_result"
    }
   ],
   "source": [
    "relative_error(-np.log(T_p)/lam, C)"
   ]
  },
  {
   "cell_type": "code",
   "execution_count": null,
   "metadata": {},
   "outputs": [],
   "source": [
    "with open('data_symmetric.pkl', 'wb') as handle:\n",
    "    pickle.dump(data_C_all, handle, protocol=pickle.HIGHEST_PROTOCOL)\n",
    "with open('data_C_burn_in_response.pkl', 'wb') as handle:\n",
    "    pickle.dump(data_C_burn_in_all, handle, protocol=pickle.HIGHEST_PROTOCOL)"
   ]
  },
  {
   "cell_type": "code",
   "execution_count": null,
   "metadata": {},
   "outputs": [],
   "source": []
  }
 ],
 "metadata": {
  "kernelspec": {
   "display_name": "Python 3",
   "language": "python",
   "name": "python3"
  },
  "language_info": {
   "codemirror_mode": {
    "name": "ipython",
    "version": 3
   },
   "file_extension": ".py",
   "mimetype": "text/x-python",
   "name": "python",
   "nbconvert_exporter": "python",
   "pygments_lexer": "ipython3",
   "version": "3.8.5"
  }
 },
 "nbformat": 4,
 "nbformat_minor": 4
}
