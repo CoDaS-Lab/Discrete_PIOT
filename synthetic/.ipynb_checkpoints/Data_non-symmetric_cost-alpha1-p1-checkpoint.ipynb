{
 "cells": [
  {
   "cell_type": "code",
   "execution_count": 66,
   "metadata": {},
   "outputs": [],
   "source": [
    "import sys\n",
    "sys.path.append('../SRC')\n",
    "import PIOT_imports\n",
    "import Sinkhorn\n",
    "import CoDaS_PIOT_general_prior_C\n",
    "from matplotlib import cm\n",
    "import matplotlib.pyplot as plt\n",
    "import numpy as np\n",
    "import pandas as pd\n",
    "import torch\n",
    "import pickle\n",
    "import itertools\n",
    "import matplotlib\n",
    "from scipy.stats import dirichlet"
   ]
  },
  {
   "cell_type": "code",
   "execution_count": 137,
   "metadata": {},
   "outputs": [],
   "source": [
    "def MCMC_sim(T_1, alpha, lam, std, shift, num_burn_in = 10000, num_sampling = 1000000, num_lag = 200):\n",
    "\n",
    "    mean = 0.0\n",
    "    std = std\n",
    "    \n",
    "    nr, nc = len(T_1), len(T_1[0])\n",
    "    \n",
    "    alphas = alpha.reshape((-1,))\n",
    "\n",
    "    print(T_1)\n",
    "    K_1, data_K_1, data_K_burn_in, acceptRatio_1 = \\\n",
    "    CoDaS_PIOT_general_prior_C.runs(T_1, alphas, lam, mean, std, shift, num_burn_in, num_sampling, num_lag)\n",
    "\n",
    "    print('Done...')\n",
    "    return data_K_1, data_K_burn_in\n",
    "\n",
    "def autocorr(x,lags,var):\n",
    "    n_vectors = len(x)\n",
    "    nr, nc = len(x[0]), len(x[0][0])\n",
    "    mean = x.mean(axis = 0)\n",
    "    xp = torch.stack([row-mean for row in x])\n",
    "    corr = np.array([np.correlate(xp[:,r,c],xp[:,r,c],'full') \\\n",
    "                     for r, c in itertools.product(range(nr), range(nc))])[:, n_vectors-1:]\n",
    "    div = np.array([n_vectors-i for i in range(len(lags))])\n",
    "    acorr = corr.sum(axis=0)[:len(lags)]/var/div\n",
    "\n",
    "    return acorr[:len(lags)]\n",
    "\n",
    "def plot_row_sum_corr(data):\n",
    "    nc = len(data[0][0])\n",
    "    row_sum = []\n",
    "\n",
    "    for i in range(len(data)):\n",
    "        row_sum.append(np.array(data[i].sum(axis=1)))\n",
    "\n",
    "    lags = range(1000)\n",
    "    var = np.var(row_sum, axis = 0).sum()\n",
    "    corr = CoDaS_plot.autocorr(row_sum, lags, var)\n",
    "\n",
    "    x = range(len(lags))\n",
    "    plus_1_div_exp = 1/np.exp(1)*np.ones(len(lags))\n",
    "    minus_1_div_exp = - plus_1_div_exp\n",
    "\n",
    "    plt.plot(lags, corr)\n",
    "    plt.plot(x, plus_1_div_exp, 'k--')\n",
    "    plt.plot(x, minus_1_div_exp, 'k--')\n",
    "    \n",
    "def plot_corr(data, lag = 1000):\n",
    "    \n",
    "    lags = range(lag)\n",
    "    var = torch.sum(torch.var(data, axis = 0))\n",
    "    corr = autocorr(data, lags, var)\n",
    "    \n",
    "    x = range(len(lags))\n",
    "    plus_1_div_exp = 1/np.exp(1)*np.ones(len(lags))\n",
    "    minus_1_div_exp = - plus_1_div_exp\n",
    "\n",
    "    plt.plot(lags, corr)\n",
    "    plt.plot(x, plus_1_div_exp, 'k--')\n",
    "    plt.plot(x, minus_1_div_exp, 'k--')\n",
    "    plt.xlabel('t')\n",
    "    plt.ylabel(\"R(t)\")\n",
    "        \n",
    "def plot_one_matrix_simplex(M):\n",
    "    CoDaS_plot.plot_points(np.array([t[0] for t in M]), 'r', 5)\n",
    "    CoDaS_plot.plot_points(np.array([t[1] for t in M]), 'g', 5)\n",
    "    CoDaS_plot.plot_points(np.array([t[2] for t in M]), 'b', 5)\n",
    "    \n",
    "def plot_samples(data, bw_method = 0.1):\n",
    "    nr = len(data[0])\n",
    "    nc = len(data[0][0])\n",
    "    x_i = [[] for _ in range(nr)]\n",
    "    df_all = pd.DataFrame()\n",
    "\n",
    "    colors = ['r', 'g', 'b']\n",
    "\n",
    "    for i in range(nr):\n",
    "        for j in range(nc):\n",
    "            x_i[i] = np.array([K[i][j].numpy() for K in data])\n",
    "\n",
    "\n",
    "            df = pd.DataFrame(x_i[i], columns = ['({},{})'.format(i, j)])\n",
    "\n",
    "            ax1 = df.plot.density(bw_method=bw_method)\n",
    "            ax1.set_xlim(0, 1)\n",
    "            ax1.set_ylim(bottom=0)\n",
    "            \n",
    "    \n",
    "def plot_samples_column(data, bw_method = 0.1):\n",
    "    nr = len(data[0])\n",
    "    nc = len(data[0][0])\n",
    "    x_i = [[] for _ in range(nr)]\n",
    "    df_all = pd.DataFrame()\n",
    "\n",
    "    colors = ['r', 'g', 'b']\n",
    "\n",
    "    for j in range(nc):\n",
    "        x_i = np.array([[K[i][j].numpy() for i in range(nr)] for K in data])\n",
    "\n",
    "        df = pd.DataFrame(x_i, columns = ['({},{})'.format(i,j) for i in range(nr) ])\n",
    "\n",
    "        ax1 = df.plot.density(bw_method=bw_method)\n",
    "        ax1.set_xlim(0, 1)\n",
    "        \n",
    "def running_average(data):\n",
    "    \n",
    "    nc = len(data[0][0])\n",
    "    x = []\n",
    "\n",
    "    for i in range(len(data)):\n",
    "        x.append(np.array(data[i].sum(axis=1)))\n",
    "\n",
    "    x = np.array(x)\n",
    "    nr = len(x)\n",
    "    nc = len(x[0])\n",
    "    ra = [x[0]]\n",
    "    for i in range(1, nr):\n",
    "        ra.append(ra[i-1] + x[i])\n",
    "    for i in range(1, nr):\n",
    "        ra[i] /= (i+1)\n",
    "    return ra\n",
    "\n",
    "def plot_row_sum_running_average(data):\n",
    "    ra = running_average(data)\n",
    "    df_ra = pd.DataFrame(ra)\n",
    "    ax = df_ra.plot()\n",
    "    ax.set_ylabel('Row sum')\n",
    "    ax.set_xlabel('# samples')\n",
    "    #ax.set_ylim(bottom=0.2)\n",
    "\n",
    "\n",
    "def normalizeFactor(T, s):\n",
    "    m, n = len(T), len(T[0])\n",
    "    return np.exp( (s + np.log(T).sum()) /m/n )\n",
    "\n",
    "def addNoise(T, noise, r, c, s):\n",
    "    T_p = T.clone()\n",
    "    T_p[r][c] = T_p[r][c] + noise\n",
    "    a = normalizeFactor(T_p, s)\n",
    "    T_p = T_p / a\n",
    "    return T_p.clone(), a\n",
    "\n",
    "def plot_pdf_all(data, C, C_ma, C_ma2, bw_method = 0.05):\n",
    "    \n",
    "\n",
    "    \n",
    "    data_all = []\n",
    "    for key in data.keys():\n",
    "        data_all += data[key]\n",
    "    nr = len(data[key][0])\n",
    "    nc = len(data[key][0][0])\n",
    "\n",
    "    colors = ['r', 'g', 'b']\n",
    "    \n",
    "    tmp = [data_all[j].numpy() for j in range(len(data_all)) ]\n",
    "    med = np.median(tmp, axis=0)\n",
    "\n",
    "    for i in range(nr):\n",
    "        for j in range(nc):\n",
    "            if i == 0 and j == 8:\n",
    "                x_i = np.array([K[i][j].numpy() for K in data_all])\n",
    "                df = pd.DataFrame(x_i, columns = ['({},{})'.format(i+1,j+1)])\n",
    "                ax1 = df.plot.density(bw_method=bw_method, color='k')\n",
    "                ax1.legend(loc='upper left')\n",
    "                ylim = ax1.get_ylim()\n",
    "                ax1.vlines(C[i][j], ymin = 0, ymax = 1e8, linestyles = 'solid', color='b', lw=2)\n",
    "                ax1.vlines(med[i][j], ymin = 0, ymax = 1e8, linestyles = 'dashed', color='r', lw=2)\n",
    "\n",
    "                # Ma's result \n",
    "                ax1.vlines(C_ma[i][j], ymin = 0, ymax = 1e8, linestyles = 'dashdot', color='g', lw=2)\n",
    "                ax1.vlines(C_ma2[i][j], ymin = 0, ymax = 1e8, linestyles = 'dotted', color='y', lw=2)\n",
    "                ax1.set_ylim((0, ylim[1]))\n",
    "                ax1.set_xlim(left=0.01, right = 0.04)\n",
    "\n",
    "                # inset axes....\n",
    "                axins = ax1.inset_axes([0.7, 0.3, 0.25, 0.4])\n",
    "                axins.vlines(C[i][j], ymin = 0, ymax = 0.1, linestyles = 'solid', color='b', lw=4)\n",
    "                axins.vlines(med[i][j], ymin = 0, ymax = 0.1, linestyles = 'dashed', color='r', lw=4)\n",
    "\n",
    "                # Ma's result \n",
    "                axins.vlines(C_ma[i][j], ymin = 0, ymax = 0.1, linestyles = 'dashdot', color='g', lw=4) \n",
    "                axins.vlines(C_ma2[i][j], ymin = 0, ymax = 0.1, linestyles = 'dotted', color='y', lw=4)\n",
    "                # sub region of the original image\n",
    "                x1, x2, y1, y2 = C[i][j]-3e-4, C[i][j]+3e-4, 0, 0.1\n",
    "                axins.set_xlim(x1, x2)\n",
    "                axins.set_ylim(y1, y2)\n",
    "                mid = np.round(C[i][j], 4)\n",
    "                axins.set_xticklabels([])\n",
    "                axins.set_yticklabels([])\n",
    "\n",
    "                ax1.indicate_inset_zoom(axins, edgecolor=\"black\")\n",
    "\n",
    "    \n",
    "def plot_pdf_CR(data, bw_method = 0.05):\n",
    "    noises = [-0.01, -0.005, 0.0, 0.005, 0.01]\n",
    "    n_noise = len(data)\n",
    "    nr = len(data[str(noises[0])][0])\n",
    "    nc = len(data[str(noises[0])][0][0])\n",
    "    #x_i = [[] for _ in range(nr)]\n",
    "    df_all = pd.DataFrame()\n",
    "\n",
    "    color = ['b', 'b', 'g', 'g', 'y', 'y', 'orange', 'orange', 'r', 'r']\n",
    "    linestyles = ('-', '--')\n",
    "    styles = ['b-', 'b--', 'c-', 'c--', 'k-', 'k--', 'm-', 'm--', 'r-', 'r--']\n",
    "\n",
    "\n",
    "    # x_00+x_11 v.s. x_01+x_10\n",
    "    df = pd.DataFrame()\n",
    "    for k in range(n_noise):\n",
    "        x_1 = np.array([K[0][0].numpy()+K[1][1].numpy() for K in data[str(noises[k])]])\n",
    "        df[(noises[k],\"$C_{11}+C_{22}$\")] = x_1\n",
    "        x_2 = np.array([K[1][0].numpy()+K[0][1].numpy() for K in data[str(noises[k])]])\n",
    "        df[(noises[k],\"$C_{21}+C_{12}$\")] = x_2\n",
    "\n",
    "    #ax1 = df.plot.density(bw_method=bw_method, color = color, ls = linestyles)\n",
    "    ax1 = df.plot.density(bw_method=bw_method, style=styles)\n",
    "    ax1.legend(loc='center left', bbox_to_anchor=(1.0, 0.5))\n",
    "    ax1.set_xlim(0, 0.6)\n",
    "    ax1.set_ylim(bottom=0)\n",
    "\n",
    "    # x_01+x_02 v.s. x_11+x_12\n",
    "    df = pd.DataFrame()\n",
    "    for k in range(n_noise):\n",
    "        x_1 = np.array([K[0][1].numpy()+K[1][2].numpy() for K in data[str(noises[k])]])\n",
    "        df[(noises[k],\"$C_{12}+C_{23}$\")] = x_1\n",
    "        x_2 = np.array([K[0][2].numpy()+K[1][1].numpy() for K in data[str(noises[k])]])\n",
    "        df[(noises[k],\"$C_{13}+C_{22}$\")] = x_2\n",
    "\n",
    "    #ax1 = df.plot.density(bw_method=bw_method, color = color, ls = linestyles)\n",
    "    ax1 = df.plot.density(bw_method=bw_method, style=styles)\n",
    "    ax1.legend(loc='center left', bbox_to_anchor=(1.0, 0.5))\n",
    "    ax1.set_xlim(0, 0.6)\n",
    "    ax1.set_ylim(bottom=0)\n",
    "\n",
    "    \n",
    "\n",
    "\n"
   ]
  },
  {
   "cell_type": "code",
   "execution_count": 68,
   "metadata": {},
   "outputs": [
    {
     "data": {
      "text/plain": [
       "array([[1.07788194e-07, 3.03061505e-03, 6.06236597e-03, 9.09186393e-03,\n",
       "        1.21219773e-02, 1.51491370e-02, 1.81801498e-02, 2.12102578e-02,\n",
       "        2.42401394e-02, 2.72701867e-02],\n",
       "       [3.03217939e-03, 8.79407843e-07, 3.03032131e-03, 6.06225580e-03,\n",
       "        9.09081628e-03, 1.21199088e-02, 1.51509785e-02, 1.81817149e-02,\n",
       "        2.12114772e-02, 2.42413733e-02],\n",
       "       [6.06207252e-03, 3.03219783e-03, 5.22976654e-07, 3.03089960e-03,\n",
       "        6.06028644e-03, 9.09177215e-03, 1.21202621e-02, 1.51503198e-02,\n",
       "        1.81800441e-02, 2.12089953e-02],\n",
       "       [9.09157206e-03, 6.06223571e-03, 3.03181568e-03, 2.59992458e-06,\n",
       "        3.03116798e-03, 6.06245926e-03, 9.09071680e-03, 1.21214674e-02,\n",
       "        1.51519584e-02, 1.81811988e-02],\n",
       "       [1.21206197e-02, 9.09085637e-03, 6.06082048e-03, 3.03226634e-03,\n",
       "        1.82848345e-06, 3.03106408e-03, 6.06064581e-03, 9.09072814e-03,\n",
       "        1.21205844e-02, 1.51508171e-02],\n",
       "       [1.51507440e-02, 1.21205752e-02, 9.09120963e-03, 6.06095043e-03,\n",
       "        3.03204622e-03, 2.10410111e-06, 3.03231559e-03, 6.06240786e-03,\n",
       "        9.09061308e-03, 1.21220135e-02],\n",
       "       [1.81795681e-02, 1.51517285e-02, 1.21201168e-02, 9.09190595e-03,\n",
       "        6.05983513e-03, 3.03193774e-03, 1.63414049e-06, 3.03224028e-03,\n",
       "        6.05973777e-03, 9.09084887e-03],\n",
       "       [2.12098301e-02, 1.81818341e-02, 1.51512027e-02, 1.21207303e-02,\n",
       "        9.09072463e-03, 6.06016288e-03, 3.03020901e-03, 6.24545411e-07,\n",
       "        3.03211382e-03, 6.06095913e-03],\n",
       "       [2.42410984e-02, 2.12089864e-02, 1.81798155e-02, 1.51502449e-02,\n",
       "        1.21218734e-02, 9.09085193e-03, 6.06186563e-03, 3.02994949e-03,\n",
       "        1.28887027e-06, 3.03060689e-03],\n",
       "       [2.72697856e-02, 2.42395446e-02, 2.12114479e-02, 1.81802973e-02,\n",
       "        1.51514999e-02, 1.21217138e-02, 9.09040993e-03, 6.06071373e-03,\n",
       "        3.03015944e-03, 1.42127301e-06]])"
      ]
     },
     "execution_count": 68,
     "metadata": {},
     "output_type": "execute_result"
    }
   ],
   "source": [
    "def init_symmetric_cost(n, p):\n",
    "    c = np.zeros((n, n)).astype(np.double)\n",
    "    for i in range(n):\n",
    "        for j in range(n):\n",
    "            c[i][j] = ((np.abs((i-j)/n))**p)\n",
    "    return c\n",
    "\n",
    "n = 10\n",
    "nr, nc = n, n\n",
    "p = 1\n",
    "\n",
    "noise = 1e-4\n",
    "\n",
    "C = init_symmetric_cost(n, p)\n",
    "C += np.random.rand(n,n)*noise\n",
    "\n",
    "C = C / C.sum()\n",
    "C"
   ]
  },
  {
   "cell_type": "code",
   "execution_count": 69,
   "metadata": {},
   "outputs": [
    {
     "data": {
      "text/plain": [
       "tensor([[2.3310e-03, 3.3769e-02, 4.6513e-02, 3.1774e-02, 2.2780e-02, 3.6294e-02,\n",
       "         7.0184e-03, 2.6631e-03, 6.9188e-03, 2.8671e-02],\n",
       "        [1.5839e-04, 2.4379e-03, 3.3580e-03, 2.2939e-03, 1.6446e-03, 2.6202e-03,\n",
       "         5.0668e-04, 1.9225e-04, 4.9949e-04, 2.0699e-03],\n",
       "        [1.7754e-03, 2.7326e-02, 3.9992e-02, 2.7319e-02, 1.9587e-02, 3.1205e-02,\n",
       "         6.0343e-03, 2.2897e-03, 5.9487e-03, 2.4651e-02],\n",
       "        [1.3052e-05, 2.0090e-04, 2.9401e-04, 2.1339e-04, 1.5299e-04, 2.4374e-04,\n",
       "         4.7134e-05, 1.7885e-05, 4.6465e-05, 1.9255e-04],\n",
       "        [1.2553e-03, 1.9321e-02, 2.8276e-02, 2.0522e-02, 1.5633e-02, 2.4906e-02,\n",
       "         4.8162e-03, 1.8275e-03, 4.7479e-03, 1.9675e-02],\n",
       "        [1.8299e-03, 2.8165e-02, 4.1219e-02, 2.9916e-02, 2.2788e-02, 3.8574e-02,\n",
       "         7.4593e-03, 2.8304e-03, 7.3536e-03, 3.0472e-02],\n",
       "        [5.0627e-04, 7.7923e-03, 1.1404e-02, 8.2767e-03, 6.3049e-03, 1.0672e-02,\n",
       "         2.1927e-03, 8.3199e-04, 2.1616e-03, 8.9575e-03],\n",
       "        [7.7365e-04, 1.1908e-02, 1.7427e-02, 1.2648e-02, 9.6346e-03, 1.6309e-02,\n",
       "         3.3507e-03, 1.3508e-03, 3.5095e-03, 1.4543e-02],\n",
       "        [3.1246e-04, 4.8093e-03, 7.0383e-03, 5.1083e-03, 3.8911e-03, 6.5867e-03,\n",
       "         1.3533e-03, 5.4557e-04, 1.5060e-03, 6.2407e-03],\n",
       "        [3.1760e-04, 4.8885e-03, 7.1541e-03, 5.1923e-03, 3.9552e-03, 6.6950e-03,\n",
       "         1.3756e-03, 5.5455e-04, 1.5308e-03, 6.7397e-03]], dtype=torch.float64)"
      ]
     },
     "execution_count": 69,
     "metadata": {},
     "output_type": "execute_result"
    }
   ],
   "source": [
    "lam = 1e1\n",
    "K = torch.exp(-lam*torch.tensor(C))\n",
    "stopThr = 1e-9\n",
    "numItermax = 1e5\n",
    "#r, c = torch.ones(len(K))/len(K), torch.ones(len(K[0]))/len(K[0])\n",
    "r, c = torch.rand(len(K)), torch.rand(len(K[0]))\n",
    "r = r / r.sum()\n",
    "c = c / c.sum()\n",
    "\n",
    "T_g = Sinkhorn.sinkhorn_torch(mat=K,\n",
    "                                row_sum = r, \n",
    "                                col_sum = c, \n",
    "                                epsilon=stopThr, \n",
    "                                max_iter=numItermax)\n",
    "T_g"
   ]
  },
  {
   "cell_type": "code",
   "execution_count": 70,
   "metadata": {},
   "outputs": [
    {
     "data": {
      "text/plain": [
       "tensor([[1.1492, 1.0979, 1.0492, 1.0140, 0.9791, 0.9530, 0.9395, 0.9291, 0.9243,\n",
       "         0.9217],\n",
       "        [1.0823, 1.0986, 1.0499, 1.0146, 0.9797, 0.9536, 0.9400, 0.9297, 0.9248,\n",
       "         0.9223],\n",
       "        [1.0286, 1.0441, 1.0601, 1.0245, 0.9893, 0.9629, 0.9492, 0.9388, 0.9339,\n",
       "         0.9313],\n",
       "        [0.9898, 1.0046, 1.0201, 1.0474, 1.0114, 0.9844, 0.9704, 0.9597, 0.9547,\n",
       "         0.9521],\n",
       "        [0.9602, 0.9746, 0.9896, 1.0161, 1.0424, 1.0147, 1.0002, 0.9892, 0.9841,\n",
       "         0.9813],\n",
       "        [0.9370, 0.9510, 0.9657, 0.9915, 1.0172, 1.0520, 1.0370, 1.0256, 1.0203,\n",
       "         1.0174],\n",
       "        [0.9238, 0.9376, 0.9521, 0.9775, 1.0029, 1.0372, 1.0863, 1.0743, 1.0687,\n",
       "         1.0658],\n",
       "        [0.9123, 0.9259, 0.9402, 0.9654, 0.9904, 1.0243, 1.0727, 1.1272, 1.1213,\n",
       "         1.1182],\n",
       "        [0.9011, 0.9147, 0.9287, 0.9536, 0.9783, 1.0118, 1.0597, 1.1135, 1.1769,\n",
       "         1.1736],\n",
       "        [0.8919, 0.9052, 0.9191, 0.9438, 0.9682, 1.0013, 1.0487, 1.1020, 1.1647,\n",
       "         1.2340]], dtype=torch.float64)"
      ]
     },
     "execution_count": 70,
     "metadata": {},
     "output_type": "execute_result"
    }
   ],
   "source": [
    "T_g/ (r.reshape(10,1)@c.reshape(1, 10))"
   ]
  },
  {
   "cell_type": "code",
   "execution_count": 37,
   "metadata": {},
   "outputs": [
    {
     "data": {
      "text/plain": [
       "(tensor([0.1166, 0.1100, 0.0144, 0.0681, 0.1789, 0.1803, 0.1295, 0.0522, 0.0748,\n",
       "         0.0753]),\n",
       " tensor([0.1879, 0.1515, 0.1319, 0.1139, 0.0188, 0.0034, 0.0923, 0.1228, 0.0498,\n",
       "         0.1278]))"
      ]
     },
     "execution_count": 37,
     "metadata": {},
     "output_type": "execute_result"
    }
   ],
   "source": [
    "r, c"
   ]
  },
  {
   "cell_type": "code",
   "execution_count": 87,
   "metadata": {},
   "outputs": [
    {
     "name": "stdout",
     "output_type": "stream",
     "text": [
      "0.0\n",
      "tensor([[1.0000, 0.9771, 0.9505, 0.9242, 0.8945, 0.8668, 0.8408, 0.8163, 0.7947,\n",
      "         0.7740],\n",
      "        [0.9632, 1.0000, 0.9728, 0.9458, 0.9155, 0.8871, 0.8605, 0.8354, 0.8134,\n",
      "         0.7921],\n",
      "        [0.9319, 0.9674, 1.0000, 0.9723, 0.9410, 0.9118, 0.8845, 0.8588, 0.8361,\n",
      "         0.8142],\n",
      "        [0.9021, 0.9365, 0.9680, 1.0000, 0.9679, 0.9378, 0.9098, 0.8833, 0.8599,\n",
      "         0.8374],\n",
      "        [0.8773, 0.9107, 0.9413, 0.9724, 1.0000, 0.9689, 0.9399, 0.9126, 0.8885,\n",
      "         0.8652],\n",
      "        [0.8521, 0.8846, 0.9144, 0.9446, 0.9714, 1.0000, 0.9701, 0.9418, 0.9169,\n",
      "         0.8929],\n",
      "        [0.8268, 0.8583, 0.8872, 0.9164, 0.9425, 0.9702, 1.0000, 0.9709, 0.9452,\n",
      "         0.9205],\n",
      "        [0.8015, 0.8321, 0.8600, 0.8884, 0.9136, 0.9406, 0.9694, 1.0000, 0.9735,\n",
      "         0.9481],\n",
      "        [0.7748, 0.8044, 0.8315, 0.8589, 0.8832, 0.9093, 0.9372, 0.9667, 1.0000,\n",
      "         0.9738],\n",
      "        [0.7489, 0.7775, 0.8036, 0.8301, 0.8537, 0.8788, 0.9058, 0.9343, 0.9665,\n",
      "         1.0000]], dtype=torch.float64)\n",
      "tensor([[1.2883e-06, 2.3180e-03, 5.0730e-03, 7.8846e-03, 1.1148e-02, 1.4300e-02,\n",
      "         1.7340e-02, 2.0295e-02, 2.2974e-02, 2.5625e-02],\n",
      "        [3.7464e-03, 1.3089e-06, 2.7540e-03, 5.5680e-03, 8.8302e-03, 1.1984e-02,\n",
      "         1.5023e-02, 1.7980e-02, 2.0658e-02, 2.3309e-02],\n",
      "        [7.0534e-03, 3.3097e-03, 1.3087e-06, 2.8137e-03, 6.0767e-03, 9.2327e-03,\n",
      "         1.2270e-02, 1.5226e-02, 1.7904e-02, 2.0554e-02],\n",
      "        [1.0299e-02, 6.5556e-03, 3.2485e-03, 1.3008e-06, 3.2635e-03, 6.4192e-03,\n",
      "         9.4562e-03, 1.2413e-02, 1.5091e-02, 1.7742e-02],\n",
      "        [1.3095e-02, 9.3514e-03, 6.0447e-03, 2.7982e-03, 1.3123e-06, 3.1550e-03,\n",
      "         6.1933e-03, 9.1490e-03, 1.1827e-02, 1.4478e-02],\n",
      "        [1.6000e-02, 1.2256e-02, 8.9503e-03, 5.7021e-03, 2.9068e-03, 1.2989e-06,\n",
      "         3.0402e-03, 5.9959e-03, 8.6725e-03, 1.1325e-02],\n",
      "        [1.9021e-02, 1.5279e-02, 1.1971e-02, 8.7248e-03, 5.9264e-03, 3.0229e-03,\n",
      "         1.3013e-06, 2.9576e-03, 5.6334e-03, 8.2856e-03],\n",
      "        [2.2127e-02, 1.8385e-02, 1.5077e-02, 1.1829e-02, 9.0326e-03, 6.1265e-03,\n",
      "         3.1052e-03, 1.3058e-06, 2.6812e-03, 5.3310e-03],\n",
      "        [2.5509e-02, 2.1763e-02, 1.8457e-02, 1.5209e-02, 1.2415e-02, 9.5082e-03,\n",
      "         6.4879e-03, 3.3816e-03, 1.2862e-06, 2.6516e-03],\n",
      "        [2.8916e-02, 2.5172e-02, 2.1868e-02, 1.8618e-02, 1.5823e-02, 1.2918e-02,\n",
      "         9.8953e-03, 6.7912e-03, 3.4090e-03, 1.2943e-06]], dtype=torch.float64)\n",
      "tensor(1.2862e-06, dtype=torch.float64)\n",
      " \n"
     ]
    }
   ],
   "source": [
    "def rescale_diagonal(K):\n",
    "    nr, nc = len(K), len(K[0])\n",
    "    K_diag = torch.tensor([K[i][i].item() for i in range(nr)])\n",
    "    K = K / np.sqrt(K_diag.reshape(nr, 1)+1e-6)\n",
    "    K = K / np.sqrt(K_diag.reshape(1, nc)+1e-6)\n",
    "    return K\n",
    "\n",
    "noises = [0.]\n",
    "row, col = 0, 0\n",
    "\n",
    "for noise in noises:\n",
    "    lam = 10\n",
    "    T_g2 = T_g / (r.reshape(10,1)@c.reshape(1, 10))\n",
    "    T_p = rescale_diagonal(T_g2)\n",
    "    T_p, _ = addNoise(T_p, noise, row, col, lam)\n",
    "    print(noise)\n",
    "    print(T_p)\n",
    "    print(-np.log(T_p)/lam)\n",
    "    print(torch.min(-np.log(T_p)/lam))\n",
    "    if torch.min(-np.log(T_p)/lam) < 0.:\n",
    "        print(\"WARNING\")\n",
    "    print(' ')"
   ]
  },
  {
   "cell_type": "code",
   "execution_count": 94,
   "metadata": {
    "scrolled": true
   },
   "outputs": [],
   "source": [
    "def sim(T, alpha):\n",
    "    std = 0.0\n",
    "    power_k = 3\n",
    "    shift = 5e-3\n",
    "    lam = 10\n",
    "    num_burn_in = 100000\n",
    "    num_lag = 500\n",
    "    num_sampling = num_lag*10000\n",
    "\n",
    "\n",
    "    data_C, data_C_burn_in = MCMC_sim(T, alpha, lam, std, shift, num_burn_in, num_sampling, num_lag)\n",
    "    return data_C, data_C_burn_in"
   ]
  },
  {
   "cell_type": "code",
   "execution_count": 95,
   "metadata": {},
   "outputs": [
    {
     "name": "stderr",
     "output_type": "stream",
     "text": [
      "  0%|          | 359/100000 [00:00<00:27, 3585.31it/s]"
     ]
    },
    {
     "name": "stdout",
     "output_type": "stream",
     "text": [
      "alpha:\n",
      "tensor([[1., 1., 1., 1., 1., 1., 1., 1., 1., 1.],\n",
      "        [1., 1., 1., 1., 1., 1., 1., 1., 1., 1.],\n",
      "        [1., 1., 1., 1., 1., 1., 1., 1., 1., 1.],\n",
      "        [1., 1., 1., 1., 1., 1., 1., 1., 1., 1.],\n",
      "        [1., 1., 1., 1., 1., 1., 1., 1., 1., 1.],\n",
      "        [1., 1., 1., 1., 1., 1., 1., 1., 1., 1.],\n",
      "        [1., 1., 1., 1., 1., 1., 1., 1., 1., 1.],\n",
      "        [1., 1., 1., 1., 1., 1., 1., 1., 1., 1.],\n",
      "        [1., 1., 1., 1., 1., 1., 1., 1., 1., 1.],\n",
      "        [1., 1., 1., 1., 1., 1., 1., 1., 1., 1.]])\n",
      "tensor([[1.0000, 0.9771, 0.9505, 0.9242, 0.8945, 0.8668, 0.8408, 0.8163, 0.7947,\n",
      "         0.7740],\n",
      "        [0.9632, 1.0000, 0.9728, 0.9458, 0.9155, 0.8871, 0.8605, 0.8354, 0.8134,\n",
      "         0.7921],\n",
      "        [0.9319, 0.9674, 1.0000, 0.9723, 0.9410, 0.9118, 0.8845, 0.8588, 0.8361,\n",
      "         0.8142],\n",
      "        [0.9021, 0.9365, 0.9680, 1.0000, 0.9679, 0.9378, 0.9098, 0.8833, 0.8599,\n",
      "         0.8374],\n",
      "        [0.8773, 0.9107, 0.9413, 0.9724, 1.0000, 0.9689, 0.9399, 0.9126, 0.8885,\n",
      "         0.8652],\n",
      "        [0.8521, 0.8846, 0.9144, 0.9446, 0.9714, 1.0000, 0.9701, 0.9418, 0.9169,\n",
      "         0.8929],\n",
      "        [0.8268, 0.8583, 0.8872, 0.9164, 0.9425, 0.9702, 1.0000, 0.9709, 0.9452,\n",
      "         0.9205],\n",
      "        [0.8015, 0.8321, 0.8600, 0.8884, 0.9136, 0.9406, 0.9694, 1.0000, 0.9735,\n",
      "         0.9481],\n",
      "        [0.7748, 0.8044, 0.8315, 0.8589, 0.8832, 0.9093, 0.9372, 0.9667, 1.0000,\n",
      "         0.9738],\n",
      "        [0.7489, 0.7775, 0.8036, 0.8301, 0.8537, 0.8788, 0.9058, 0.9343, 0.9665,\n",
      "         1.0000]], dtype=torch.float64)\n",
      "Burn in steps:\n"
     ]
    },
    {
     "name": "stderr",
     "output_type": "stream",
     "text": [
      "100%|██████████| 100000/100000 [00:31<00:00, 3157.43it/s]\n",
      "  0%|          | 357/5000000 [00:00<23:21, 3568.00it/s]"
     ]
    },
    {
     "name": "stdout",
     "output_type": "stream",
     "text": [
      "Burn in acceptance Ratio: 0.42\n",
      "Sampling steps:\n"
     ]
    },
    {
     "name": "stderr",
     "output_type": "stream",
     "text": [
      "100%|██████████| 5000000/5000000 [23:24<00:00, 3559.94it/s]"
     ]
    },
    {
     "name": "stdout",
     "output_type": "stream",
     "text": [
      "Sampling acceptance Ratio: 0.42\n",
      "Size of data K: 10000\n",
      "Done...\n"
     ]
    },
    {
     "name": "stderr",
     "output_type": "stream",
     "text": [
      "\n"
     ]
    }
   ],
   "source": [
    "data_C_all = {}\n",
    "data_C_burn_in_all = {}\n",
    "\n",
    "alpha = torch.ones(nr, nc)\n",
    "    \n",
    "print('alpha:')\n",
    "print(alpha)\n",
    "\n",
    "for noise in noises:\n",
    "    T_g2 = T_g / (r.reshape(10,1)@c.reshape(1, 10))\n",
    "    T_p = rescale_diagonal(T_g2)\n",
    "    T_p, a = addNoise(T_p, noise, row, col, lam)\n",
    "    data_C, data_C_burn_in = sim(T_p.clone(), alpha)\n",
    "    data_C_all[str(noise)] = data_C\n",
    "    data_C_burn_in_all[str(noise)] = data_C_burn_in"
   ]
  },
  {
   "cell_type": "code",
   "execution_count": 96,
   "metadata": {},
   "outputs": [
    {
     "data": {
      "image/png": "[encoded data removed]",
      "text/plain": [
       "<Figure size 432x288 with 1 Axes>"
      ]
     },
     "metadata": {
      "needs_background": "light"
     },
     "output_type": "display_data"
    }
   ],
   "source": [
    "for key in data_C_burn_in_all.keys():\n",
    "    plot_corr(torch.stack(data_C_burn_in_all[key][-5000:]), lag = 2000)"
   ]
  },
  {
   "cell_type": "code",
   "execution_count": 138,
   "metadata": {},
   "outputs": [
    {
     "data": {
      "image/png": "[encoded data removed]",
      "text/plain": [
       "<Figure size 432x288 with 1 Axes>"
      ]
     },
     "metadata": {
      "needs_background": "light"
     },
     "output_type": "display_data"
    }
   ],
   "source": [
    "# Simulatio data usig algorithm 1 from Ma et al.\n",
    "C_ma = np.array([[0.        , 0.00302687, 0.00604929, 0.00905718, 0.01206826,\n",
    "        0.01508169, 0.01809459, 0.02111846, 0.02413527, 0.02713585],\n",
    "       [0.00302687, 0.        , 0.00301979, 0.0060396 , 0.00904599,\n",
    "        0.01205467, 0.01505718, 0.0180816 , 0.02110609, 0.02411641],\n",
    "       [0.00604929, 0.00301979, 0.        , 0.00302517, 0.00603942,\n",
    "        0.00905489, 0.01206815, 0.01508328, 0.01809468, 0.02111088],\n",
    "       [0.00905718, 0.0060396 , 0.00302517, 0.        , 0.00302899,\n",
    "        0.00604367, 0.00905545, 0.01206413, 0.01509075, 0.01810052],\n",
    "       [0.01206826, 0.00904599, 0.00603942, 0.00302899, 0.        ,\n",
    "        0.00302685, 0.00602421, 0.00904756, 0.01206728, 0.01506749],\n",
    "       [0.01508169, 0.01205467, 0.00905489, 0.00604367, 0.00302685,\n",
    "        0.        , 0.00300792, 0.00602699, 0.00904998, 0.01206237],\n",
    "       [0.01809459, 0.01505718, 0.01206815, 0.00905545, 0.00602421,\n",
    "        0.00300792, 0.        , 0.00300685, 0.00601826, 0.00904137],\n",
    "       [0.02111846, 0.0180816 , 0.01508328, 0.01206413, 0.00904756,\n",
    "        0.00602699, 0.00300685, 0.        , 0.00301802, 0.00601525],\n",
    "       [0.02413527, 0.02110609, 0.01809468, 0.01509075, 0.01206728,\n",
    "        0.00904998, 0.00601826, 0.00301802, 0.        , 0.00301405],\n",
    "       [0.02713585, 0.02411641, 0.02111088, 0.01810052, 0.01506749,\n",
    "        0.01206237, 0.00904137, 0.00601525, 0.00301405, 0.        ]])\n",
    "\n",
    "C_ma2 = np.array([[0.        , 0.00302687, 0.00604929, 0.00905718, 0.01206826,\n",
    "        0.01508169, 0.01809459, 0.02111846, 0.02413527, 0.02713585],\n",
    "       [0.00302687, 0.        , 0.00301979, 0.0060396 , 0.00904599,\n",
    "        0.01205467, 0.01505718, 0.0180816 , 0.02110609, 0.02411641],\n",
    "       [0.00604929, 0.00301979, 0.        , 0.00302517, 0.00603942,\n",
    "        0.00905489, 0.01206815, 0.01508328, 0.01809468, 0.02111088],\n",
    "       [0.00905718, 0.0060396 , 0.00302517, 0.        , 0.00302899,\n",
    "        0.00604367, 0.00905545, 0.01206413, 0.01509075, 0.01810052],\n",
    "       [0.01206826, 0.00904599, 0.00603942, 0.00302899, 0.        ,\n",
    "        0.00302685, 0.00602421, 0.00904756, 0.01206728, 0.01506749],\n",
    "       [0.01508169, 0.01205467, 0.00905489, 0.00604367, 0.00302685,\n",
    "        0.        , 0.00300792, 0.00602699, 0.00904998, 0.01206237],\n",
    "       [0.01809459, 0.01505718, 0.01206815, 0.00905545, 0.00602421,\n",
    "        0.00300792, 0.        , 0.00300685, 0.00601826, 0.00904137],\n",
    "       [0.02111846, 0.0180816 , 0.01508328, 0.01206413, 0.00904756,\n",
    "        0.00602699, 0.00300685, 0.        , 0.00301802, 0.00601525],\n",
    "       [0.02413527, 0.02110609, 0.01809468, 0.01509075, 0.01206728,\n",
    "        0.00904998, 0.00601826, 0.00301802, 0.        , 0.00301405],\n",
    "       [0.02713585, 0.02411641, 0.02111088, 0.01810052, 0.01506749,\n",
    "        0.01206237, 0.00904137, 0.00601525, 0.00301405, 0.        ]])\n",
    "\n",
    "matplotlib.rcParams.update({'font.size': 25})\n",
    "plot_pdf_all(data_C_all, C, C_ma, C_ma2)"
   ]
  },
  {
   "cell_type": "code",
   "execution_count": 98,
   "metadata": {},
   "outputs": [
    {
     "data": {
      "image/png": "[encoded data removed]",
      "text/plain": [
       "<Figure size 432x288 with 1 Axes>"
      ]
     },
     "metadata": {
      "needs_background": "light"
     },
     "output_type": "display_data"
    }
   ],
   "source": [
    "for key in data_C_burn_in_all.keys():\n",
    "    plot_row_sum_running_average(data_C_all[key])\n"
   ]
  },
  {
   "cell_type": "code",
   "execution_count": 101,
   "metadata": {},
   "outputs": [
    {
     "name": "stdout",
     "output_type": "stream",
     "text": [
      "0.0023289381402721195\n"
     ]
    }
   ],
   "source": [
    "\n",
    "def relative_error(a, b):\n",
    "    return np.linalg.norm(a-b) / np.linalg.norm(b)\n",
    "\n",
    "\n",
    "def get_median(data):\n",
    "    tmp = [data[j].numpy() for j in range(len(data)) ]\n",
    "    med = np.median(tmp, axis=0)\n",
    "    error_med = relative_error(torch.tensor(med), C)\n",
    "    return error_med\n",
    "\n",
    "\n",
    "N = len(data_C)\n",
    "steps = 1\n",
    "error = get_median(data_C[0:])\n",
    "print(error)"
   ]
  },
  {
   "cell_type": "code",
   "execution_count": null,
   "metadata": {},
   "outputs": [],
   "source": [
    "with open('data_symmetric.pkl', 'wb') as handle:\n",
    "    pickle.dump(data_C_all, handle, protocol=pickle.HIGHEST_PROTOCOL)\n",
    "with open('data_C_burn_in_response.pkl', 'wb') as handle:\n",
    "    pickle.dump(data_C_burn_in_all, handle, protocol=pickle.HIGHEST_PROTOCOL)"
   ]
  },
  {
   "cell_type": "code",
   "execution_count": null,
   "metadata": {},
   "outputs": [],
   "source": []
  }
 ],
 "metadata": {
  "kernelspec": {
   "display_name": "Python 3",
   "language": "python",
   "name": "python3"
  },
  "language_info": {
   "codemirror_mode": {
    "name": "ipython",
    "version": 3
   },
   "file_extension": ".py",
   "mimetype": "text/x-python",
   "name": "python",
   "nbconvert_exporter": "python",
   "pygments_lexer": "ipython3",
   "version": "3.8.5"
  }
 },
 "nbformat": 4,
 "nbformat_minor": 4
}
