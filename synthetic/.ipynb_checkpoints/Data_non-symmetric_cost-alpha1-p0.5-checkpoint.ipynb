{
 "cells": [
  {
   "cell_type": "code",
   "execution_count": 1,
   "metadata": {},
   "outputs": [],
   "source": [
    "import sys\n",
    "sys.path.append('../SRC')\n",
    "import PIOT_imports\n",
    "import Sinkhorn\n",
    "import CoDaS_PIOT_general_prior_C\n",
    "from matplotlib import cm\n",
    "import matplotlib.pyplot as plt\n",
    "import numpy as np\n",
    "import pandas as pd\n",
    "import torch\n",
    "import pickle\n",
    "import itertools\n",
    "import matplotlib\n",
    "from scipy.stats import dirichlet"
   ]
  },
  {
   "cell_type": "code",
   "execution_count": 187,
   "metadata": {},
   "outputs": [],
   "source": [
    "def MCMC_sim(T_1, alpha, lam, std, shift, num_burn_in = 10000, num_sampling = 1000000, num_lag = 200):\n",
    "\n",
    "    mean = 0.0\n",
    "    std = std\n",
    "    \n",
    "    nr, nc = len(T_1), len(T_1[0])\n",
    "    \n",
    "    alphas = alpha.reshape((-1,))\n",
    "\n",
    "    print(T_1)\n",
    "    K_1, data_K_1, data_K_burn_in, acceptRatio_1 = \\\n",
    "    CoDaS_PIOT_general_prior_C.runs(T_1, alphas, lam, mean, std, shift, num_burn_in, num_sampling, num_lag)\n",
    "\n",
    "    print('Done...')\n",
    "    return data_K_1, data_K_burn_in\n",
    "\n",
    "def autocorr(x,lags,var):\n",
    "    n_vectors = len(x)\n",
    "    nr, nc = len(x[0]), len(x[0][0])\n",
    "    mean = x.mean(axis = 0)\n",
    "    xp = torch.stack([row-mean for row in x])\n",
    "    corr = np.array([np.correlate(xp[:,r,c],xp[:,r,c],'full') \\\n",
    "                     for r, c in itertools.product(range(nr), range(nc))])[:, n_vectors-1:]\n",
    "    div = np.array([n_vectors-i for i in range(len(lags))])\n",
    "    acorr = corr.sum(axis=0)[:len(lags)]/var/div\n",
    "\n",
    "    return acorr[:len(lags)]\n",
    "\n",
    "def plot_row_sum_corr(data):\n",
    "    nc = len(data[0][0])\n",
    "    row_sum = []\n",
    "\n",
    "    for i in range(len(data)):\n",
    "        row_sum.append(np.array(data[i].sum(axis=1)))\n",
    "\n",
    "    lags = range(1000)\n",
    "    var = np.var(row_sum, axis = 0).sum()\n",
    "    corr = CoDaS_plot.autocorr(row_sum, lags, var)\n",
    "\n",
    "    x = range(len(lags))\n",
    "    plus_1_div_exp = 1/np.exp(1)*np.ones(len(lags))\n",
    "    minus_1_div_exp = - plus_1_div_exp\n",
    "\n",
    "    plt.plot(lags, corr)\n",
    "    plt.plot(x, plus_1_div_exp, 'k--')\n",
    "    plt.plot(x, minus_1_div_exp, 'k--')\n",
    "    \n",
    "def plot_corr(data, lag = 1000):\n",
    "    \n",
    "    lags = range(lag)\n",
    "    var = torch.sum(torch.var(data, axis = 0))\n",
    "    corr = autocorr(data, lags, var)\n",
    "    \n",
    "    x = range(len(lags))\n",
    "    plus_1_div_exp = 1/np.exp(1)*np.ones(len(lags))\n",
    "    minus_1_div_exp = - plus_1_div_exp\n",
    "\n",
    "    plt.plot(lags, corr)\n",
    "    plt.plot(x, plus_1_div_exp, 'k--')\n",
    "    plt.plot(x, minus_1_div_exp, 'k--')\n",
    "    plt.xlabel('t')\n",
    "    plt.ylabel(\"R(t)\")\n",
    "        \n",
    "def plot_one_matrix_simplex(M):\n",
    "    CoDaS_plot.plot_points(np.array([t[0] for t in M]), 'r', 5)\n",
    "    CoDaS_plot.plot_points(np.array([t[1] for t in M]), 'g', 5)\n",
    "    CoDaS_plot.plot_points(np.array([t[2] for t in M]), 'b', 5)\n",
    "    \n",
    "def plot_samples(data, bw_method = 0.1):\n",
    "    nr = len(data[0])\n",
    "    nc = len(data[0][0])\n",
    "    x_i = [[] for _ in range(nr)]\n",
    "    df_all = pd.DataFrame()\n",
    "\n",
    "    colors = ['r', 'g', 'b']\n",
    "\n",
    "    for i in range(nr):\n",
    "        for j in range(nc):\n",
    "            x_i[i] = np.array([K[i][j].numpy() for K in data])\n",
    "\n",
    "\n",
    "            df = pd.DataFrame(x_i[i], columns = ['({},{})'.format(i, j)])\n",
    "\n",
    "            ax1 = df.plot.density(bw_method=bw_method)\n",
    "            ax1.set_xlim(0, 1)\n",
    "            ax1.set_ylim(bottom=0)\n",
    "\n",
    "    \n",
    "def plot_samples_column(data, bw_method = 0.1):\n",
    "    nr = len(data[0])\n",
    "    nc = len(data[0][0])\n",
    "    x_i = [[] for _ in range(nr)]\n",
    "    df_all = pd.DataFrame()\n",
    "\n",
    "    colors = ['r', 'g', 'b']\n",
    "\n",
    "    for j in range(nc):\n",
    "        x_i = np.array([[K[i][j].numpy() for i in range(nr)] for K in data])\n",
    "\n",
    "        df = pd.DataFrame(x_i, columns = ['({},{})'.format(i,j) for i in range(nr) ])\n",
    "\n",
    "        ax1 = df.plot.density(bw_method=bw_method)\n",
    "        ax1.set_xlim(0, 1)\n",
    "        \n",
    "def running_average(data):\n",
    "    \n",
    "    nc = len(data[0][0])\n",
    "    x = []\n",
    "\n",
    "    for i in range(len(data)):\n",
    "        x.append(np.array(data[i].sum(axis=1)))\n",
    "\n",
    "    x = np.array(x)\n",
    "    nr = len(x)\n",
    "    nc = len(x[0])\n",
    "    ra = [x[0]]\n",
    "    for i in range(1, nr):\n",
    "        ra.append(ra[i-1] + x[i])\n",
    "    for i in range(1, nr):\n",
    "        ra[i] /= (i+1)\n",
    "    return ra\n",
    "\n",
    "def plot_row_sum_running_average(data):\n",
    "    ra = running_average(data)\n",
    "    df_ra = pd.DataFrame(ra)\n",
    "    ax = df_ra.plot()\n",
    "    ax.set_ylabel('Row sum')\n",
    "    ax.set_xlabel('# samples')\n",
    "    #ax.set_ylim(bottom=0.2)\n",
    "\n",
    "\n",
    "def normalizeFactor(T, s):\n",
    "    m, n = len(T), len(T[0])\n",
    "    return np.exp( (s + np.log(T).sum()) /m/n )\n",
    "\n",
    "def addNoise(T, noise, r, c, s):\n",
    "    T_p = T.clone()\n",
    "    T_p[r][c] = T_p[r][c] + noise\n",
    "    a = normalizeFactor(T_p, s)\n",
    "    T_p = T_p / a\n",
    "    return T_p.clone(), a\n",
    "\n",
    "def plot_pdf_all(data, C, C_ma, C_ma2, bw_method = 0.05):\n",
    "    \n",
    "\n",
    "    \n",
    "    data_all = []\n",
    "    for key in data.keys():\n",
    "        data_all += data[key]\n",
    "    nr = len(data[key][0])\n",
    "    nc = len(data[key][0][0])\n",
    "\n",
    "    colors = ['r', 'g', 'b']\n",
    "    \n",
    "    tmp = [data_all[j].numpy() for j in range(len(data_all)) ]\n",
    "    med = np.median(tmp, axis=0)\n",
    "\n",
    "    for i in range(nr):\n",
    "        for j in range(nc):\n",
    "            if i == 0 and j == 8:\n",
    "                x_i = np.array([K[i][j].numpy() for K in data_all])\n",
    "                df = pd.DataFrame(x_i, columns = ['({},{})'.format(i+1,j+1)])\n",
    "                ax1 = df.plot.density(bw_method=bw_method, color='k')\n",
    "                ax1.legend(loc='upper right')\n",
    "                ylim = ax1.get_ylim()\n",
    "                ax1.vlines(C[i][j], ymin = 0, ymax = 1e8, linestyles = 'solid', color='b', lw=2)\n",
    "                ax1.vlines(med[i][j], ymin = 0, ymax = 1e8, linestyles = 'dashed', color='r', lw=2)\n",
    "\n",
    "                # Ma's result \n",
    "                ax1.vlines(C_ma[i][j], ymin = 0, ymax = 1e8, linestyles = 'dashdot', color='g', lw=2)\n",
    "                ax1.vlines(C_ma2[i][j], ymin = 0, ymax = 1e8, linestyles = 'dotted', color='y', lw=2)\n",
    "                ax1.set_ylim((0, ylim[1]))\n",
    "                ax1.set_xlim(left=0.0, right = 0.04)\n",
    "\n",
    "                # inset axes....\n",
    "                axins = ax1.inset_axes([0.7, 0.3, 0.25, 0.4])\n",
    "                axins.vlines(C[i][j], ymin = 0, ymax = 0.1, linestyles = 'solid', color='b', lw=4)\n",
    "                axins.vlines(med[i][j], ymin = 0, ymax = 0.1, linestyles = 'dashed', color='r', lw=4)\n",
    "\n",
    "                # Ma's result \n",
    "                axins.vlines(C_ma[i][j], ymin = 0, ymax = 0.1, linestyles = 'dashdot', color='g', lw=4) \n",
    "                axins.vlines(C_ma2[i][j], ymin = 0, ymax = 0.1, linestyles = 'dotted', color='y', lw=4)\n",
    "                # sub region of the original image\n",
    "                x1, x2, y1, y2 = C[i][j]-3e-4, C[i][j]+3e-4, 0, 0.1\n",
    "                axins.set_xlim(x1, x2)\n",
    "                axins.set_ylim(y1, y2)\n",
    "                mid = np.round(C[i][j], 4)\n",
    "                axins.set_xticklabels([])\n",
    "                axins.set_yticklabels([])\n",
    "\n",
    "                ax1.indicate_inset_zoom(axins, edgecolor=\"black\")\n",
    "\n",
    "    \n",
    "def plot_pdf_CR(data, bw_method = 0.05):\n",
    "    noises = [-0.01, -0.005, 0.0, 0.005, 0.01]\n",
    "    n_noise = len(data)\n",
    "    nr = len(data[str(noises[0])][0])\n",
    "    nc = len(data[str(noises[0])][0][0])\n",
    "    #x_i = [[] for _ in range(nr)]\n",
    "    df_all = pd.DataFrame()\n",
    "\n",
    "    color = ['b', 'b', 'g', 'g', 'y', 'y', 'orange', 'orange', 'r', 'r']\n",
    "    linestyles = ('-', '--')\n",
    "    styles = ['b-', 'b--', 'c-', 'c--', 'k-', 'k--', 'm-', 'm--', 'r-', 'r--']\n",
    "\n",
    "\n",
    "    # x_00+x_11 v.s. x_01+x_10\n",
    "    df = pd.DataFrame()\n",
    "    for k in range(n_noise):\n",
    "        x_1 = np.array([K[0][0].numpy()+K[1][1].numpy() for K in data[str(noises[k])]])\n",
    "        df[(noises[k],\"$C_{11}+C_{22}$\")] = x_1\n",
    "        x_2 = np.array([K[1][0].numpy()+K[0][1].numpy() for K in data[str(noises[k])]])\n",
    "        df[(noises[k],\"$C_{21}+C_{12}$\")] = x_2\n",
    "\n",
    "    #ax1 = df.plot.density(bw_method=bw_method, color = color, ls = linestyles)\n",
    "    ax1 = df.plot.density(bw_method=bw_method, style=styles)\n",
    "    ax1.legend(loc='center left', bbox_to_anchor=(1.0, 0.5))\n",
    "    ax1.set_xlim(0, 0.6)\n",
    "    ax1.set_ylim(bottom=0)\n",
    "\n",
    "    # x_01+x_02 v.s. x_11+x_12\n",
    "    df = pd.DataFrame()\n",
    "    for k in range(n_noise):\n",
    "        x_1 = np.array([K[0][1].numpy()+K[1][2].numpy() for K in data[str(noises[k])]])\n",
    "        df[(noises[k],\"$C_{12}+C_{23}$\")] = x_1\n",
    "        x_2 = np.array([K[0][2].numpy()+K[1][1].numpy() for K in data[str(noises[k])]])\n",
    "        df[(noises[k],\"$C_{13}+C_{22}$\")] = x_2\n",
    "\n",
    "    #ax1 = df.plot.density(bw_method=bw_method, color = color, ls = linestyles)\n",
    "    ax1 = df.plot.density(bw_method=bw_method, style=styles)\n",
    "    ax1.legend(loc='center left', bbox_to_anchor=(1.0, 0.5))\n",
    "    ax1.set_xlim(0, 0.6)\n",
    "    ax1.set_ylim(bottom=0)"
   ]
  },
  {
   "cell_type": "code",
   "execution_count": 88,
   "metadata": {},
   "outputs": [
    {
     "data": {
      "text/plain": [
       "array([[1.05313325e-06, 6.09772954e-03, 8.62223936e-03, 1.05599781e-02,\n",
       "        1.21925062e-02, 1.36333484e-02, 1.49337607e-02, 1.61299524e-02,\n",
       "        1.72444304e-02, 1.82899580e-02],\n",
       "       [6.09723344e-03, 8.75799223e-07, 6.09702855e-03, 8.62297073e-03,\n",
       "        1.05595506e-02, 1.21940478e-02, 1.36331438e-02, 1.49336275e-02,\n",
       "        1.61290838e-02, 1.72442651e-02],\n",
       "       [8.62257761e-03, 6.09766366e-03, 3.98018448e-07, 6.09709727e-03,\n",
       "        8.62296445e-03, 1.05592302e-02, 1.21942855e-02, 1.36316169e-02,\n",
       "        1.49345035e-02, 1.61296210e-02],\n",
       "       [1.05592858e-02, 8.62225203e-03, 6.09639827e-03, 1.83719246e-06,\n",
       "        6.09691342e-03, 8.62324781e-03, 1.05593451e-02, 1.21924273e-02,\n",
       "        1.36324992e-02, 1.49335100e-02],\n",
       "       [1.21924818e-02, 1.05597866e-02, 8.62227113e-03, 6.09659899e-03,\n",
       "        6.54396591e-07, 6.09704010e-03, 8.62184997e-03, 1.05599980e-02,\n",
       "        1.21926468e-02, 1.36323800e-02],\n",
       "       [1.36325198e-02, 1.21935473e-02, 1.05595844e-02, 8.62212926e-03,\n",
       "        6.09800544e-03, 3.17206198e-08, 6.09792596e-03, 8.62143999e-03,\n",
       "        1.05603989e-02, 1.21927010e-02],\n",
       "       [1.49329620e-02, 1.36317041e-02, 1.21932240e-02, 1.05593558e-02,\n",
       "        8.62145017e-03, 6.09700363e-03, 1.71073707e-06, 6.09749349e-03,\n",
       "        8.62230642e-03, 1.05591158e-02],\n",
       "       [1.61293520e-02, 1.49328210e-02, 1.36321412e-02, 1.21938336e-02,\n",
       "        1.05608633e-02, 8.62327017e-03, 6.09720457e-03, 3.76218700e-07,\n",
       "        6.09688402e-03, 8.62195802e-03],\n",
       "       [1.72433546e-02, 1.61295136e-02, 1.49340604e-02, 1.36333036e-02,\n",
       "        1.21939456e-02, 1.05608239e-02, 8.62176411e-03, 6.09666172e-03,\n",
       "        1.05043742e-06, 6.09701913e-03],\n",
       "       [1.82905422e-02, 1.72437867e-02, 1.61298775e-02, 1.49343163e-02,\n",
       "        1.36322049e-02, 1.21932937e-02, 1.05607461e-02, 8.62275739e-03,\n",
       "        6.09641429e-03, 1.08474620e-06]])"
      ]
     },
     "execution_count": 88,
     "metadata": {},
     "output_type": "execute_result"
    }
   ],
   "source": [
    "def init_symmetric_cost(n, p):\n",
    "    c = np.zeros((n, n)).astype(np.double)\n",
    "    for i in range(n):\n",
    "        for j in range(n):\n",
    "            c[i][j] = ((np.abs((i-j)/n))**p)\n",
    "    return c\n",
    "\n",
    "n = 10\n",
    "nr, nc = n, n\n",
    "p = .5\n",
    "noise = 1e-4\n",
    "\n",
    "C = init_symmetric_cost(n, p)\n",
    "C += np.random.rand(n,n)*noise\n",
    "\n",
    "C = C / C.sum()\n",
    "C"
   ]
  },
  {
   "cell_type": "code",
   "execution_count": 89,
   "metadata": {},
   "outputs": [
    {
     "data": {
      "text/plain": [
       "tensor([[0.0112, 0.0133, 0.0055, 0.0056, 0.0128, 0.0077, 0.0084, 0.0028, 0.0073,\n",
       "         0.0133],\n",
       "        [0.0016, 0.0022, 0.0009, 0.0009, 0.0020, 0.0012, 0.0013, 0.0004, 0.0011,\n",
       "         0.0021],\n",
       "        [0.0212, 0.0274, 0.0123, 0.0120, 0.0274, 0.0163, 0.0179, 0.0059, 0.0155,\n",
       "         0.0280],\n",
       "        [0.0187, 0.0241, 0.0104, 0.0115, 0.0253, 0.0150, 0.0164, 0.0054, 0.0141,\n",
       "         0.0255],\n",
       "        [0.0021, 0.0027, 0.0012, 0.0012, 0.0031, 0.0017, 0.0019, 0.0006, 0.0016,\n",
       "         0.0029],\n",
       "        [0.0153, 0.0196, 0.0084, 0.0089, 0.0214, 0.0138, 0.0144, 0.0047, 0.0123,\n",
       "         0.0221],\n",
       "        [0.0066, 0.0084, 0.0036, 0.0038, 0.0091, 0.0056, 0.0067, 0.0021, 0.0054,\n",
       "         0.0098],\n",
       "        [0.0036, 0.0046, 0.0020, 0.0021, 0.0049, 0.0031, 0.0035, 0.0012, 0.0031,\n",
       "         0.0056],\n",
       "        [0.0187, 0.0239, 0.0102, 0.0107, 0.0254, 0.0157, 0.0178, 0.0061, 0.0173,\n",
       "         0.0298],\n",
       "        [0.0125, 0.0159, 0.0068, 0.0071, 0.0169, 0.0104, 0.0118, 0.0040, 0.0109,\n",
       "         0.0213]], dtype=torch.float64)"
      ]
     },
     "execution_count": 89,
     "metadata": {},
     "output_type": "execute_result"
    }
   ],
   "source": [
    "lam = 1e1\n",
    "K = torch.exp(-lam*torch.tensor(C))\n",
    "stopThr = 1e-9\n",
    "numItermax = 1e5\n",
    "#r, c = torch.ones(len(K))/len(K), torch.ones(len(K[0]))/len(K[0])\n",
    "r, c = torch.rand(len(K)), torch.rand(len(K[0]))\n",
    "r = r / r.sum()\n",
    "c = c / c.sum()\n",
    "\n",
    "T_g = Sinkhorn.sinkhorn_torch(mat=K,\n",
    "                                row_sum = r, \n",
    "                                col_sum = c, \n",
    "                                epsilon=stopThr, \n",
    "                                max_iter=numItermax)\n",
    "T_g"
   ]
  },
  {
   "cell_type": "code",
   "execution_count": 90,
   "metadata": {},
   "outputs": [
    {
     "data": {
      "text/plain": [
       "tensor([[1.1430, 1.0651, 1.0178, 0.9934, 0.9838, 0.9647, 0.9588, 0.9523, 0.9398,\n",
       "         0.9427],\n",
       "        [1.0619, 1.1179, 1.0308, 1.0002, 0.9876, 0.9665, 0.9592, 0.9518, 0.9385,\n",
       "         0.9407],\n",
       "        [1.0333, 1.0497, 1.0933, 1.0237, 1.0048, 0.9804, 0.9711, 0.9623, 0.9478,\n",
       "         0.9493],\n",
       "        [1.0087, 1.0186, 1.0238, 1.0828, 1.0256, 0.9948, 0.9824, 0.9716, 0.9556,\n",
       "         0.9561],\n",
       "        [0.9852, 0.9918, 0.9910, 1.0114, 1.0822, 1.0128, 0.9944, 0.9804, 0.9625,\n",
       "         0.9616],\n",
       "        [0.9745, 0.9792, 0.9754, 0.9897, 1.0218, 1.0803, 1.0234, 1.0031, 0.9817,\n",
       "         0.9790],\n",
       "        [0.9653, 0.9686, 0.9630, 0.9741, 0.9998, 1.0200, 1.0916, 1.0324, 1.0045,\n",
       "         0.9987],\n",
       "        [0.9625, 0.9648, 0.9578, 0.9670, 0.9895, 1.0036, 1.0363, 1.1072, 1.0395,\n",
       "         1.0274],\n",
       "        [0.9550, 0.9565, 0.9486, 0.9563, 0.9767, 0.9876, 1.0138, 1.0452, 1.1085,\n",
       "         1.0572],\n",
       "        [0.9503, 0.9512, 0.9426, 0.9493, 0.9682, 0.9771, 1.0000, 1.0249, 1.0489,\n",
       "         1.1300]], dtype=torch.float64)"
      ]
     },
     "execution_count": 90,
     "metadata": {},
     "output_type": "execute_result"
    }
   ],
   "source": [
    "T_g/ (r.reshape(10,1)@c.reshape(1, 10))"
   ]
  },
  {
   "cell_type": "code",
   "execution_count": 86,
   "metadata": {},
   "outputs": [
    {
     "data": {
      "text/plain": [
       "(tensor([0.0319, 0.1893, 0.1965, 0.0419, 0.0338, 0.1660, 0.0371, 0.0531, 0.0938,\n",
       "         0.1568]),\n",
       " tensor([0.0099, 0.1043, 0.1550, 0.0159, 0.1152, 0.0304, 0.1359, 0.1849, 0.0571,\n",
       "         0.1914]))"
      ]
     },
     "execution_count": 86,
     "metadata": {},
     "output_type": "execute_result"
    }
   ],
   "source": [
    "r, c"
   ]
  },
  {
   "cell_type": "code",
   "execution_count": 91,
   "metadata": {},
   "outputs": [
    {
     "name": "stdout",
     "output_type": "stream",
     "text": [
      "0.0\n",
      "tensor([[1.0000, 0.9422, 0.9104, 0.8929, 0.8846, 0.8682, 0.8584, 0.8465, 0.8349,\n",
      "         0.8295],\n",
      "        [0.9395, 1.0000, 0.9323, 0.9090, 0.8979, 0.8794, 0.8683, 0.8555, 0.8430,\n",
      "         0.8370],\n",
      "        [0.9244, 0.9494, 1.0000, 0.9408, 0.9238, 0.9021, 0.8889, 0.8746, 0.8609,\n",
      "         0.8541],\n",
      "        [0.9067, 0.9258, 0.9409, 1.0000, 0.9475, 0.9198, 0.9036, 0.8873, 0.8722,\n",
      "         0.8644],\n",
      "        [0.8858, 0.9017, 0.9110, 0.9343, 1.0000, 0.9367, 0.9149, 0.8956, 0.8787,\n",
      "         0.8696],\n",
      "        [0.8770, 0.8910, 0.8975, 0.9150, 0.9450, 1.0000, 0.9424, 0.9172, 0.8971,\n",
      "         0.8861],\n",
      "        [0.8642, 0.8768, 0.8815, 0.8960, 0.9199, 0.9393, 1.0000, 0.9391, 0.9132,\n",
      "         0.8992],\n",
      "        [0.8556, 0.8671, 0.8705, 0.8831, 0.9039, 0.9176, 0.9426, 1.0000, 0.9383,\n",
      "         0.9185],\n",
      "        [0.8484, 0.8592, 0.8616, 0.8729, 0.8917, 0.9025, 0.9216, 0.9434, 1.0000,\n",
      "         0.9446],\n",
      "        [0.8362, 0.8463, 0.8480, 0.8582, 0.8755, 0.8843, 0.9004, 0.9163, 0.9371,\n",
      "         1.0000]], dtype=torch.float64)\n",
      "tensor([[9.0933e-07, 5.9494e-03, 9.3829e-03, 1.1325e-02, 1.2259e-02, 1.4138e-02,\n",
      "         1.5274e-02, 1.6659e-02, 1.8047e-02, 1.8695e-02],\n",
      "        [6.2454e-03, 9.0940e-07, 7.0061e-03, 9.5359e-03, 1.0774e-02, 1.2847e-02,\n",
      "         1.4122e-02, 1.5611e-02, 1.7080e-02, 1.7798e-02],\n",
      "        [7.8623e-03, 5.1892e-03, 9.1408e-07, 6.1015e-03, 7.9290e-03, 1.0304e-02,\n",
      "         1.1774e-02, 1.3400e-02, 1.4977e-02, 1.5775e-02],\n",
      "        [9.7936e-03, 7.7084e-03, 6.0916e-03, 9.0104e-07, 5.3976e-03, 8.3628e-03,\n",
      "         1.0134e-02, 1.1956e-02, 1.3669e-02, 1.4573e-02],\n",
      "        [1.2126e-02, 1.0345e-02, 9.3170e-03, 6.7952e-03, 9.0666e-07, 6.5361e-03,\n",
      "         8.8962e-03, 1.1023e-02, 1.2929e-02, 1.3972e-02],\n",
      "        [1.3128e-02, 1.1541e-02, 1.0816e-02, 8.8825e-03, 5.6601e-03, 9.0587e-07,\n",
      "         5.9341e-03, 8.6462e-03, 1.0858e-02, 1.2094e-02],\n",
      "        [1.4592e-02, 1.3142e-02, 1.2613e-02, 1.0983e-02, 8.3466e-03, 6.2609e-03,\n",
      "         9.1435e-07, 6.2853e-03, 9.0834e-03, 1.0623e-02],\n",
      "        [1.5601e-02, 1.4256e-02, 1.3864e-02, 1.2430e-02, 1.0099e-02, 8.5999e-03,\n",
      "         5.9092e-03, 8.9818e-07, 6.3708e-03, 8.4991e-03],\n",
      "        [1.6441e-02, 1.5179e-02, 1.4892e-02, 1.3595e-02, 1.1458e-02, 1.0263e-02,\n",
      "         8.1597e-03, 5.8231e-03, 9.1600e-07, 5.7001e-03],\n",
      "        [1.7885e-02, 1.6690e-02, 1.6485e-02, 1.5293e-02, 1.3293e-02, 1.2293e-02,\n",
      "         1.0495e-02, 8.7460e-03, 6.4930e-03, 9.0325e-07]], dtype=torch.float64)\n",
      "tensor(8.9818e-07, dtype=torch.float64)\n",
      " \n"
     ]
    }
   ],
   "source": [
    "def rescale_diagonal(K):\n",
    "    nr, nc = len(K), len(K[0])\n",
    "    K_diag = torch.tensor([K[i][i].item() for i in range(nr)])\n",
    "    K = K / np.sqrt(K_diag.reshape(nr, 1)+1e-6)\n",
    "    K = K / np.sqrt(K_diag.reshape(1, nc)+1e-6)\n",
    "    return K\n",
    "\n",
    "noises = [0.]\n",
    "row, col = 0, 0\n",
    "\n",
    "for noise in noises:\n",
    "    lam = 10\n",
    "    T_g2 = T_g / (r.reshape(10,1)@c.reshape(1, 10))\n",
    "    T_p = rescale_diagonal(T_g2)\n",
    "    T_p, a = addNoise(T_p, noise, row, col, lam)\n",
    "    print(noise)\n",
    "    print(T_p)\n",
    "    print(-np.log(T_p)/lam)\n",
    "    print(torch.min(-np.log(T_p)/lam))\n",
    "    if torch.min(-np.log(T_p)/lam) < 0.:\n",
    "        print(\"WARNING\")\n",
    "    print(' ')"
   ]
  },
  {
   "cell_type": "code",
   "execution_count": 102,
   "metadata": {
    "scrolled": true
   },
   "outputs": [],
   "source": [
    "def sim(T, alpha):\n",
    "    std = 0.0\n",
    "    power_k = 3\n",
    "    shift = 5e-3\n",
    "    lam = 10\n",
    "    num_burn_in = 100000\n",
    "    num_lag = 500\n",
    "    num_sampling = num_lag*10000\n",
    "\n",
    "\n",
    "    data_C, data_C_burn_in = MCMC_sim(T, alpha, lam, std, shift, num_burn_in, num_sampling, num_lag)\n",
    "    return data_C, data_C_burn_in"
   ]
  },
  {
   "cell_type": "code",
   "execution_count": 103,
   "metadata": {},
   "outputs": [
    {
     "name": "stderr",
     "output_type": "stream",
     "text": [
      "  0%|          | 251/100000 [00:00<00:39, 2500.85it/s]"
     ]
    },
    {
     "name": "stdout",
     "output_type": "stream",
     "text": [
      "alpha:\n",
      "tensor([[1., 1., 1., 1., 1., 1., 1., 1., 1., 1.],\n",
      "        [1., 1., 1., 1., 1., 1., 1., 1., 1., 1.],\n",
      "        [1., 1., 1., 1., 1., 1., 1., 1., 1., 1.],\n",
      "        [1., 1., 1., 1., 1., 1., 1., 1., 1., 1.],\n",
      "        [1., 1., 1., 1., 1., 1., 1., 1., 1., 1.],\n",
      "        [1., 1., 1., 1., 1., 1., 1., 1., 1., 1.],\n",
      "        [1., 1., 1., 1., 1., 1., 1., 1., 1., 1.],\n",
      "        [1., 1., 1., 1., 1., 1., 1., 1., 1., 1.],\n",
      "        [1., 1., 1., 1., 1., 1., 1., 1., 1., 1.],\n",
      "        [1., 1., 1., 1., 1., 1., 1., 1., 1., 1.]])\n",
      "tensor([[1.0000, 0.9422, 0.9104, 0.8929, 0.8846, 0.8682, 0.8584, 0.8465, 0.8349,\n",
      "         0.8295],\n",
      "        [0.9395, 1.0000, 0.9323, 0.9090, 0.8979, 0.8794, 0.8683, 0.8555, 0.8430,\n",
      "         0.8370],\n",
      "        [0.9244, 0.9494, 1.0000, 0.9408, 0.9238, 0.9021, 0.8889, 0.8746, 0.8609,\n",
      "         0.8541],\n",
      "        [0.9067, 0.9258, 0.9409, 1.0000, 0.9475, 0.9198, 0.9036, 0.8873, 0.8722,\n",
      "         0.8644],\n",
      "        [0.8858, 0.9017, 0.9110, 0.9343, 1.0000, 0.9367, 0.9149, 0.8956, 0.8787,\n",
      "         0.8696],\n",
      "        [0.8770, 0.8910, 0.8975, 0.9150, 0.9450, 1.0000, 0.9424, 0.9172, 0.8971,\n",
      "         0.8861],\n",
      "        [0.8642, 0.8768, 0.8815, 0.8960, 0.9199, 0.9393, 1.0000, 0.9391, 0.9132,\n",
      "         0.8992],\n",
      "        [0.8556, 0.8671, 0.8705, 0.8831, 0.9039, 0.9176, 0.9426, 1.0000, 0.9383,\n",
      "         0.9185],\n",
      "        [0.8484, 0.8592, 0.8616, 0.8729, 0.8917, 0.9025, 0.9216, 0.9434, 1.0000,\n",
      "         0.9446],\n",
      "        [0.8362, 0.8463, 0.8480, 0.8582, 0.8755, 0.8843, 0.9004, 0.9163, 0.9371,\n",
      "         1.0000]], dtype=torch.float64)\n",
      "Burn in steps:\n"
     ]
    },
    {
     "name": "stderr",
     "output_type": "stream",
     "text": [
      "100%|██████████| 100000/100000 [00:30<00:00, 3305.61it/s]\n",
      "  0%|          | 342/5000000 [00:00<24:23, 3416.23it/s]"
     ]
    },
    {
     "name": "stdout",
     "output_type": "stream",
     "text": [
      "Burn in acceptance Ratio: 0.70\n",
      "Sampling steps:\n"
     ]
    },
    {
     "name": "stderr",
     "output_type": "stream",
     "text": [
      "100%|██████████| 5000000/5000000 [21:38<00:00, 3851.53it/s]"
     ]
    },
    {
     "name": "stdout",
     "output_type": "stream",
     "text": [
      "Sampling acceptance Ratio: 0.69\n",
      "Size of data K: 10000\n",
      "Done...\n"
     ]
    },
    {
     "name": "stderr",
     "output_type": "stream",
     "text": [
      "\n"
     ]
    }
   ],
   "source": [
    "data_C_all = {}\n",
    "data_C_burn_in_all = {}\n",
    "\n",
    "alpha = torch.ones(nr, nc)\n",
    "    \n",
    "print('alpha:')\n",
    "print(alpha)\n",
    "\n",
    "for noise in noises:\n",
    "    T_g2 = T_g / (r.reshape(10,1)@c.reshape(1, 10))\n",
    "    T_p = rescale_diagonal(T_g2)\n",
    "    T_p, a = addNoise(T_p, noise, row, col, lam)\n",
    "    data_C, data_C_burn_in = sim(T_p.clone(), alpha)\n",
    "    data_C_all[str(noise)] = data_C\n",
    "    data_C_burn_in_all[str(noise)] = data_C_burn_in"
   ]
  },
  {
   "cell_type": "code",
   "execution_count": 104,
   "metadata": {},
   "outputs": [
    {
     "data": {
      "image/png": "[encoded data removed]",
      "text/plain": [
       "<Figure size 432x288 with 1 Axes>"
      ]
     },
     "metadata": {
      "needs_background": "light"
     },
     "output_type": "display_data"
    }
   ],
   "source": [
    "for key in data_C_burn_in_all.keys():\n",
    "    plot_corr(torch.stack(data_C_burn_in_all[key]), lag = 2000)"
   ]
  },
  {
   "cell_type": "code",
   "execution_count": 188,
   "metadata": {},
   "outputs": [
    {
     "data": {
      "image/png": "[encoded data removed]",
      "text/plain": [
       "<Figure size 432x288 with 1 Axes>"
      ]
     },
     "metadata": {
      "needs_background": "light"
     },
     "output_type": "display_data"
    }
   ],
   "source": [
    "C_ma = np.array([[0.        , 0.00607786, 0.00859807, 0.01051897, 0.01214038,\n",
    "        0.01357071, 0.01486319, 0.01606265, 0.01717251, 0.01819884],\n",
    "       [0.00607786, 0.        , 0.00607054, 0.008588  , 0.01050734,\n",
    "        0.01212632, 0.01354579, 0.01484989, 0.01604985, 0.01715327],\n",
    "       [0.00859807, 0.00607054, 0.        , 0.00607616, 0.00858801,\n",
    "        0.0105164 , 0.01214001, 0.0135722 , 0.01486317, 0.01605488],\n",
    "       [0.01051897, 0.008588  , 0.00607616, 0.        , 0.00608002,\n",
    "        0.00859226, 0.01051701, 0.01213616, 0.01357972, 0.0148691 ],\n",
    "       [0.01214038, 0.01050734, 0.00858801, 0.00608002, 0.        ,\n",
    "        0.00607783, 0.00857281, 0.01050925, 0.0121393 , 0.0135565 ],\n",
    "       [0.01357071, 0.01212632, 0.0105164 , 0.00859226, 0.00607783,\n",
    "        0.        , 0.00605887, 0.00857567, 0.01051162, 0.0121344 ],\n",
    "       [0.01486319, 0.01354579, 0.01214001, 0.01051701, 0.00857281,\n",
    "        0.00605887, 0.        , 0.00605794, 0.00856696, 0.01050307],\n",
    "       [0.01606265, 0.01484989, 0.0135722 , 0.01213616, 0.01050925,\n",
    "        0.00857567, 0.00605794, 0.        , 0.00606924, 0.00856412],\n",
    "       [0.01717251, 0.01604985, 0.01486317, 0.01357972, 0.0121393 ,\n",
    "        0.01051162, 0.00856696, 0.00606924, 0.        , 0.00606532],\n",
    "       [0.01819884, 0.01715327, 0.01605488, 0.0148691 , 0.0135565 ,\n",
    "        0.0121344 , 0.01050307, 0.00856412, 0.00606532, 0.        ]])\n",
    "\n",
    "C_ma2 = np.array([[0.        , 0.00607786, 0.00859807, 0.01051897, 0.01214038,\n",
    "        0.01357071, 0.01486319, 0.01606265, 0.01717251, 0.01819884],\n",
    "       [0.00607786, 0.        , 0.00607055, 0.00858801, 0.01050735,\n",
    "        0.01212632, 0.01354579, 0.0148499 , 0.01604986, 0.01715327],\n",
    "       [0.00859807, 0.00607055, 0.        , 0.00607616, 0.00858801,\n",
    "        0.0105164 , 0.01214001, 0.0135722 , 0.01486317, 0.01605488],\n",
    "       [0.01051897, 0.00858801, 0.00607616, 0.        , 0.00608002,\n",
    "        0.00859226, 0.01051702, 0.01213616, 0.01357972, 0.0148691 ],\n",
    "       [0.01214038, 0.01050735, 0.00858801, 0.00608002, 0.        ,\n",
    "        0.00607783, 0.00857281, 0.01050925, 0.0121393 , 0.0135565 ],\n",
    "       [0.01357071, 0.01212632, 0.0105164 , 0.00859226, 0.00607783,\n",
    "        0.        , 0.00605887, 0.00857567, 0.01051162, 0.0121344 ],\n",
    "       [0.01486319, 0.01354579, 0.01214001, 0.01051702, 0.00857281,\n",
    "        0.00605887, 0.        , 0.00605795, 0.00856696, 0.01050308],\n",
    "       [0.01606265, 0.0148499 , 0.0135722 , 0.01213616, 0.01050925,\n",
    "        0.00857567, 0.00605795, 0.        , 0.00606924, 0.00856412],\n",
    "       [0.01717251, 0.01604986, 0.01486317, 0.01357972, 0.0121393 ,\n",
    "        0.01051162, 0.00856696, 0.00606924, 0.        , 0.00606532],\n",
    "       [0.01819884, 0.01715327, 0.01605488, 0.0148691 , 0.0135565 ,\n",
    "        0.0121344 , 0.01050308, 0.00856412, 0.00606532, 0.        ]])\n",
    "\n",
    "\n",
    "matplotlib.rcParams.update({'font.size': 25})\n",
    "plot_pdf_all(data_C_all, C, C_ma, C_ma2)"
   ]
  },
  {
   "cell_type": "code",
   "execution_count": 106,
   "metadata": {},
   "outputs": [
    {
     "data": {
      "image/png": "[encoded data removed]",
      "text/plain": [
       "<Figure size 432x288 with 1 Axes>"
      ]
     },
     "metadata": {
      "needs_background": "light"
     },
     "output_type": "display_data"
    }
   ],
   "source": [
    "for key in data_C_burn_in_all.keys():\n",
    "    plot_row_sum_running_average(data_C_all[key])\n"
   ]
  },
  {
   "cell_type": "code",
   "execution_count": 113,
   "metadata": {},
   "outputs": [
    {
     "name": "stdout",
     "output_type": "stream",
     "text": [
      "[[9.09327548e-07 6.13554832e-03 8.62060203e-03 1.06549558e-02\n",
      "  1.22918839e-02 1.37325100e-02 1.50478162e-02 1.61408525e-02\n",
      "  1.72842042e-02 1.83953167e-02]\n",
      " [6.05930655e-03 9.09397284e-07 6.11269414e-03 8.71029912e-03\n",
      "  1.07170192e-02 1.22358020e-02 1.36607866e-02 1.49304903e-02\n",
      "  1.62107494e-02 1.73428784e-02]\n",
      " [8.62459126e-03 6.08254572e-03 9.14077690e-07 6.11887577e-03\n",
      "  8.65553766e-03 1.06536354e-02 1.22387482e-02 1.36596311e-02\n",
      "  1.49800546e-02 1.62192807e-02]\n",
      " [1.04632291e-02 8.53401761e-03 6.07419255e-03 9.01038192e-07\n",
      "  6.10870515e-03 8.58204736e-03 1.05934922e-02 1.21710792e-02\n",
      "  1.36222715e-02 1.49117004e-02]\n",
      " [1.20932083e-02 1.04026082e-02 8.59047188e-03 6.08411815e-03\n",
      "  9.06661226e-07 6.06094968e-03 8.63041528e-03 1.04924833e-02\n",
      "  1.21647541e-02 1.36650156e-02]\n",
      " [1.35340783e-02 1.21527036e-02 1.04665653e-02 8.66325996e-03\n",
      "  6.13522220e-03 9.05865965e-07 6.06137581e-03 8.55603447e-03\n",
      "  1.05780929e-02 1.21673994e-02]\n",
      " [1.48179620e-02 1.36032942e-02 1.21484864e-02 1.05234791e-02\n",
      "  8.61235117e-03 6.13363187e-03 9.14350205e-07 6.05924216e-03\n",
      "  8.65479767e-03 1.05542842e-02]\n",
      " [1.61188274e-02 1.49365035e-02 1.36051600e-02 1.22147658e-02\n",
      "  1.06291575e-02 8.69007211e-03 6.13518628e-03 8.98181737e-07\n",
      "  6.15676595e-03 8.70533532e-03]\n",
      " [1.72033028e-02 1.60477430e-02 1.48888883e-02 1.36424567e-02\n",
      "  1.22219574e-02 1.05438662e-02 8.58834635e-03 6.03715903e-03\n",
      "  9.15995502e-07 6.10606856e-03]\n",
      " [1.81848612e-02 1.71450149e-02 1.60405553e-02 1.49550019e-02\n",
      "  1.35996387e-02 1.22192792e-02 1.05646078e-02 8.53971658e-03\n",
      "  6.08704796e-03 9.03252802e-07]]\n",
      "0.005149247345298028\n"
     ]
    }
   ],
   "source": [
    "from statistics import median\n",
    "\n",
    "def relative_error(a, b):\n",
    "    return np.linalg.norm(a-b) / np.linalg.norm(b)\n",
    "\n",
    "\n",
    "def get_median(data):\n",
    "    tmp = [data[j].numpy() for j in range(len(data)) ]\n",
    "    med = np.median(tmp, axis=0)\n",
    "    print(med)\n",
    "    error_med = relative_error(torch.tensor(med), C)\n",
    "    return error_med\n",
    "\n",
    "\n",
    "N = len(data_C)\n",
    "steps = 1\n",
    "error = get_median(data_C)\n",
    "print(error)\n"
   ]
  },
  {
   "cell_type": "code",
   "execution_count": 108,
   "metadata": {},
   "outputs": [
    {
     "data": {
      "text/plain": [
       "0.0409455214931525"
      ]
     },
     "execution_count": 108,
     "metadata": {},
     "output_type": "execute_result"
    }
   ],
   "source": [
    "relative_error(-np.log(T_p)/lam, C)"
   ]
  },
  {
   "cell_type": "code",
   "execution_count": null,
   "metadata": {},
   "outputs": [],
   "source": [
    "with open('data_symmetric.pkl', 'wb') as handle:\n",
    "    pickle.dump(data_C_all, handle, protocol=pickle.HIGHEST_PROTOCOL)\n",
    "with open('data_C_burn_in_response.pkl', 'wb') as handle:\n",
    "    pickle.dump(data_C_burn_in_all, handle, protocol=pickle.HIGHEST_PROTOCOL)"
   ]
  },
  {
   "cell_type": "code",
   "execution_count": null,
   "metadata": {},
   "outputs": [],
   "source": []
  }
 ],
 "metadata": {
  "kernelspec": {
   "display_name": "Python 3",
   "language": "python",
   "name": "python3"
  },
  "language_info": {
   "codemirror_mode": {
    "name": "ipython",
    "version": 3
   },
   "file_extension": ".py",
   "mimetype": "text/x-python",
   "name": "python",
   "nbconvert_exporter": "python",
   "pygments_lexer": "ipython3",
   "version": "3.8.5"
  }
 },
 "nbformat": 4,
 "nbformat_minor": 4
}
