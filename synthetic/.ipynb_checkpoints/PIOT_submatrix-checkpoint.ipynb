{
 "cells": [
  {
   "cell_type": "code",
   "execution_count": 1,
   "metadata": {},
   "outputs": [],
   "source": [
    "# %load iot.py\n",
    "import sys\n",
    "sys.path.append('../SRC')\n",
    "import scipy\n",
    "from tqdm import tqdm\n",
    "import numpy as np\n",
    "import pandas as pd\n",
    "import matplotlib.pylab as plt\n",
    "import torch\n",
    "import ot\n",
    "import ot.plot\n",
    "import math\n",
    "import time\n",
    "import Sinkhorn as CoDaS_Sinkhorn\n",
    "import warnings\n",
    "import random\n",
    "warnings.filterwarnings('ignore')\n",
    "\n",
    "def sq_error(A, B):\n",
    "    mse = np.square(np.subtract(A, B)).mean()\n",
    "    return mse\n",
    "\n",
    "def relative_error(A, B):\n",
    "    '''\n",
    "    Calculate relative error between A and B.\n",
    "    error = sqrt( sum_{ij} (A_{ij} - B_{ij})^2 ) / sqrt( sum_{ij} B_{ij}^2 )\n",
    "    '''\n",
    "    err = np.sqrt( np.square(np.subtract(A, B)).sum() ) / np.sqrt( np.square(B).sum() )\n",
    "    return err\n",
    "\n"
   ]
  },
  {
   "cell_type": "code",
   "execution_count": 2,
   "metadata": {},
   "outputs": [],
   "source": [
    "def scaleRow(P, mean, std, ones):\n",
    "    mu = ones * mean\n",
    "    sigma = ones * std\n",
    "    r = torch.normal(mean = mu, std = sigma)\n",
    "    for i in range(len(r)):\n",
    "        r[i] = torch.normal(mean = torch.ones(1)*mean, std = std) if r[i] < 0 else r[i]\n",
    "    r = r.reshape(-1, 1)\n",
    "    P = P * r\n",
    "    \n",
    "    return P\n",
    "    \n",
    "def scaleCol(P, mean, std, ones):\n",
    "    mu = ones * mean\n",
    "    sigma = ones * std\n",
    "    c = torch.normal(mean = mu, std = sigma)\n",
    "    for i in range(len(c)):\n",
    "        c[i] = torch.normal(mean = torch.ones(1)*mean, std = std) if c[i] < 0 else c[i]\n",
    "    P = P * c\n",
    "    \n",
    "    return P\n",
    "\n",
    "def inverseSinkhorn_torch(M, std = 3e-12):\n",
    "    P = M.clone()\n",
    "    mean = 1.0\n",
    "    ones = torch.ones(len(P[0]))\n",
    "    \n",
    "    while std <= 0.25:\n",
    "        P = scaleRow(P, mean, std, ones)\n",
    "        #std *= np.sqrt(len(P[0]))\n",
    "        P = scaleCol(P, mean, std, ones)\n",
    "        std *= np.sqrt(len(P[0]))\n",
    "    \n",
    "    return P\n",
    "        \n",
    "    "
   ]
  },
  {
   "cell_type": "code",
   "execution_count": 35,
   "metadata": {
    "scrolled": true
   },
   "outputs": [],
   "source": [
    "def sk_simulation(op, size, reg = 1.0):\n",
    "\n",
    "    print('--', op, '--')\n",
    "\n",
    "    if op[0] == 'Uniform':\n",
    "        M, r, c = CoDaS_Sinkhorn.genM(size, size)\n",
    "\n",
    "    elif op[0] == 'Dirichlet':\n",
    "        alpha = op[1]\n",
    "        M, r, c = CoDaS_Sinkhorn.genM_Dirichlet(size, size, alpha)\n",
    "\n",
    "    elif op[0] == 'Gaussian':\n",
    "        mean = op[1]\n",
    "        std = op[2]\n",
    "        M, r, c = CoDaS_Sinkhorn.genM_Normal(size, size, mean, std)\n",
    "\n",
    "    ''''''\n",
    "    \n",
    "    stopThr = 1e-9\n",
    "    numItermax = 10000\n",
    "    P = CoDaS_Sinkhorn.sinkhorn_torch(mat=M.clone(), row_sum = r, col_sum = c, \\\n",
    "                                                epsilon=stopThr, max_iter=numItermax)\n",
    "    \n",
    "    print(\"M\")\n",
    "    print(M, '\\n')\n",
    "    print(\"P\")\n",
    "    print(P, '\\n')\n",
    "    \n",
    "    return M, P, r, c"
   ]
  },
  {
   "cell_type": "code",
   "execution_count": 4,
   "metadata": {},
   "outputs": [],
   "source": [
    "'''Functions for drawing contours of Dirichlet distributions.'''\n",
    "\n",
    "\n",
    "from __future__ import division, print_function\n",
    "\n",
    "import numpy as np\n",
    "import matplotlib.pyplot as plt\n",
    "import matplotlib.tri as tri\n",
    "\n",
    "_corners = np.array([[0, 0], [1, 0], [0.5, 0.75**0.5]])\n",
    "_AREA = 0.5 * 1 * 0.75**0.5\n",
    "_triangle = tri.Triangulation(_corners[:, 0], _corners[:, 1])\n",
    "\n",
    "# For each corner of the triangle, the pair of other corners\n",
    "_pairs = [_corners[np.roll(range(3), -i)[1:]] for i in range(3)]\n",
    "# The area of the triangle formed by point xy and another pair or points\n",
    "tri_area = lambda xy, pair: 0.5 * np.linalg.norm(np.cross(*(pair - xy)))\n",
    "\n",
    "def xy2bc(xy, tol=1.e-4):\n",
    "    '''Converts 2D Cartesian coordinates to barycentric.\n",
    "    Arguments:\n",
    "        `xy`: A length-2 sequence containing the x and y value.\n",
    "    '''\n",
    "    coords = np.array([tri_area(xy, p) for p in _pairs]) / _AREA\n",
    "    return np.clip(coords, tol, 1.0 - tol)\n",
    "\n",
    "class Dirichlet(object):\n",
    "    def __init__(self, alpha):\n",
    "        '''Creates Dirichlet distribution with parameter `alpha`.'''\n",
    "        from math import gamma\n",
    "        from operator import mul\n",
    "        self._alpha = np.array(alpha)\n",
    "        self._coef = gamma(np.sum(self._alpha)) / np.multiply.reduce([gamma(a) for a in self._alpha])\n",
    "    def pdf(self, x):\n",
    "        '''Returns pdf value for `x`.'''\n",
    "        from operator import mul\n",
    "        return self._coef * np.multiply.reduce([xx ** (aa - 1)\n",
    "                                                for (xx, aa)in zip(x, self._alpha)])\n",
    "    def sample(self, N):\n",
    "        '''Generates a random sample of size `N`.'''\n",
    "        return np.random.dirichlet(self._alpha, N)\n",
    "\n",
    "def draw_pdf_contours(dist, border=False, nlevels=200, subdiv=8, **kwargs):\n",
    "    '''Draws pdf contours over an equilateral triangle (2-simplex).\n",
    "    Arguments:\n",
    "        `dist`: A distribution instance with a `pdf` method.\n",
    "        `border` (bool): If True, the simplex border is drawn.\n",
    "        `nlevels` (int): Number of contours to draw.\n",
    "        `subdiv` (int): Number of recursive mesh subdivisions to create.\n",
    "        kwargs: Keyword args passed on to `plt.triplot`.\n",
    "    '''\n",
    "    from matplotlib import ticker, cm\n",
    "    import math\n",
    "\n",
    "    refiner = tri.UniformTriRefiner(_triangle)\n",
    "    trimesh = refiner.refine_triangulation(subdiv=subdiv)\n",
    "    pvals = [dist.pdf(xy2bc(xy)) for xy in zip(trimesh.x, trimesh.y)]\n",
    "\n",
    "    plt.tricontourf(trimesh, pvals, nlevels, cmap='jet', **kwargs)\n",
    "    plt.axis('equal')\n",
    "    plt.xlim(0, 1)\n",
    "    plt.ylim(0, 0.75**0.5)\n",
    "    plt.axis('off')\n",
    "    plt.colorbar()\n",
    "    if border is True:\n",
    "        plt.triplot(_triangle, linewidth=1)\n",
    "\n",
    "def plot_points(X, color, ms, barycentric=True, border=True, **kwargs):\n",
    "    '''Plots a set of points in the simplex.\n",
    "    Arguments:\n",
    "        `X` (ndarray): A 2xN array (if in Cartesian coords) or 3xN array\n",
    "                       (if in barycentric coords) of points to plot.\n",
    "        `barycentric` (bool): Indicates if `X` is in barycentric coords.\n",
    "        `border` (bool): If True, the simplex border is drawn.\n",
    "        kwargs: Keyword args passed on to `plt.plot`.\n",
    "    '''\n",
    "    if barycentric is True:\n",
    "        X = X.dot(_corners)\n",
    "    if X.ndim > 1: \n",
    "        plt.plot(X[:, 0], X[:, 1], color+'.', ms=ms, **kwargs)\n",
    "    else:\n",
    "        plt.plot(X[0], X[1], color+'.', ms=ms, **kwargs)\n",
    "    plt.axis('equal')\n",
    "    plt.xlim(0, 1)\n",
    "    plt.ylim(0, 0.75**0.5)\n",
    "    plt.axis('off')\n",
    "    if border is True:\n",
    "        plt.triplot(_triangle, linewidth=1)\n",
    "        \n",
    "def plot_points_density(X, color, ms, barycentric=True, border=True, **kwargs):\n",
    "    '''Plots the density of a set of points in the simplex.\n",
    "    Arguments:\n",
    "        `X` (ndarray): A 2xN array (if in Cartesian coords) or 3xN array\n",
    "                       (if in barycentric coords) of points to plot.\n",
    "        `barycentric` (bool): Indicates if `X` is in barycentric coords.\n",
    "        `border` (bool): If True, the simplex border is drawn.\n",
    "        kwargs: Keyword args passed on to `plt.plot`.\n",
    "    '''\n",
    "    if barycentric is True:\n",
    "        X = X.dot(_corners)\n",
    "    if X.ndim > 1: \n",
    "        bins = 10\n",
    "        plt.tripcolor(X[:, 0], X[:, 1], bins, color=color, **kwargs)\n",
    "    else:\n",
    "        bins = 100\n",
    "        plt.plot(X[0], X[1], bins, color=color+'.', ms=ms, **kwargs)\n",
    "    plt.axis('equal')\n",
    "    plt.xlim(0, 1)\n",
    "    plt.ylim(0, 0.75**0.5)\n",
    "    plt.axis('off')\n",
    "    if border is True:\n",
    "        plt.triplot(_triangle, linewidth=1)\n",
    "    "
   ]
  },
  {
   "cell_type": "markdown",
   "metadata": {},
   "source": [
    "## Simplex plots"
   ]
  },
  {
   "cell_type": "code",
   "execution_count": 7,
   "metadata": {},
   "outputs": [],
   "source": [
    "def bmatrix(a):\n",
    "    \"\"\"Returns a LaTeX bmatrix\n",
    "\n",
    "    :a: numpy array\n",
    "    :returns: LaTeX bmatrix as a string\n",
    "    \"\"\"\n",
    "    a = np.round(a, 3)\n",
    "    if len(a.shape) > 2:\n",
    "        raise ValueError('bmatrix can at most display two dimensions')\n",
    "    lines = str(a).replace('[', '').replace(']', '').splitlines()\n",
    "    rv = [r'\\begin{bmatrix}']\n",
    "    rv += ['  ' + ' & '.join(l.split()) + r'\\\\' for l in lines]\n",
    "    rv +=  [r'\\end{bmatrix}']\n",
    "    return '\\n'.join(rv)\n",
    "\n"
   ]
  },
  {
   "cell_type": "code",
   "execution_count": 47,
   "metadata": {},
   "outputs": [],
   "source": [
    "def normalize_col(M_in):\n",
    "    M = M_in.clone()\n",
    "    nr = len(M)\n",
    "    for j in range(nr):\n",
    "        col_sum = M[:,j].sum()\n",
    "        M[:,j] = M[:,j] / col_sum / nr\n",
    "    return M\n",
    "\n",
    "def generate_M(P, col1s):\n",
    "    '''\n",
    "    Generate a new M with same cross-ratio as P and a known 1st col.\n",
    "    '''\n",
    "    nr = len(P)\n",
    "    col2s, col3s, col4s = [], [], []\n",
    "    for idx in range(len(col1s)):\n",
    "        fac = torch.zeros(nr)\n",
    "        for i in range(nr):\n",
    "            fac[i] = col1s[idx][i] / P[i, 0]\n",
    "        M_new = P.clone()\n",
    "        for i in range(nr):\n",
    "            M_new[i] = M_new[i] * fac[i]\n",
    "        M_new = normalize_col(M_new)*nr\n",
    "        col2s.append(M_new[:, 1].tolist())\n",
    "        col3s.append(M_new[:, 2].tolist())\n",
    "        col4s.append(M_new[:, 3].tolist())\n",
    "    return col2s, col3s, col4s\n"
   ]
  },
  {
   "cell_type": "code",
   "execution_count": 176,
   "metadata": {},
   "outputs": [],
   "source": [
    "def find_b(P, k):\n",
    "    a1 = random.uniform(0, 1); a2 = random.uniform(0, 1)\n",
    "    while a1 + a2 >= 1:\n",
    "        a1 = random.uniform(0, 1); a2 = random.uniform(0, 1)\n",
    "\n",
    "    col1s = []\n",
    "    for i in range(1, 1000):\n",
    "        a3 = float(i)*(1.0-a1-a2)/1000.0\n",
    "        a4 = 1.0 - a1 - a2- a3\n",
    "        col1s.append([a1, a2, a3, a4])\n",
    "\n",
    "    col2s, col3s, col4s = generate_M(P, col1s)\n",
    "    b1s = [num[0] for num in col2s]\n",
    "    b2s = [num[1] for num in col2s]\n",
    "    return a1, a2, b1s, b2s"
   ]
  },
  {
   "cell_type": "code",
   "execution_count": 179,
   "metadata": {},
   "outputs": [],
   "source": [
    "def runs(P=None):\n",
    "    if P is None:\n",
    "        op = ['Dirichlet', 1.0]\n",
    "        size = 4\n",
    "        M, P, r, c = sk_simulation(op, size, reg = 1.0)\n",
    "\n",
    "    a1, a2, b1s, b2s = [], [], [], []\n",
    "\n",
    "    N = 3\n",
    "    for k in range(N):\n",
    "        tmp1, tmp2, tmp3, tmp4 = find_b(P, k)\n",
    "        a1.append(tmp1)\n",
    "        a2.append(tmp2)\n",
    "        b1s.append(tmp3)\n",
    "        b2s.append(tmp4)\n",
    "\n",
    "\n",
    "    print(a1)\n",
    "    print(a2)\n",
    "\n",
    "    colors = ['#1f77b4', '#2ca02c', '#d62728', '#ff7f0e']\n",
    "\n",
    "    fig = plt.figure()\n",
    "    ax = fig.add_subplot(111)\n",
    "    \n",
    "    for i in range(N):\n",
    "        ax.scatter(a1[i], a2[i], c = colors[i], marker = '^')\n",
    "        ax.plot(b1s[i], b2s[i], c = colors[i], lw=3)\n",
    "        dx, dy = np.abs(b1s[i][0] - b1s[i][500]), np.abs(b2s[i][0] - b2s[i][500])\n",
    "        d = dy/dx\n",
    "        x = np.linspace(0, 1/(1+d), 1000)\n",
    "        y = d*x\n",
    "        ax.plot(x, y, c=colors[i], ls=':', lw=1)\n",
    "        \n",
    "    \n",
    "    ax.set_xlim(0, 1)\n",
    "    ax.set_ylim(0, 1)\n",
    "    x = np.linspace(0, 1, 1000)\n",
    "    y = 1 - x\n",
    "    ax.plot(x, y, 'k-', lw=1)\n",
    "    ax.set_aspect('equal')\n",
    "\n"
   ]
  },
  {
   "cell_type": "code",
   "execution_count": 182,
   "metadata": {},
   "outputs": [
    {
     "name": "stdout",
     "output_type": "stream",
     "text": [
      "[0.07848432699697017, 0.12738661925118056, 0.1816442978572994]\n",
      "[0.11214942015500007, 0.7393517284018517, 0.16703603325069316]\n"
     ]
    },
    {
     "data": {
      "image/png": "[encoded data removed]",
      "text/plain": [
       "<Figure size 432x288 with 1 Axes>"
      ]
     },
     "metadata": {
      "needs_background": "light"
     },
     "output_type": "display_data"
    }
   ],
   "source": [
    "P = torch.tensor([[0.3096, 0.3785, 0.0544, 0.2575],\n",
    "        [0.2522, 0.3203, 0.1860, 0.2415],\n",
    "        [0.4318, 0.1433, 0.4196, 0.0053],\n",
    "        [0.0064, 0.1579, 0.3400, 0.4957]])\n",
    "runs(P)"
   ]
  },
  {
   "cell_type": "code",
   "execution_count": 183,
   "metadata": {},
   "outputs": [
    {
     "name": "stdout",
     "output_type": "stream",
     "text": [
      "-- ['Dirichlet', 1.0] --\n",
      "M\n",
      "tensor([[0.0617, 0.0933, 0.0665, 0.0075],\n",
      "        [0.2721, 0.0717, 0.1277, 0.6639],\n",
      "        [0.4674, 0.0877, 0.3440, 0.0866],\n",
      "        [0.1988, 0.7473, 0.4619, 0.2419]], dtype=torch.float64) \n",
      "\n",
      "P\n",
      "tensor([[0.2532, 0.4143, 0.2894, 0.0431],\n",
      "        [0.1925, 0.0548, 0.0958, 0.6569],\n",
      "        [0.4459, 0.0905, 0.3480, 0.1156],\n",
      "        [0.1083, 0.4404, 0.2669, 0.1844]], dtype=torch.float64) \n",
      "\n",
      "[0.6855986471890663, 0.12280009136861625, 0.2593284220792257]\n",
      "[0.25300923488986315, 0.16984083063376176, 0.6229218486219006]\n"
     ]
    },
    {
     "data": {
      "image/png": "[encoded data removed]",
      "text/plain": [
       "<Figure size 432x288 with 1 Axes>"
      ]
     },
     "metadata": {
      "needs_background": "light"
     },
     "output_type": "display_data"
    }
   ],
   "source": [
    "runs()"
   ]
  },
  {
   "cell_type": "code",
   "execution_count": 193,
   "metadata": {},
   "outputs": [
    {
     "name": "stdout",
     "output_type": "stream",
     "text": [
      "-- ['Dirichlet', 1.0] --\n",
      "M\n",
      "tensor([[0.3502, 0.0792, 0.0488, 0.1788],\n",
      "        [0.2460, 0.3020, 0.2800, 0.6926],\n",
      "        [0.1057, 0.4243, 0.0984, 0.0081],\n",
      "        [0.2981, 0.1944, 0.5727, 0.1205]], dtype=torch.float64) \n",
      "\n",
      "P\n",
      "tensor([[0.4790, 0.0994, 0.0838, 0.3378],\n",
      "        [0.1343, 0.1514, 0.1920, 0.5224],\n",
      "        [0.1678, 0.6182, 0.1963, 0.0177],\n",
      "        [0.2189, 0.1310, 0.5279, 0.1222]], dtype=torch.float64) \n",
      "\n",
      "[0.5950435454946855, 0.46164007747443514, 0.20698766689977044]\n",
      "[0.20202805096930054, 0.4490739810802934, 0.3695304843998807]\n"
     ]
    },
    {
     "data": {
      "image/png": "[encoded data removed]",
      "text/plain": [
       "<Figure size 432x288 with 1 Axes>"
      ]
     },
     "metadata": {
      "needs_background": "light"
     },
     "output_type": "display_data"
    }
   ],
   "source": [
    "runs()"
   ]
  },
  {
   "cell_type": "code",
   "execution_count": 197,
   "metadata": {},
   "outputs": [
    {
     "name": "stdout",
     "output_type": "stream",
     "text": [
      "-- ['Dirichlet', 1.0] --\n",
      "M\n",
      "tensor([[0.6067, 0.4097, 0.3785, 0.0167],\n",
      "        [0.2987, 0.3913, 0.4076, 0.5503],\n",
      "        [0.0213, 0.0486, 0.1420, 0.1861],\n",
      "        [0.0733, 0.1505, 0.0720, 0.2468]], dtype=torch.float64) \n",
      "\n",
      "P\n",
      "tensor([[0.4913, 0.2732, 0.2279, 0.0076],\n",
      "        [0.2422, 0.2613, 0.2457, 0.2508],\n",
      "        [0.0783, 0.1473, 0.3889, 0.3854],\n",
      "        [0.1882, 0.3182, 0.1374, 0.3562]], dtype=torch.float64) \n",
      "\n",
      "[0.21824829152944736, 0.2781988902125666, 0.08676467604791693]\n",
      "[0.01362914886598765, 0.5368931213865632, 0.04314369710970378]\n"
     ]
    },
    {
     "data": {
      "image/png": "[encoded data removed]",
      "text/plain": [
       "<Figure size 432x288 with 1 Axes>"
      ]
     },
     "metadata": {
      "needs_background": "light"
     },
     "output_type": "display_data"
    }
   ],
   "source": [
    "runs()"
   ]
  },
  {
   "cell_type": "markdown",
   "metadata": {},
   "source": [
    "Color order: blue, green, red"
   ]
  },
  {
   "cell_type": "code",
   "execution_count": null,
   "metadata": {},
   "outputs": [],
   "source": []
  }
 ],
 "metadata": {
  "kernelspec": {
   "display_name": "Python 3",
   "language": "python",
   "name": "python3"
  },
  "language_info": {
   "codemirror_mode": {
    "name": "ipython",
    "version": 3
   },
   "file_extension": ".py",
   "mimetype": "text/x-python",
   "name": "python",
   "nbconvert_exporter": "python",
   "pygments_lexer": "ipython3",
   "version": "3.8.5"
  }
 },
 "nbformat": 4,
 "nbformat_minor": 4
}
